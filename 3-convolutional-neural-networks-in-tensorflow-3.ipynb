{
 "cells": [
  {
   "cell_type": "code",
   "execution_count": 1,
   "id": "eb3351cd",
   "metadata": {
    "execution": {
     "iopub.execute_input": "2023-05-31T21:37:18.705325Z",
     "iopub.status.busy": "2023-05-31T21:37:18.704857Z",
     "iopub.status.idle": "2023-05-31T21:37:26.459897Z",
     "shell.execute_reply": "2023-05-31T21:37:26.458959Z"
    },
    "papermill": {
     "duration": 7.795103,
     "end_time": "2023-05-31T21:37:26.462463",
     "exception": false,
     "start_time": "2023-05-31T21:37:18.667360",
     "status": "completed"
    },
    "tags": []
   },
   "outputs": [
    {
     "name": "stderr",
     "output_type": "stream",
     "text": [
      "/opt/conda/lib/python3.10/site-packages/tensorflow_io/python/ops/__init__.py:98: UserWarning: unable to load libtensorflow_io_plugins.so: unable to open file: libtensorflow_io_plugins.so, from paths: ['/opt/conda/lib/python3.10/site-packages/tensorflow_io/python/ops/libtensorflow_io_plugins.so']\n",
      "caused by: ['/opt/conda/lib/python3.10/site-packages/tensorflow_io/python/ops/libtensorflow_io_plugins.so: undefined symbol: _ZN3tsl6StatusC1EN10tensorflow5error4CodeESt17basic_string_viewIcSt11char_traitsIcEENS_14SourceLocationE']\n",
      "  warnings.warn(f\"unable to load libtensorflow_io_plugins.so: {e}\")\n",
      "/opt/conda/lib/python3.10/site-packages/tensorflow_io/python/ops/__init__.py:104: UserWarning: file system plugins are not loaded: unable to open file: libtensorflow_io.so, from paths: ['/opt/conda/lib/python3.10/site-packages/tensorflow_io/python/ops/libtensorflow_io.so']\n",
      "caused by: ['/opt/conda/lib/python3.10/site-packages/tensorflow_io/python/ops/libtensorflow_io.so: undefined symbol: _ZTVN10tensorflow13GcsFileSystemE']\n",
      "  warnings.warn(f\"file system plugins are not loaded: {e}\")\n"
     ]
    }
   ],
   "source": [
    "import tensorflow as tf"
   ]
  },
  {
   "cell_type": "code",
   "execution_count": 2,
   "id": "92a78f3b",
   "metadata": {
    "execution": {
     "iopub.execute_input": "2023-05-31T21:37:26.533897Z",
     "iopub.status.busy": "2023-05-31T21:37:26.533047Z",
     "iopub.status.idle": "2023-05-31T21:37:26.539924Z",
     "shell.execute_reply": "2023-05-31T21:37:26.539094Z"
    },
    "papermill": {
     "duration": 0.044105,
     "end_time": "2023-05-31T21:37:26.541858",
     "exception": false,
     "start_time": "2023-05-31T21:37:26.497753",
     "status": "completed"
    },
    "tags": []
   },
   "outputs": [
    {
     "data": {
      "text/plain": [
       "'2.12.0'"
      ]
     },
     "execution_count": 2,
     "metadata": {},
     "output_type": "execute_result"
    }
   ],
   "source": [
    "tf.__version__"
   ]
  },
  {
   "cell_type": "code",
   "execution_count": 3,
   "id": "2a43f116",
   "metadata": {
    "execution": {
     "iopub.execute_input": "2023-05-31T21:37:26.611660Z",
     "iopub.status.busy": "2023-05-31T21:37:26.611108Z",
     "iopub.status.idle": "2023-05-31T21:37:26.619421Z",
     "shell.execute_reply": "2023-05-31T21:37:26.618605Z"
    },
    "papermill": {
     "duration": 0.045199,
     "end_time": "2023-05-31T21:37:26.621414",
     "exception": false,
     "start_time": "2023-05-31T21:37:26.576215",
     "status": "completed"
    },
    "tags": []
   },
   "outputs": [],
   "source": [
    "# Adjust function to work with multi-class\n",
    "def pred_and_plot(model, filename, class_names):\n",
    "  \"\"\"\n",
    "  Imports an image located at filename, makes a prediction on it with\n",
    "  a trained model and plots the image with the predicted class as the title.\n",
    "  \"\"\"\n",
    "  # Import the target image and preprocess it\n",
    "  img = load_and_prep_image(filename)\n",
    "\n",
    "  # Make a prediction\n",
    "  pred = model.predict(tf.expand_dims(img, axis=0))\n",
    "\n",
    "  # Get the predicted class\n",
    "  if len(pred[0]) > 1: # check for multi-class\n",
    "    pred_class = class_names[pred.argmax()] # if more than one output, take the max\n",
    "  else:\n",
    "    pred_class = class_names[int(tf.round(pred)[0][0])] # if only one output, round\n",
    "\n",
    "  # Plot the image and predicted class\n",
    "  plt.imshow(img)\n",
    "  plt.title(f\"Prediction: {pred_class}\")\n",
    "  plt.axis(False);"
   ]
  },
  {
   "cell_type": "markdown",
   "id": "c08f7a96",
   "metadata": {
    "papermill": {
     "duration": 0.033891,
     "end_time": "2023-05-31T21:37:26.689155",
     "exception": false,
     "start_time": "2023-05-31T21:37:26.655264",
     "status": "completed"
    },
    "tags": []
   },
   "source": [
    "# 03. Convolutional Neural Networks and Computer Vision with TensorFlow\n",
    "\n",
    "So far we've covered the basics of TensorFlow and built a handful of models to work across different problems.\n",
    "\n",
    "Now we're going to get specific and see how a special kind of neural network, [convolutional neural networks (CNNs)](https://en.wikipedia.org/wiki/Convolutional_neural_network) can be used for computer vision (detecting patterns in visual data).\n",
    "\n",
    "> 🔑 **Note:** In deep learning, many different kinds of model architectures can be used for different problems. For example, you could use a convolutional neural network for making predictions on image data and/or text data. However, in practice some architectures typically work better than others.\n",
    "\n",
    "For example, you might want to:\n",
    "* Classify whether a picture of food contains pizza 🍕 or steak 🥩 (we're going to do this)\n",
    "* Detect whether or not an object appears in an image (e.g. did a specific car pass through a security camera?)\n",
    "\n",
    "In this notebook, we're going to follow the TensorFlow modelling workflow we've been following so far whilst learning about how to build and use CNNs.\n",
    "\n",
    "## What we're going to cover\n",
    "\n",
    "Specifically, we're going to go through the follow with TensorFlow:\n",
    "\n",
    "- Getting a dataset to work with\n",
    "- Architecture of a convolutional neural network\n",
    "- A quick end-to-end example (what we're working towards)\n",
    "- Steps in modelling for binary image classification with CNNs\n",
    "  - Becoming one with the data\n",
    "  - Preparing data for modelling\n",
    "  - Creating a CNN model (starting with a baseline)\n",
    "  - Fitting a model (getting it to find patterns in our data)\n",
    "  - Evaluating a model\n",
    "  - Improving a model\n",
    "  - Making a prediction with a trained model\n",
    "- Steps in modelling for multi-class image classification with CNNs\n",
    " - Same as above (but this time with a different dataset)\n",
    "\n",
    "## How you can use this notebook\n",
    "\n",
    "You can read through the descriptions and the code (it should all run, except for the cells which error on purpose), but there's a better option.\n",
    "\n",
    "Write all of the code yourself.\n",
    "\n",
    "Yes. I'm serious. Create a new notebook, and rewrite each line by yourself. Investigate it, see if you can break it, why does it break?\n",
    "\n",
    "You don't have to write the text descriptions but writing the code yourself is a great way to get hands-on experience.\n",
    "\n",
    "Don't worry if you make mistakes, we all do. The way to get better and make less mistakes is to **write more code**."
   ]
  },
  {
   "cell_type": "markdown",
   "id": "487c0305",
   "metadata": {
    "papermill": {
     "duration": 0.034279,
     "end_time": "2023-05-31T21:37:26.757921",
     "exception": false,
     "start_time": "2023-05-31T21:37:26.723642",
     "status": "completed"
    },
    "tags": []
   },
   "source": [
    "## Get the data\n",
    "\n",
    "Because convolutional neural networks work so well with images, to learn more about them, we're going to start with a dataset of images.\n",
    "\n",
    "The images we're going to work with are from the [Food-101 dataset](https://data.vision.ee.ethz.ch/cvl/datasets_extra/food-101/), a collection of 101 different categories of 101,000 (1000 images per category) real-world images of food dishes. \n",
    "\n",
    "To begin, we're only going to use two of the categories, pizza 🍕 and steak 🥩 and build a binary classifier.\n",
    "\n",
    "> 🔑 **Note:** To prepare the data we're using, preprocessing steps such as, moving the images into different subset folders, have been done. To see these preprocessing steps check out [the preprocessing notebook](https://github.com/mrdbourke/tensorflow-deep-learning/blob/main/extras/image_data_modification.ipynb).\n",
    "\n",
    "We'll download the `pizza_steak` subset .zip file and unzip it."
   ]
  },
  {
   "cell_type": "code",
   "execution_count": 4,
   "id": "363ccfa6",
   "metadata": {
    "execution": {
     "iopub.execute_input": "2023-05-31T21:37:26.827196Z",
     "iopub.status.busy": "2023-05-31T21:37:26.826901Z",
     "iopub.status.idle": "2023-05-31T21:37:26.831295Z",
     "shell.execute_reply": "2023-05-31T21:37:26.830210Z"
    },
    "papermill": {
     "duration": 0.041327,
     "end_time": "2023-05-31T21:37:26.833257",
     "exception": false,
     "start_time": "2023-05-31T21:37:26.791930",
     "status": "completed"
    },
    "tags": []
   },
   "outputs": [],
   "source": [
    "# import zipfile\n",
    "\n",
    "# # Download zip file of pizza_steak images\n",
    "# !wget https://storage.googleapis.com/ztm_tf_course/food_vision/pizza_steak.zip \n",
    "\n",
    "# # Unzip the downloaded file\n",
    "# zip_ref = zipfile.ZipFile(\"pizza_steak.zip\", \"r\")\n",
    "# zip_ref.extractall()\n",
    "# zip_ref.close()"
   ]
  },
  {
   "cell_type": "markdown",
   "id": "674b76ea",
   "metadata": {
    "papermill": {
     "duration": 0.034165,
     "end_time": "2023-05-31T21:37:26.901643",
     "exception": false,
     "start_time": "2023-05-31T21:37:26.867478",
     "status": "completed"
    },
    "tags": []
   },
   "source": [
    "> 🔑 **Note:** If you're using Google Colab and your runtime disconnects, you may have to redownload the files. You can do this by rerunning the cell above."
   ]
  },
  {
   "cell_type": "markdown",
   "id": "6b6be152",
   "metadata": {
    "papermill": {
     "duration": 0.034435,
     "end_time": "2023-05-31T21:37:26.970328",
     "exception": false,
     "start_time": "2023-05-31T21:37:26.935893",
     "status": "completed"
    },
    "tags": []
   },
   "source": [
    "## Inspect the data (become one with it)\n",
    "\n",
    "A very crucial step at the beginning of any machine learning project is becoming one with the data. This usually means plenty of visualizing and folder scanning to understand the data you're working with.\n",
    "\n",
    "Wtih this being said, let's inspect the data we just downloaded.\n",
    "\n",
    "The file structure has been formatted to be in a typical format you might use for working with images.\n",
    "\n",
    "More specifically:\n",
    "* A `train` directory which contains all of the images in the training dataset with subdirectories each named after a certain class containing images of that class.\n",
    "* A `test` directory with the same structure as the `train` directory.\n",
    "\n",
    "```\n",
    "Example of file structure\n",
    "\n",
    "pizza_steak <- top level folder\n",
    "└───train <- training images\n",
    "│   └───pizza\n",
    "│   │   │   1008104.jpg\n",
    "│   │   │   1638227.jpg\n",
    "│   │   │   ...      \n",
    "│   └───steak\n",
    "│       │   1000205.jpg\n",
    "│       │   1647351.jpg\n",
    "│       │   ...\n",
    "│   \n",
    "└───test <- testing images\n",
    "│   └───pizza\n",
    "│   │   │   1001116.jpg\n",
    "│   │   │   1507019.jpg\n",
    "│   │   │   ...      \n",
    "│   └───steak\n",
    "│       │   100274.jpg\n",
    "│       │   1653815.jpg\n",
    "│       │   ...    \n",
    " ```\n",
    "\n",
    "Let's inspect each of the directories we've downloaded.\n",
    "\n",
    "To so do, we can use the command `ls` which stands for list."
   ]
  },
  {
   "cell_type": "code",
   "execution_count": 5,
   "id": "3e15e92f",
   "metadata": {
    "execution": {
     "iopub.execute_input": "2023-05-31T21:37:27.040193Z",
     "iopub.status.busy": "2023-05-31T21:37:27.039804Z",
     "iopub.status.idle": "2023-05-31T21:37:27.975079Z",
     "shell.execute_reply": "2023-05-31T21:37:27.973983Z"
    },
    "papermill": {
     "duration": 0.972991,
     "end_time": "2023-05-31T21:37:27.977509",
     "exception": false,
     "start_time": "2023-05-31T21:37:27.004518",
     "status": "completed"
    },
    "tags": []
   },
   "outputs": [
    {
     "name": "stdout",
     "output_type": "stream",
     "text": [
      "ls: cannot access 'pizza_steak': No such file or directory\r\n"
     ]
    }
   ],
   "source": [
    "!ls pizza_steak"
   ]
  },
  {
   "cell_type": "code",
   "execution_count": 6,
   "id": "5e4f583c",
   "metadata": {
    "execution": {
     "iopub.execute_input": "2023-05-31T21:37:28.050157Z",
     "iopub.status.busy": "2023-05-31T21:37:28.049806Z",
     "iopub.status.idle": "2023-05-31T21:37:29.041126Z",
     "shell.execute_reply": "2023-05-31T21:37:29.040043Z"
    },
    "papermill": {
     "duration": 1.029473,
     "end_time": "2023-05-31T21:37:29.043468",
     "exception": false,
     "start_time": "2023-05-31T21:37:28.013995",
     "status": "completed"
    },
    "tags": []
   },
   "outputs": [
    {
     "name": "stdout",
     "output_type": "stream",
     "text": [
      "ls: cannot access 'pizza_steak/train/': No such file or directory\r\n"
     ]
    }
   ],
   "source": [
    "!ls pizza_steak/train/"
   ]
  },
  {
   "cell_type": "code",
   "execution_count": 7,
   "id": "fac7f676",
   "metadata": {
    "execution": {
     "iopub.execute_input": "2023-05-31T21:37:29.115253Z",
     "iopub.status.busy": "2023-05-31T21:37:29.114400Z",
     "iopub.status.idle": "2023-05-31T21:37:30.058378Z",
     "shell.execute_reply": "2023-05-31T21:37:30.057262Z"
    },
    "papermill": {
     "duration": 0.982095,
     "end_time": "2023-05-31T21:37:30.060724",
     "exception": false,
     "start_time": "2023-05-31T21:37:29.078629",
     "status": "completed"
    },
    "tags": []
   },
   "outputs": [
    {
     "name": "stdout",
     "output_type": "stream",
     "text": [
      "ls: cannot access 'pizza_steak/train/steak/': No such file or directory\r\n"
     ]
    }
   ],
   "source": [
    "!ls pizza_steak/train/steak/"
   ]
  },
  {
   "cell_type": "markdown",
   "id": "6e9fee88",
   "metadata": {
    "papermill": {
     "duration": 0.034481,
     "end_time": "2023-05-31T21:37:30.130149",
     "exception": false,
     "start_time": "2023-05-31T21:37:30.095668",
     "status": "completed"
    },
    "tags": []
   },
   "source": [
    "Woah, a whole bunch of images. But how many?\n",
    "\n",
    "> 🛠 **Practice:** Try listing the same information for the `pizza` directory in the `test` folder."
   ]
  },
  {
   "cell_type": "code",
   "execution_count": 8,
   "id": "828bb77b",
   "metadata": {
    "execution": {
     "iopub.execute_input": "2023-05-31T21:37:30.201296Z",
     "iopub.status.busy": "2023-05-31T21:37:30.200353Z",
     "iopub.status.idle": "2023-05-31T21:37:30.206150Z",
     "shell.execute_reply": "2023-05-31T21:37:30.205314Z"
    },
    "papermill": {
     "duration": 0.043532,
     "end_time": "2023-05-31T21:37:30.208106",
     "exception": false,
     "start_time": "2023-05-31T21:37:30.164574",
     "status": "completed"
    },
    "tags": []
   },
   "outputs": [],
   "source": [
    "import os\n",
    "\n",
    "# Walk through pizza_steak directory and list number of files\n",
    "for dirpath, dirnames, filenames in os.walk(\"pizza_steak\"):\n",
    "  print(f\"There are {len(dirnames)} directories and {len(filenames)} images in '{dirpath}'.\")"
   ]
  },
  {
   "cell_type": "code",
   "execution_count": 9,
   "id": "eeb5a959",
   "metadata": {
    "execution": {
     "iopub.execute_input": "2023-05-31T21:37:30.279197Z",
     "iopub.status.busy": "2023-05-31T21:37:30.278450Z",
     "iopub.status.idle": "2023-05-31T21:37:31.089042Z",
     "shell.execute_reply": "2023-05-31T21:37:31.087162Z"
    },
    "papermill": {
     "duration": 0.848202,
     "end_time": "2023-05-31T21:37:31.090647",
     "exception": true,
     "start_time": "2023-05-31T21:37:30.242445",
     "status": "failed"
    },
    "tags": []
   },
   "outputs": [
    {
     "ename": "FileNotFoundError",
     "evalue": "[Errno 2] No such file or directory: 'pizza_steak/train/steak'",
     "output_type": "error",
     "traceback": [
      "\u001b[0;31m---------------------------------------------------------------------------\u001b[0m",
      "\u001b[0;31mFileNotFoundError\u001b[0m                         Traceback (most recent call last)",
      "Cell \u001b[0;32mIn[9], line 2\u001b[0m\n\u001b[1;32m      1\u001b[0m \u001b[38;5;66;03m# Another way to find out how many images are in a file\u001b[39;00m\n\u001b[0;32m----> 2\u001b[0m num_steak_images_train \u001b[38;5;241m=\u001b[39m \u001b[38;5;28mlen\u001b[39m(\u001b[43mos\u001b[49m\u001b[38;5;241;43m.\u001b[39;49m\u001b[43mlistdir\u001b[49m\u001b[43m(\u001b[49m\u001b[38;5;124;43m\"\u001b[39;49m\u001b[38;5;124;43mpizza_steak/train/steak\u001b[39;49m\u001b[38;5;124;43m\"\u001b[39;49m\u001b[43m)\u001b[49m)\n\u001b[1;32m      4\u001b[0m num_steak_images_train\n",
      "\u001b[0;31mFileNotFoundError\u001b[0m: [Errno 2] No such file or directory: 'pizza_steak/train/steak'"
     ]
    }
   ],
   "source": [
    "# Another way to find out how many images are in a file\n",
    "num_steak_images_train = len(os.listdir(\"pizza_steak/train/steak\"))\n",
    "\n",
    "num_steak_images_train"
   ]
  },
  {
   "cell_type": "code",
   "execution_count": null,
   "id": "b3cd2ba5",
   "metadata": {
    "papermill": {
     "duration": null,
     "end_time": null,
     "exception": null,
     "start_time": null,
     "status": "pending"
    },
    "tags": []
   },
   "outputs": [],
   "source": [
    "# Get the class names (programmatically, this is much more helpful with a longer list of classes)\n",
    "import pathlib\n",
    "import numpy as np\n",
    "data_dir = pathlib.Path(\"pizza_steak/train/\") # turn our training path into a Python path\n",
    "class_names = np.array(sorted([item.name for item in data_dir.glob('*')])) # created a list of class_names from the subdirectories\n",
    "print(class_names)"
   ]
  },
  {
   "cell_type": "markdown",
   "id": "9daf6a03",
   "metadata": {
    "papermill": {
     "duration": null,
     "end_time": null,
     "exception": null,
     "start_time": null,
     "status": "pending"
    },
    "tags": []
   },
   "source": [
    "Okay, so we've got a collection of 750 training images and 250 testing images of pizza and steak.\n",
    "\n",
    "Let's look at some.\n",
    "\n",
    "> 🤔 **Note:** Whenever you're working with data, it's always good to visualize it as much as possible. Treat your first couple of steps of a project as becoming one with the data. **Visualize, visualize, visualize.**"
   ]
  },
  {
   "cell_type": "code",
   "execution_count": null,
   "id": "b59db5de",
   "metadata": {
    "papermill": {
     "duration": null,
     "end_time": null,
     "exception": null,
     "start_time": null,
     "status": "pending"
    },
    "tags": []
   },
   "outputs": [],
   "source": [
    "# View an image\n",
    "import matplotlib.pyplot as plt\n",
    "import matplotlib.image as mpimg\n",
    "import random\n",
    "\n",
    "def view_random_image(target_dir, target_class):\n",
    "  # Setup target directory (we'll view images from here)\n",
    "  target_folder = target_dir+target_class\n",
    "\n",
    "  # Get a random image path\n",
    "  random_image = random.sample(os.listdir(target_folder), 1)\n",
    "\n",
    "  # Read in the image and plot it using matplotlib\n",
    "  img = mpimg.imread(target_folder + \"/\" + random_image[0])\n",
    "  plt.imshow(img)\n",
    "  plt.title(target_class)\n",
    "  plt.axis(\"off\");\n",
    "\n",
    "  print(f\"Image shape: {img.shape}\") # show the shape of the image\n",
    "\n",
    "  return img"
   ]
  },
  {
   "cell_type": "code",
   "execution_count": null,
   "id": "700cad38",
   "metadata": {
    "papermill": {
     "duration": null,
     "end_time": null,
     "exception": null,
     "start_time": null,
     "status": "pending"
    },
    "tags": []
   },
   "outputs": [],
   "source": [
    "# View a random image from the training dataset\n",
    "img = view_random_image(target_dir=\"pizza_steak/train/\",\n",
    "                        target_class=\"steak\")"
   ]
  },
  {
   "cell_type": "markdown",
   "id": "81723529",
   "metadata": {
    "papermill": {
     "duration": null,
     "end_time": null,
     "exception": null,
     "start_time": null,
     "status": "pending"
    },
    "tags": []
   },
   "source": [
    "After going through a dozen or so images from the different classes, you can start to get an idea of what we're working with.\n",
    "\n",
    "The entire Food101 dataset comprises of similar images from 101 different classes.\n",
    "\n",
    "You might've noticed we've been printing the image shape alongside the plotted image.\n",
    "\n",
    "This is because the way our computer sees the image is in the form of a big array (tensor)."
   ]
  },
  {
   "cell_type": "code",
   "execution_count": null,
   "id": "682c0db9",
   "metadata": {
    "papermill": {
     "duration": null,
     "end_time": null,
     "exception": null,
     "start_time": null,
     "status": "pending"
    },
    "tags": []
   },
   "outputs": [],
   "source": [
    "# View the img (actually just a big array/tensor)\n",
    "img"
   ]
  },
  {
   "cell_type": "code",
   "execution_count": null,
   "id": "3573d5c4",
   "metadata": {
    "papermill": {
     "duration": null,
     "end_time": null,
     "exception": null,
     "start_time": null,
     "status": "pending"
    },
    "tags": []
   },
   "outputs": [],
   "source": [
    "# View the image shape\n",
    "img.shape # returns (width, height, colour channels)"
   ]
  },
  {
   "cell_type": "markdown",
   "id": "9f917567",
   "metadata": {
    "papermill": {
     "duration": null,
     "end_time": null,
     "exception": null,
     "start_time": null,
     "status": "pending"
    },
    "tags": []
   },
   "source": [
    "Looking at the image shape more closely, you'll see it's in the form `(Width, Height, Colour Channels)`.\n",
    "\n",
    "In our case, the width and height vary but because we're dealing with colour images, the colour channels value is always 3. This is for different values of [red, green and blue (RGB) pixels](https://en.wikipedia.org/wiki/RGB_color_model).\n",
    "\n",
    "You'll notice all of the values in the `img` array are between 0 and 255. This is because that's the possible range for red, green and blue values.\n",
    "\n",
    "For example, a pixel with a value `red=0, green=0, blue=255` will look very blue.\n",
    "\n",
    "So when we build a model to differentiate between our images of `pizza` and `steak`, it will be finding patterns in these different pixel values which determine what each class looks like.\n",
    "\n",
    "> 🔑 **Note:** As we've discussed before, many machine learning models, including neural networks prefer the values they work with to be between 0 and 1. Knowing this, one of the most common preprocessing steps for working with images is to **scale** (also referred to as **normalize**) their pixel values by dividing the image arrays by 255."
   ]
  },
  {
   "cell_type": "code",
   "execution_count": null,
   "id": "eacd7f27",
   "metadata": {
    "papermill": {
     "duration": null,
     "end_time": null,
     "exception": null,
     "start_time": null,
     "status": "pending"
    },
    "tags": []
   },
   "outputs": [],
   "source": [
    "# Get all the pixel values between 0 & 1\n",
    "img/255. "
   ]
  },
  {
   "cell_type": "markdown",
   "id": "6ef39279",
   "metadata": {
    "papermill": {
     "duration": null,
     "end_time": null,
     "exception": null,
     "start_time": null,
     "status": "pending"
    },
    "tags": []
   },
   "source": [
    "## A (typical) architecture of a convolutional neural network\n",
    "\n",
    "Convolutional neural networks are no different to other kinds of deep learning neural networks in the fact they can be created in many different ways. What you see below are some components you'd expect to find in a traditional CNN."
   ]
  },
  {
   "cell_type": "markdown",
   "id": "6acb61a1",
   "metadata": {
    "papermill": {
     "duration": null,
     "end_time": null,
     "exception": null,
     "start_time": null,
     "status": "pending"
    },
    "tags": []
   },
   "source": [
    "\n",
    "Components of a convolutional neural network:\n",
    "\n",
    "| **Hyperparameter/Layer type** | **What does it do?** | **Typical values** |\n",
    "| ----- | ----- | ----- |\n",
    "| Input image(s) | Target images you'd like to discover patterns in| Whatever you can take a photo (or video) of |\n",
    "| Input layer | Takes in target images and preprocesses them for further layers | `input_shape = [batch_size, image_height, image_width, color_channels]` |\n",
    "| Convolution layer | Extracts/learns the most important features from target images | Multiple, can create with [`tf.keras.layers.ConvXD`](https://www.tensorflow.org/api_docs/python/tf/keras/layers/Conv2D) (X can be multiple values) |\n",
    "| Hidden activation | Adds non-linearity to learned features (non-straight lines) | Usually ReLU ([`tf.keras.activations.relu`](https://www.tensorflow.org/api_docs/python/tf/keras/activations/relu)) |\n",
    "| Pooling layer | Reduces the dimensionality of learned image features | Average ([`tf.keras.layers.AvgPool2D`](https://www.tensorflow.org/api_docs/python/tf/keras/layers/AveragePooling2D)) or Max ([`tf.keras.layers.MaxPool2D`](https://www.tensorflow.org/api_docs/python/tf/keras/layers/MaxPool2D)) |\n",
    "| Fully connected layer | Further refines learned features from convolution layers | [`tf.keras.layers.Dense`](https://www.tensorflow.org/api_docs/python/tf/keras/layers/Dense) |\n",
    "| Output layer | Takes learned features and outputs them in shape of target labels | `output_shape = [number_of_classes]` (e.g. 3 for pizza, steak or sushi)|\n",
    "| Output activation | Adds non-linearities to output layer | [`tf.keras.activations.sigmoid`](https://www.tensorflow.org/api_docs/python/tf/keras/activations/sigmoid) (binary classification) or [`tf.keras.activations.softmax`](https://www.tensorflow.org/api_docs/python/tf/keras/activations/softmax) |\n",
    "\n",
    "How they stack together:\n",
    "\n",
    "![](https://raw.githubusercontent.com/mrdbourke/tensorflow-deep-learning/main/images/03-simple-convnet.png)\n",
    "*A simple example of how you might stack together the above layers into a convolutional neural network. Note the convolutional and pooling layers can often be arranged and rearranged into many different formations.*"
   ]
  },
  {
   "cell_type": "markdown",
   "id": "45707361",
   "metadata": {
    "papermill": {
     "duration": null,
     "end_time": null,
     "exception": null,
     "start_time": null,
     "status": "pending"
    },
    "tags": []
   },
   "source": [
    "## An end-to-end example\n",
    "\n",
    "We've checked out our data and found there's 750 training images, as well as 250 test images per class and they're all of various different shapes. \n",
    "\n",
    "It's time to jump straight in the deep end.\n",
    "\n",
    "Reading the [original dataset authors paper](https://data.vision.ee.ethz.ch/cvl/datasets_extra/food-101/static/bossard_eccv14_food-101.pdf), we see they used a [Random Forest machine learning model](https://medium.com/@williamkoehrsen/random-forest-simple-explanation-377895a60d2d) and averaged 50.76% accuracy at predicting what different foods different images had in them.\n",
    "\n",
    "From now on, that 50.76% will be our baseline.\n",
    "\n",
    "> 🔑 **Note:** A **baseline** is a score or evaluation metric you want to try and beat. Usually you'll start with a simple model, create a baseline and try to beat it by increasing the complexity of the model. A really fun way to learn machine learning is to find some kind of modelling paper with a published result and try to beat it.\n",
    "\n",
    "The code in the following cell replicates and end-to-end way to model our `pizza_steak` dataset with a convolutional neural network (CNN) using the components listed above.\n",
    "\n",
    "There will be a bunch of things you might not recognize but step through the code yourself and see if you can figure out what it's doing.\n",
    "\n",
    "We'll go through each of the steps later on in the notebook.\n",
    "\n",
    "For reference, the model we're using replicates TinyVGG, the computer vision architecture which fuels the [CNN explainer webpage](https://poloclub.github.io/cnn-explainer/).\n",
    "\n",
    "> 📖 **Resource:** The architecture we're using below is a scaled-down version of [VGG-16](https://arxiv.org/abs/1505.06798), a convolutional neural network which came 2nd in the 2014 [ImageNet classification competition](http://image-net.org/)."
   ]
  },
  {
   "cell_type": "code",
   "execution_count": null,
   "id": "939bd4dc",
   "metadata": {
    "papermill": {
     "duration": null,
     "end_time": null,
     "exception": null,
     "start_time": null,
     "status": "pending"
    },
    "tags": []
   },
   "outputs": [],
   "source": [
    "import tensorflow as tf\n",
    "from tensorflow.keras.preprocessing.image import ImageDataGenerator\n",
    "\n",
    "# Set the seed\n",
    "tf.random.set_seed(42)\n",
    "\n",
    "# Preprocess data (get all of the pixel values between 1 and 0, also called scaling/normalization)\n",
    "train_datagen = ImageDataGenerator(rescale=1./255)\n",
    "valid_datagen = ImageDataGenerator(rescale=1./255)\n",
    "\n",
    "# Setup the train and test directories\n",
    "train_dir = \"pizza_steak/train/\"\n",
    "test_dir = \"pizza_steak/test/\"\n",
    "\n",
    "# Import data from directories and turn it into batches\n",
    "train_data = train_datagen.flow_from_directory(train_dir,\n",
    "                                               batch_size=32, # number of images to process at a time \n",
    "                                               target_size=(224, 224), # convert all images to be 224 x 224\n",
    "                                               class_mode=\"binary\", # type of problem we're working on\n",
    "                                               seed=42)\n",
    "\n",
    "valid_data = valid_datagen.flow_from_directory(test_dir,\n",
    "                                               batch_size=32,\n",
    "                                               target_size=(224, 224),\n",
    "                                               class_mode=\"binary\",\n",
    "                                               seed=42)\n",
    "\n",
    "# Create a CNN model (same as Tiny VGG - https://poloclub.github.io/cnn-explainer/)\n",
    "model_1 = tf.keras.models.Sequential([\n",
    "  tf.keras.layers.Conv2D(filters=10, \n",
    "                         kernel_size=3, # can also be (3, 3)\n",
    "                         activation=\"relu\", \n",
    "                         input_shape=(224, 224, 3)), # first layer specifies input shape (height, width, colour channels)\n",
    "  tf.keras.layers.Conv2D(10, 3, activation=\"relu\"),\n",
    "  tf.keras.layers.MaxPool2D(pool_size=2, # pool_size can also be (2, 2)\n",
    "                            padding=\"valid\"), # padding can also be 'same'\n",
    "  tf.keras.layers.Conv2D(10, 3, activation=\"relu\"),\n",
    "  tf.keras.layers.Conv2D(10, 3, activation=\"relu\"), # activation='relu' == tf.keras.layers.Activations(tf.nn.relu)\n",
    "  tf.keras.layers.MaxPool2D(2),\n",
    "  tf.keras.layers.Flatten(),\n",
    "  tf.keras.layers.Dense(1, activation=\"sigmoid\") # binary activation output\n",
    "])\n",
    "\n",
    "# Compile the model\n",
    "model_1.compile(loss=\"binary_crossentropy\",\n",
    "              optimizer=tf.keras.optimizers.Adam(),\n",
    "              metrics=[\"accuracy\"])\n",
    "\n",
    "# Fit the model\n",
    "history_1 = model_1.fit(train_data,\n",
    "                        epochs=5,\n",
    "                        steps_per_epoch=len(train_data),\n",
    "                        validation_data=valid_data,\n",
    "                        validation_steps=len(valid_data))"
   ]
  },
  {
   "cell_type": "markdown",
   "id": "b63d0740",
   "metadata": {
    "papermill": {
     "duration": null,
     "end_time": null,
     "exception": null,
     "start_time": null,
     "status": "pending"
    },
    "tags": []
   },
   "source": [
    ":> 🤔 **Note:** If the cell above takes more than ~12 seconds per epoch to run, you might not be using a GPU accelerator. If you're using a Colab notebook, you can access a GPU accelerator by going to Runtime -> Change Runtime Type -> Hardware Accelerator and select \"GPU\". After doing so, you might have to rerun all of the above cells as changing the runtime type causes Colab to have to reset.\n",
    "\n"
   ]
  },
  {
   "cell_type": "markdown",
   "id": "5b86f6e3",
   "metadata": {
    "papermill": {
     "duration": null,
     "end_time": null,
     "exception": null,
     "start_time": null,
     "status": "pending"
    },
    "tags": []
   },
   "source": [
    "\n",
    "\n",
    "Nice! After 5 epochs, our model beat the baseline score of 50.76% accuracy (our model got ~85% accuaracy on the training set and ~85% accuracy on the test set).\n",
    "\n",
    "However, our model only went through a binary classificaiton problem rather than all of the 101 classes in the Food101 dataset, so we can't directly compare these metrics. That being said, the results so far show that our model is learning something.\n",
    "\n",
    "> 🛠 **Practice:** Step through each of the main blocks of code in the cell above, what do you think each is doing? It's okay if you're not sure, we'll go through this soon. In the meantime, spend 10-minutes playing around the incredible [CNN explainer website](https://poloclub.github.io/cnn-explainer/). What do you notice about the layer names at the top of the webpage?\n",
    "\n",
    "\n",
    "Since we've already fit a model, let's check out its architecture."
   ]
  },
  {
   "cell_type": "code",
   "execution_count": null,
   "id": "a4d1013e",
   "metadata": {
    "papermill": {
     "duration": null,
     "end_time": null,
     "exception": null,
     "start_time": null,
     "status": "pending"
    },
    "tags": []
   },
   "outputs": [],
   "source": [
    "# Check out the layers in our model\n",
    "model_1.summary()"
   ]
  },
  {
   "cell_type": "markdown",
   "id": "93c83051",
   "metadata": {
    "papermill": {
     "duration": null,
     "end_time": null,
     "exception": null,
     "start_time": null,
     "status": "pending"
    },
    "tags": []
   },
   "source": [
    "What do you notice about the names of `model_1`'s layers and the layer names at the top of the [CNN explainer website](https://poloclub.github.io/cnn-explainer/)?\n",
    "\n",
    "I'll let you in on a little secret: we've replicated the exact architecture they use for their model demo.\n",
    "\n",
    "Look at you go! **You're already starting to replicate models you find in the wild.**\n",
    "\n",
    "Now there are a few new things here we haven't discussed, namely: \n",
    "* The [`ImageDataGenerator`](https://www.tensorflow.org/api_docs/python/tf/keras/preprocessing/image/ImageDataGenerator) class and the `rescale` parameter\n",
    "* The [`flow_from_directory()`](https://www.tensorflow.org/api_docs/python/tf/keras/preprocessing/image/ImageDataGenerator#flow_from_directory) method\n",
    "  * The `batch_size` parameter\n",
    "  * The `target_size` parameter\n",
    "* [`Conv2D`](https://www.tensorflow.org/api_docs/python/tf/keras/layers/Conv2D) layers (and the parameters which come with them)\n",
    "* [`MaxPool2D`](https://www.tensorflow.org/api_docs/python/tf/keras/layers/MaxPool2D) layers (and their parameters).\n",
    "* The `steps_per_epoch` and `validation_steps` parameters in the `fit()` function\n",
    "\n",
    "Before we dive into each of these, let's see what happens if we try to fit a model we've worked with previously to our data.\n"
   ]
  },
  {
   "cell_type": "markdown",
   "id": "22aedb1a",
   "metadata": {
    "papermill": {
     "duration": null,
     "end_time": null,
     "exception": null,
     "start_time": null,
     "status": "pending"
    },
    "tags": []
   },
   "source": [
    "## Using the same model as before\n",
    "\n",
    "To examplify how neural networks can be adapted to many different problems, let's see how a binary classification model we've previously built might work with our data.\n",
    "\n",
    "> 🔑 **Note:** If you haven't gone through the previous classification notebook, no troubles, we'll be bringing in the a simple 4 layer architecture used to separate dots replicated from the [TensorFlow Playground environment](https://playground.tensorflow.org/#activation=relu&batchSize=10&dataset=circle&regDataset=reg-plane&learningRate=0.001&regularizationRate=0&noise=0&networkShape=4,4&seed=0.75075&showTestData=false&discretize=false&percTrainData=50&x=true&y=true&xTimesY=false&xSquared=false&ySquared=false&cosX=false&sinX=false&cosY=false&sinY=false&collectStats=false&problem=classification&initZero=false&hideText=false).\n",
    "\n",
    "We can use all of the same parameters in our previous model except for changing two things:\n",
    "* **The data** - we're now working with images instead of dots.\n",
    "* **The input shape** - we have to tell our neural network the shape of the images we're working with.\n",
    "  * A common practice is to reshape images all to one size. In our case, we'll resize the images to `(224, 224, 3)`, meaning a height and width of 224 pixels and a depth of 3 for the red, green, blue colour channels."
   ]
  },
  {
   "cell_type": "code",
   "execution_count": null,
   "id": "663a59a4",
   "metadata": {
    "papermill": {
     "duration": null,
     "end_time": null,
     "exception": null,
     "start_time": null,
     "status": "pending"
    },
    "tags": []
   },
   "outputs": [],
   "source": [
    "# Set random seed\n",
    "tf.random.set_seed(42)\n",
    "\n",
    "# Create a model to replicate the TensorFlow Playground model\n",
    "model_2 = tf.keras.Sequential([\n",
    "  tf.keras.layers.Flatten(input_shape=(224, 224, 3)), # dense layers expect a 1-dimensional vector as input\n",
    "  tf.keras.layers.Dense(4, activation='relu'),\n",
    "  tf.keras.layers.Dense(4, activation='relu'),\n",
    "  tf.keras.layers.Dense(1, activation='sigmoid')\n",
    "])\n",
    "\n",
    "# Compile the model\n",
    "model_2.compile(loss='binary_crossentropy',\n",
    "              optimizer=tf.keras.optimizers.Adam(),\n",
    "              metrics=[\"accuracy\"])\n",
    "\n",
    "# Fit the model\n",
    "history_2 = model_2.fit(train_data, # use same training data created above\n",
    "                        epochs=5,\n",
    "                        steps_per_epoch=len(train_data),\n",
    "                        validation_data=valid_data, # use same validation data created above\n",
    "                        validation_steps=len(valid_data))"
   ]
  },
  {
   "cell_type": "markdown",
   "id": "f8124cf8",
   "metadata": {
    "papermill": {
     "duration": null,
     "end_time": null,
     "exception": null,
     "start_time": null,
     "status": "pending"
    },
    "tags": []
   },
   "source": [
    "Hmmm... our model ran but it doesn't seem like it learned anything. It only reaches 50% accuracy on the training and test sets which in a binary classification problem is as good as guessing.\n",
    "\n",
    "Let's see the architecture."
   ]
  },
  {
   "cell_type": "code",
   "execution_count": null,
   "id": "9d2a1983",
   "metadata": {
    "papermill": {
     "duration": null,
     "end_time": null,
     "exception": null,
     "start_time": null,
     "status": "pending"
    },
    "tags": []
   },
   "outputs": [],
   "source": [
    "# Check out our second model's architecture\n",
    "model_2.summary()"
   ]
  },
  {
   "cell_type": "markdown",
   "id": "3636b958",
   "metadata": {
    "papermill": {
     "duration": null,
     "end_time": null,
     "exception": null,
     "start_time": null,
     "status": "pending"
    },
    "tags": []
   },
   "source": [
    "Wow. One of the most noticeable things here is the much larger number of parameters in `model_2` versus `model_1`.\n",
    "\n",
    "`model_2` has 602,141 trainable parameters where as `model_1` has only 31,101. And despite this difference, `model_1` still far and large out performs `model_2`.\n",
    "\n",
    "> 🔑 **Note:** You can think of trainable parameters as *patterns a model can learn from data*. Intuitiely, you might think more is better. And in some cases it is. But in this case, the difference here is in the two different styles of model we're using. Where a series of dense layers have a number of different learnable parameters connected to each other and hence a higher number of possible learnable patterns, **a convolutional neural network seeks to sort out and learn the most important patterns in an image**. So even though there are less learnable parameters in our convolutional neural network, these are often more helpful in decphering between different **features** in an image.\n",
    "\n",
    "Since our previous model didn't work, do you have any ideas of how we might make it work?\n",
    "\n",
    "How about we increase the number of layers? \n",
    "\n",
    "And maybe even increase the number of neurons in each layer?\n",
    "\n",
    "More specifically, we'll increase the number of neurons (also called hidden units) in each dense layer from 4 to 100 and add an extra layer.\n",
    "\n",
    "> 🔑 **Note:** Adding extra layers or increasing the number of neurons in each layer is often referred to as increasing the **complexity** of your model."
   ]
  },
  {
   "cell_type": "code",
   "execution_count": null,
   "id": "cdd907fe",
   "metadata": {
    "papermill": {
     "duration": null,
     "end_time": null,
     "exception": null,
     "start_time": null,
     "status": "pending"
    },
    "tags": []
   },
   "outputs": [],
   "source": [
    "# Set random seed\n",
    "tf.random.set_seed(42)\n",
    "\n",
    "# Create a model similar to model_1 but add an extra layer and increase the number of hidden units in each layer\n",
    "model_3 = tf.keras.Sequential([\n",
    "  tf.keras.layers.Flatten(input_shape=(224, 224, 3)), # dense layers expect a 1-dimensional vector as input\n",
    "  tf.keras.layers.Dense(100, activation='relu'), # increase number of neurons from 4 to 100 (for each layer)\n",
    "  tf.keras.layers.Dense(100, activation='relu'),\n",
    "  tf.keras.layers.Dense(100, activation='relu'), # add an extra layer\n",
    "  tf.keras.layers.Dense(1, activation='sigmoid')\n",
    "])\n",
    "\n",
    "# Compile the model\n",
    "model_3.compile(loss='binary_crossentropy',\n",
    "              optimizer=tf.keras.optimizers.Adam(),\n",
    "              metrics=[\"accuracy\"])\n",
    "\n",
    "# Fit the model\n",
    "history_3 = model_3.fit(train_data,\n",
    "                        epochs=5,\n",
    "                        steps_per_epoch=len(train_data),\n",
    "                        validation_data=valid_data,\n",
    "                        validation_steps=len(valid_data))"
   ]
  },
  {
   "cell_type": "code",
   "execution_count": null,
   "id": "18f6f6bc",
   "metadata": {
    "papermill": {
     "duration": null,
     "end_time": null,
     "exception": null,
     "start_time": null,
     "status": "pending"
    },
    "tags": []
   },
   "outputs": [],
   "source": [
    "# Check out model_3 architecture\n",
    "model_3.summary()"
   ]
  },
  {
   "cell_type": "markdown",
   "id": "3a2e030f",
   "metadata": {
    "papermill": {
     "duration": null,
     "end_time": null,
     "exception": null,
     "start_time": null,
     "status": "pending"
    },
    "tags": []
   },
   "source": [
    "My gosh, the number of trainable parameters has increased even more than `model_2`. And even with close to 500x (~15,000,000 vs. ~31,000) more trainable parameters, `model_3` still doesn't out perform `model_1`.\n",
    "\n",
    "This goes to show the power of convolutional neural networks and their ability to learn patterns despite using less parameters."
   ]
  },
  {
   "cell_type": "markdown",
   "id": "1e0a12ec",
   "metadata": {
    "papermill": {
     "duration": null,
     "end_time": null,
     "exception": null,
     "start_time": null,
     "status": "pending"
    },
    "tags": []
   },
   "source": [
    "## Binary classification: Let's break it down\n",
    "\n",
    "We just went through a whirlwind of steps:\n",
    "\n",
    "1. Become one with the data (visualize, visualize, visualize...)\n",
    "2. Preprocess the data (prepare it for a model)\n",
    "3. Create a model (start with a baseline)\n",
    "4. Fit the model\n",
    "5. Evaluate the model\n",
    "6. Adjust different parameters and improve model (try to beat your baseline)\n",
    "7. Repeat until satisfied\n",
    "\n",
    "Let's step through each."
   ]
  },
  {
   "cell_type": "code",
   "execution_count": null,
   "id": "8f20b50b",
   "metadata": {
    "papermill": {
     "duration": null,
     "end_time": null,
     "exception": null,
     "start_time": null,
     "status": "pending"
    },
    "tags": []
   },
   "outputs": [],
   "source": [
    "# import zipfile\n",
    "\n",
    "# # Download zip file of pizza_steak images\n",
    "# !wget https://storage.googleapis.com/ztm_tf_course/food_vision/pizza_steak.zip\n",
    "\n",
    "# # Unzip the downloaded file\n",
    "# zip_ref = zipfile.ZipFile(\"pizza_steak.zip\", \"r\")\n",
    "# zip_ref.extractall()\n",
    "# zip_ref.close()"
   ]
  },
  {
   "cell_type": "code",
   "execution_count": null,
   "id": "da2dfff7",
   "metadata": {
    "papermill": {
     "duration": null,
     "end_time": null,
     "exception": null,
     "start_time": null,
     "status": "pending"
    },
    "tags": []
   },
   "outputs": [],
   "source": [
    "# Visualize data (requires function 'view_random_image' above)\n",
    "plt.figure()\n",
    "plt.subplot(1, 2, 1)\n",
    "steak_img = view_random_image(\"pizza_steak/train/\", \"steak\")\n",
    "plt.subplot(1, 2, 2)\n",
    "pizza_img = view_random_image(\"pizza_steak/train/\", \"pizza\")"
   ]
  },
  {
   "cell_type": "markdown",
   "id": "a9977a9b",
   "metadata": {
    "papermill": {
     "duration": null,
     "end_time": null,
     "exception": null,
     "start_time": null,
     "status": "pending"
    },
    "tags": []
   },
   "source": [
    "### 2. Preprocess the data (prepare it for a model)\n",
    "\n",
    "One of the most important steps for a machine learning project is creating a training and test set.\n",
    "\n",
    "In our case, our data is already split into training and test sets. Another option here might be to create a validation set as well, but we'll leave that for now.\n",
    "\n",
    "For an image classification project, it's standard to have your data seperated into `train` and `test` directories with subfolders in each for each class.\n",
    "\n",
    "To start we define the training and test directory paths."
   ]
  },
  {
   "cell_type": "code",
   "execution_count": null,
   "id": "0642f4c0",
   "metadata": {
    "papermill": {
     "duration": null,
     "end_time": null,
     "exception": null,
     "start_time": null,
     "status": "pending"
    },
    "tags": []
   },
   "outputs": [],
   "source": [
    "# Define training and test directory paths\n",
    "train_dir = \"pizza_steak/train/\"\n",
    "test_dir = \"pizza_steak/test/\""
   ]
  },
  {
   "cell_type": "markdown",
   "id": "e0ca7711",
   "metadata": {
    "papermill": {
     "duration": null,
     "end_time": null,
     "exception": null,
     "start_time": null,
     "status": "pending"
    },
    "tags": []
   },
   "source": [
    "Our next step is to turn our data into **batches**.\n",
    "\n",
    "A **batch** is a small subset of the dataset a model looks at during training. For example, rather than looking at 10,000 images at one time and trying to figure out the patterns, a model might only look at 32 images at a time.\n",
    "\n",
    "It does this for a couple of reasons:\n",
    "* 10,000 images (or more) might not fit into the memory of your processor (GPU).\n",
    "* Trying to learn the patterns in 10,000 images in one hit could result in the model not being able to learn very well.\n",
    "\n",
    "Why 32?\n",
    "\n",
    "A [batch size of 32 is good for your health](https://twitter.com/ylecun/status/989610208497360896?s=20). \n",
    "\n",
    "No seriously, there are many different batch sizes you could use but 32 has proven to be very effective in many different use cases and is often the default for many data preprocessing functions.\n",
    "\n",
    "To turn our data into batches, we'll first create an instance of [`ImageDataGenerator`](https://www.tensorflow.org/api_docs/python/tf/keras/preprocessing/image/ImageDataGenerator) for each of our datasets.\n"
   ]
  },
  {
   "cell_type": "code",
   "execution_count": null,
   "id": "d6ca7edc",
   "metadata": {
    "papermill": {
     "duration": null,
     "end_time": null,
     "exception": null,
     "start_time": null,
     "status": "pending"
    },
    "tags": []
   },
   "outputs": [],
   "source": [
    "# Create train and test data generators and rescale the data \n",
    "from tensorflow.keras.preprocessing.image import ImageDataGenerator\n",
    "train_datagen = ImageDataGenerator(rescale=1/255.)\n",
    "test_datagen = ImageDataGenerator(rescale=1/255.)"
   ]
  },
  {
   "cell_type": "markdown",
   "id": "ff128558",
   "metadata": {
    "papermill": {
     "duration": null,
     "end_time": null,
     "exception": null,
     "start_time": null,
     "status": "pending"
    },
    "tags": []
   },
   "source": [
    "The `ImageDataGenerator` class helps us prepare our images into batches as well as perform transformations on them as they get loaded into the model.\n",
    "\n",
    "You might've noticed the `rescale` parameter. This is one example of the transformations we're doing.\n",
    "\n",
    "Remember from before how we imported an image and it's pixel values were between 0 and 255?\n",
    "\n",
    "The `rescale` parameter, along with `1/255.` is like saying \"divide all of the pixel values by 255\". This results in all of the image being imported and their pixel values being normalized (converted to be between 0 and 1).\n",
    "\n",
    "> 🔑 **Note:** For more transformation options such as data augmentation (we'll see this later), refer to the [`ImageDataGenerator` documentation](https://www.tensorflow.org/api_docs/python/tf/keras/preprocessing/image/ImageDataGenerator).\n",
    "\n",
    "Now we've got a couple of ImageDataGenerator instances, we can load our images from their respective directories using the [`flow_from_directory`](https://www.tensorflow.org/api_docs/python/tf/keras/preprocessing/image/ImageDataGenerator#flow_from_directory) method."
   ]
  },
  {
   "cell_type": "code",
   "execution_count": null,
   "id": "4472293c",
   "metadata": {
    "papermill": {
     "duration": null,
     "end_time": null,
     "exception": null,
     "start_time": null,
     "status": "pending"
    },
    "tags": []
   },
   "outputs": [],
   "source": [
    "# Turn it into batches\n",
    "train_data = train_datagen.flow_from_directory(directory=train_dir,\n",
    "                                               target_size=(224, 224),\n",
    "                                               class_mode='binary',\n",
    "                                               batch_size=32)\n",
    "\n",
    "test_data = test_datagen.flow_from_directory(directory=test_dir,\n",
    "                                             target_size=(224, 224),\n",
    "                                             class_mode='binary',\n",
    "                                             batch_size=32)"
   ]
  },
  {
   "cell_type": "markdown",
   "id": "7c7f0202",
   "metadata": {
    "papermill": {
     "duration": null,
     "end_time": null,
     "exception": null,
     "start_time": null,
     "status": "pending"
    },
    "tags": []
   },
   "source": [
    "Wonderful! Looks like our training dataset has 1500 images belonging to 2 classes (pizza and steak) and our test dataset has 500 images also belonging to 2 classes.\n",
    "\n",
    "Some things to here:\n",
    "* Due to how our directories are structured, the classes get inferred by the subdirectory names in `train_dir` and `test_dir`.\n",
    "* The `target_size` parameter defines the input size of our images in `(height, width)` format.\n",
    "* The `class_mode` value of `'binary'` defines our classification problem type. If we had more than two classes, we would use `'categorical'`.\n",
    "* The `batch_size` defines how many images will be in each batch, we've used 32 which is the same as the default.\n",
    "\n",
    "We can take a look at our batched images and labels by inspecting the `train_data` object."
   ]
  },
  {
   "cell_type": "code",
   "execution_count": null,
   "id": "5371881e",
   "metadata": {
    "papermill": {
     "duration": null,
     "end_time": null,
     "exception": null,
     "start_time": null,
     "status": "pending"
    },
    "tags": []
   },
   "outputs": [],
   "source": [
    "# Get a sample of the training data batch \n",
    "images, labels = train_data.next() # get the 'next' batch of images/labels\n",
    "len(images), len(labels)"
   ]
  },
  {
   "cell_type": "code",
   "execution_count": null,
   "id": "2527a0a3",
   "metadata": {
    "papermill": {
     "duration": null,
     "end_time": null,
     "exception": null,
     "start_time": null,
     "status": "pending"
    },
    "tags": []
   },
   "outputs": [],
   "source": [
    "# Get the first two images\n",
    "images[:2], images[0].shape"
   ]
  },
  {
   "cell_type": "code",
   "execution_count": null,
   "id": "387d3de8",
   "metadata": {
    "papermill": {
     "duration": null,
     "end_time": null,
     "exception": null,
     "start_time": null,
     "status": "pending"
    },
    "tags": []
   },
   "outputs": [],
   "source": [
    "# View the first batch of labels\n",
    "labels"
   ]
  },
  {
   "cell_type": "markdown",
   "id": "9367f7d0",
   "metadata": {
    "papermill": {
     "duration": null,
     "end_time": null,
     "exception": null,
     "start_time": null,
     "status": "pending"
    },
    "tags": []
   },
   "source": [
    "Due to the `class_mode` parameter being `'binary'` our labels are either `0` (pizza) or `1` (steak).\n",
    "\n",
    "Now that our data is ready, our model is going to try and figure out the patterns between the image tensors and the labels."
   ]
  },
  {
   "cell_type": "markdown",
   "id": "392bb5cd",
   "metadata": {
    "papermill": {
     "duration": null,
     "end_time": null,
     "exception": null,
     "start_time": null,
     "status": "pending"
    },
    "tags": []
   },
   "source": [
    "### 3. Create a model (start with a baseline)\n",
    "\n",
    "You might be wondering what your default model architecture should be.\n",
    "\n",
    "And the truth is, there's many possible answers to this question.\n",
    "\n",
    "A simple heuristic for computer vision models is to use the model architecture which is performing best on [ImageNet](https://www.image-net.org/) (a large collection of diverse images to benchmark different computer vision models).\n",
    "\n",
    "However, to begin with, it's good to build a smaller model to acquire a baseline result which you try to improve upon.\n",
    "\n",
    "> 🔑 **Note:** In deep learning a smaller model often refers to a model with less layers than the state of the art (SOTA). For example, a smaller model might have 3-4 layers where as a state of the art model, such as, ResNet50 might have 50+ layers.\n",
    "\n",
    "In our case, let's take a smaller version of the model that can be found on the [CNN explainer website](https://poloclub.github.io/cnn-explainer/) (`model_1` from above) and build a 3 layer convolutional neural network."
   ]
  },
  {
   "cell_type": "code",
   "execution_count": null,
   "id": "3c7ece94",
   "metadata": {
    "papermill": {
     "duration": null,
     "end_time": null,
     "exception": null,
     "start_time": null,
     "status": "pending"
    },
    "tags": []
   },
   "outputs": [],
   "source": [
    "# Make the creating of our model a little easier\n",
    "from tensorflow.keras.optimizers import Adam\n",
    "from tensorflow.keras.layers import Dense, Flatten, Conv2D, MaxPool2D, Activation\n",
    "from tensorflow.keras import Sequential"
   ]
  },
  {
   "cell_type": "code",
   "execution_count": null,
   "id": "afb2a38c",
   "metadata": {
    "papermill": {
     "duration": null,
     "end_time": null,
     "exception": null,
     "start_time": null,
     "status": "pending"
    },
    "tags": []
   },
   "outputs": [],
   "source": [
    "# Create the model (this can be our baseline, a 3 layer Convolutional Neural Network)\n",
    "model_4 = Sequential([\n",
    "  Conv2D(filters=10, \n",
    "         kernel_size=3, \n",
    "         strides=1,\n",
    "         padding='valid',\n",
    "         activation='relu', \n",
    "         input_shape=(224, 224, 3)), # input layer (specify input shape)\n",
    "  Conv2D(10, 3, activation='relu'),\n",
    "  Conv2D(10, 3, activation='relu'),\n",
    "  Flatten(),\n",
    "  Dense(1, activation='sigmoid') # output layer (specify output shape)\n",
    "])"
   ]
  },
  {
   "cell_type": "markdown",
   "id": "59be9293",
   "metadata": {
    "papermill": {
     "duration": null,
     "end_time": null,
     "exception": null,
     "start_time": null,
     "status": "pending"
    },
    "tags": []
   },
   "source": [
    "Great! We've got a simple convolutional neural network architecture ready to go.\n",
    "\n",
    "And it follows the typical CNN structure of:\n",
    "\n",
    "```\n",
    "Input -> Conv + ReLU layers (non-linearities) -> Pooling layer -> Fully connected (dense layer) as Output\n",
    "```\n",
    "\n",
    "Let's discuss some of the components of the `Conv2D` layer:\n",
    "\n",
    "* The \"`2D`\" means our inputs are two dimensional (height and width), even though they have 3 colour channels, the convolutions are run on each channel invididually.\n",
    "* `filters` - these are the number of \"feature extractors\" that will be moving over our images.\n",
    "* `kernel_size` - the size of our filters, for example, a `kernel_size` of `(3, 3)` (or just 3) will mean each filter will have the size 3x3, meaning it will look at a space of 3x3 pixels each time. The smaller the kernel, the more fine-grained features it will extract.\n",
    "* `stride` - the number of pixels a `filter` will move across as it covers the image. A `stride` of 1 means the filter moves across each pixel 1 by 1. A `stride` of 2 means it moves 2 pixels at a time.\n",
    "* `padding` - this can be either `'same'` or `'valid'`, `'same'` adds zeros the to outside of the image so the resulting output of the convolutional layer is the same as the input, where as `'valid'` (default) cuts off excess pixels where the `filter` doesn't fit (e.g. 224 pixels wide divided by a kernel size of 3 (224/3 = 74.6) means a single pixel will get cut off the end.\n",
    "\n",
    "What's a \"feature\"?\n",
    "\n",
    "A **feature** can be considered any significant part of an image. For example, in our case, a feature might be the circular shape of pizza. Or the rough edges on the outside of a steak.\n",
    "\n",
    "It's important to note that these **features** are not defined by us, instead, the model learns them as it applies different filters across the image.\n",
    "\n",
    "> 📖 **Resources:** For a great demonstration of these in action, be sure to spend some time going through the following:\n",
    "  * [CNN Explainer Webpage](https://poloclub.github.io/cnn-explainer/) - a great visual overview of many of the concepts we're replicating here with code.\n",
    "  * [A guide to convolutional arithmetic for deep learning](https://arxiv.org/pdf/1603.07285.pdf) - a phenomenal introduction to the math going on behind the scenes of a convolutional neural network.\n",
    "  * For a great explanation of padding, see this [Stack Overflow answer](https://stackoverflow.com/a/39371113/7900723).\n",
    "\n",
    "Now our model is ready, let's compile it."
   ]
  },
  {
   "cell_type": "code",
   "execution_count": null,
   "id": "4ec49974",
   "metadata": {
    "papermill": {
     "duration": null,
     "end_time": null,
     "exception": null,
     "start_time": null,
     "status": "pending"
    },
    "tags": []
   },
   "outputs": [],
   "source": [
    "# Compile the model\n",
    "model_4.compile(loss='binary_crossentropy',\n",
    "                optimizer=Adam(),\n",
    "                metrics=['accuracy'])"
   ]
  },
  {
   "cell_type": "markdown",
   "id": "ffb29e09",
   "metadata": {
    "papermill": {
     "duration": null,
     "end_time": null,
     "exception": null,
     "start_time": null,
     "status": "pending"
    },
    "tags": []
   },
   "source": [
    "Since we're working on a binary classification problem (pizza vs. steak), the `loss` function we're using is `'binary_crossentropy'`, if it was mult-iclass, we might use something like `'categorical_crossentropy'`.\n",
    "\n",
    "Adam with all the default settings is our optimizer and our evaluation metric is accuracy."
   ]
  },
  {
   "cell_type": "markdown",
   "id": "a411b5f2",
   "metadata": {
    "papermill": {
     "duration": null,
     "end_time": null,
     "exception": null,
     "start_time": null,
     "status": "pending"
    },
    "tags": []
   },
   "source": [
    "### 4. Fit a model\n",
    "\n",
    "Our model is compiled, time to fit it.\n",
    "\n",
    "You'll notice two new parameters here:\n",
    "* `steps_per_epoch` - this is the number of batches a model will go through per epoch, in our case, we want our model to go through all batches so it's equal to the length of `train_data` (1500 images in batches of 32 = 1500/32 = ~47 steps)\n",
    "* `validation_steps` - same as above, except for the `validation_data` parameter (500 test images in batches of 32 = 500/32 = ~16 steps)"
   ]
  },
  {
   "cell_type": "code",
   "execution_count": null,
   "id": "4bece035",
   "metadata": {
    "papermill": {
     "duration": null,
     "end_time": null,
     "exception": null,
     "start_time": null,
     "status": "pending"
    },
    "tags": []
   },
   "outputs": [],
   "source": [
    "# Check lengths of training and test data generators\n",
    "len(train_data), len(test_data)"
   ]
  },
  {
   "cell_type": "code",
   "execution_count": null,
   "id": "879d7984",
   "metadata": {
    "papermill": {
     "duration": null,
     "end_time": null,
     "exception": null,
     "start_time": null,
     "status": "pending"
    },
    "tags": []
   },
   "outputs": [],
   "source": [
    "# Fit the model\n",
    "history_4 = model_4.fit(train_data,\n",
    "                        epochs=5,\n",
    "                        steps_per_epoch=len(train_data),\n",
    "                        validation_data=test_data,\n",
    "                        validation_steps=len(test_data))"
   ]
  },
  {
   "cell_type": "markdown",
   "id": "8691f883",
   "metadata": {
    "papermill": {
     "duration": null,
     "end_time": null,
     "exception": null,
     "start_time": null,
     "status": "pending"
    },
    "tags": []
   },
   "source": [
    "### 5. Evaluate the model"
   ]
  },
  {
   "cell_type": "markdown",
   "id": "98c76b76",
   "metadata": {
    "papermill": {
     "duration": null,
     "end_time": null,
     "exception": null,
     "start_time": null,
     "status": "pending"
    },
    "tags": []
   },
   "source": [
    "Oh yeah! Looks like our model is learning something.\n",
    "\n",
    "Let's check out its training curves."
   ]
  },
  {
   "cell_type": "code",
   "execution_count": null,
   "id": "6f9bb5e1",
   "metadata": {
    "papermill": {
     "duration": null,
     "end_time": null,
     "exception": null,
     "start_time": null,
     "status": "pending"
    },
    "tags": []
   },
   "outputs": [],
   "source": [
    "# Plot the training curves\n",
    "import pandas as pd\n",
    "pd.DataFrame(history_4.history).plot(figsize=(10, 7));"
   ]
  },
  {
   "cell_type": "markdown",
   "id": "da225f82",
   "metadata": {
    "papermill": {
     "duration": null,
     "end_time": null,
     "exception": null,
     "start_time": null,
     "status": "pending"
    },
    "tags": []
   },
   "source": [
    "Hmm, judging by our loss curves, it looks like our model is **overfitting** the training dataset.\n",
    "\n",
    "> 🔑 **Note:** When a model's **validation loss starts to increase**, it's likely that it's overfitting the training dataset. This means, it's learning the patterns in the training dataset *too well* and thus its ability to generalize to unseen data will be diminished.\n",
    "\n",
    "To further inspect our model's training performance, let's separate the accuracy and loss curves."
   ]
  },
  {
   "cell_type": "code",
   "execution_count": null,
   "id": "f7b79064",
   "metadata": {
    "papermill": {
     "duration": null,
     "end_time": null,
     "exception": null,
     "start_time": null,
     "status": "pending"
    },
    "tags": []
   },
   "outputs": [],
   "source": [
    "# Plot the validation and training data separately\n",
    "def plot_loss_curves(history):\n",
    "  \"\"\"\n",
    "  Returns separate loss curves for training and validation metrics.\n",
    "  \"\"\" \n",
    "  loss = history.history['loss']\n",
    "  val_loss = history.history['val_loss']\n",
    "\n",
    "  accuracy = history.history['accuracy']\n",
    "  val_accuracy = history.history['val_accuracy']\n",
    "\n",
    "  epochs = range(len(history.history['loss']))\n",
    "\n",
    "  # Plot loss\n",
    "  plt.plot(epochs, loss, label='training_loss')\n",
    "  plt.plot(epochs, val_loss, label='val_loss')\n",
    "  plt.title('Loss')\n",
    "  plt.xlabel('Epochs')\n",
    "  plt.legend()\n",
    "\n",
    "  # Plot accuracy\n",
    "  plt.figure()\n",
    "  plt.plot(epochs, accuracy, label='training_accuracy')\n",
    "  plt.plot(epochs, val_accuracy, label='val_accuracy')\n",
    "  plt.title('Accuracy')\n",
    "  plt.xlabel('Epochs')\n",
    "  plt.legend();"
   ]
  },
  {
   "cell_type": "code",
   "execution_count": null,
   "id": "9ce76672",
   "metadata": {
    "papermill": {
     "duration": null,
     "end_time": null,
     "exception": null,
     "start_time": null,
     "status": "pending"
    },
    "tags": []
   },
   "outputs": [],
   "source": [
    "# Check out the loss curves of model_4\n",
    "plot_loss_curves(history_4)"
   ]
  },
  {
   "cell_type": "markdown",
   "id": "15d59b2a",
   "metadata": {
    "papermill": {
     "duration": null,
     "end_time": null,
     "exception": null,
     "start_time": null,
     "status": "pending"
    },
    "tags": []
   },
   "source": [
    "The ideal position for these two curves is to follow each other. If anything, the validation curve should be slightly under the training curve. If there's a large gap between the training curve and validation curve, it means your model is probably overfitting."
   ]
  },
  {
   "cell_type": "code",
   "execution_count": null,
   "id": "f90dd3f6",
   "metadata": {
    "papermill": {
     "duration": null,
     "end_time": null,
     "exception": null,
     "start_time": null,
     "status": "pending"
    },
    "tags": []
   },
   "outputs": [],
   "source": [
    "# Check out our model's architecture\n",
    "model_4.summary()"
   ]
  },
  {
   "cell_type": "markdown",
   "id": "c90c334e",
   "metadata": {
    "papermill": {
     "duration": null,
     "end_time": null,
     "exception": null,
     "start_time": null,
     "status": "pending"
    },
    "tags": []
   },
   "source": [
    "### 6. Adjust the model parameters\n",
    "\n",
    "Fitting a machine learning model  comes in 3 steps:\n",
    "0. Create a basline.\n",
    "1. Beat the baseline by overfitting a larger model.\n",
    "2. Reduce overfitting.\n",
    "\n",
    "So far we've gone through steps 0 and 1.\n",
    "\n",
    "And there are even a few more things we could try to further overfit our model:\n",
    "* Increase the number of convolutional layers.\n",
    "* Increase the number of convolutional filters.\n",
    "* Add another dense layer to the output of our flattened layer.\n",
    "\n",
    "But what we'll do instead is focus on getting our model's training curves to better align with eachother, in other words, we'll take on step 2.\n",
    "\n",
    "Why is reducing overfitting important?\n",
    "\n",
    "When a model performs too well on training data and poorly on unseen data, it's not much use to us if we wanted to use it in the real world.\n",
    "\n",
    "Say we were building a pizza vs. steak food classifier app, and our model performs very well on our training data but when users tried it out, they didn't get very good results on their own food images, is that a good experience?\n",
    "\n",
    "Not really...\n",
    "\n",
    "So for the next few models we build, we're going to adjust a number of parameters and inspect the training curves along the way.\n",
    "\n",
    "Namely, we'll build 2 more models:\n",
    "* A ConvNet with [max pooling](https://deeplizard.com/learn/video/ZjM_XQa5s6s)\n",
    "* A ConvNet with max pooling and data augmentation\n",
    "\n",
    "For the first model, we'll follow the modified basic CNN structure:\n",
    "\n",
    "```\n",
    "Input -> Conv layers + ReLU layers (non-linearities) + Max Pooling layers -> Fully connected (dense layer) as Output\n",
    "```\n",
    "\n",
    "Let's built it. It'll have the same structure as `model_4` but with a [`MaxPool2D()`](https://www.tensorflow.org/api_docs/python/tf/keras/layers/MaxPool2D) layer after each convolutional layer."
   ]
  },
  {
   "cell_type": "code",
   "execution_count": null,
   "id": "72824d72",
   "metadata": {
    "papermill": {
     "duration": null,
     "end_time": null,
     "exception": null,
     "start_time": null,
     "status": "pending"
    },
    "tags": []
   },
   "outputs": [],
   "source": [
    "# Create the model (this can be our baseline, a 3 layer Convolutional Neural Network)\n",
    "model_5 = Sequential([\n",
    "  Conv2D(10, 3, activation='relu', input_shape=(224, 224, 3)),\n",
    "  MaxPool2D(pool_size=2), # reduce number of features by half\n",
    "  Conv2D(10, 3, activation='relu'),\n",
    "  MaxPool2D(),\n",
    "  Conv2D(10, 3, activation='relu'),\n",
    "  MaxPool2D(),\n",
    "  Flatten(),\n",
    "  Dense(1, activation='sigmoid')\n",
    "])"
   ]
  },
  {
   "cell_type": "markdown",
   "id": "48da5fdd",
   "metadata": {
    "papermill": {
     "duration": null,
     "end_time": null,
     "exception": null,
     "start_time": null,
     "status": "pending"
    },
    "tags": []
   },
   "source": [
    "Woah, we've got another layer type we haven't seen before.\n",
    "\n",
    "If convolutional layers learn the features of an image you can think of a Max Pooling layer as figuring out the *most important* of those features. We'll see this an example of this in a moment."
   ]
  },
  {
   "cell_type": "code",
   "execution_count": null,
   "id": "8ef1ca52",
   "metadata": {
    "papermill": {
     "duration": null,
     "end_time": null,
     "exception": null,
     "start_time": null,
     "status": "pending"
    },
    "tags": []
   },
   "outputs": [],
   "source": [
    "# Compile model (same as model_4)\n",
    "model_5.compile(loss='binary_crossentropy',\n",
    "                optimizer=Adam(),\n",
    "                metrics=['accuracy'])"
   ]
  },
  {
   "cell_type": "code",
   "execution_count": null,
   "id": "7a1f0a09",
   "metadata": {
    "papermill": {
     "duration": null,
     "end_time": null,
     "exception": null,
     "start_time": null,
     "status": "pending"
    },
    "tags": []
   },
   "outputs": [],
   "source": [
    "# Fit the model\n",
    "history_5 = model_5.fit(train_data,\n",
    "                        epochs=5,\n",
    "                        steps_per_epoch=len(train_data),\n",
    "                        validation_data=test_data,\n",
    "                        validation_steps=len(test_data))"
   ]
  },
  {
   "cell_type": "markdown",
   "id": "19b331ee",
   "metadata": {
    "papermill": {
     "duration": null,
     "end_time": null,
     "exception": null,
     "start_time": null,
     "status": "pending"
    },
    "tags": []
   },
   "source": [
    "Okay, it looks like our model with max pooling (`model_5`) is performing worse on the training set but better on the validation set.\n",
    "\n",
    "Before we checkout its training curves, let's check out its architecture."
   ]
  },
  {
   "cell_type": "code",
   "execution_count": null,
   "id": "b6ce1221",
   "metadata": {
    "papermill": {
     "duration": null,
     "end_time": null,
     "exception": null,
     "start_time": null,
     "status": "pending"
    },
    "tags": []
   },
   "outputs": [],
   "source": [
    "# Check out the model architecture\n",
    "model_5.summary()"
   ]
  },
  {
   "cell_type": "markdown",
   "id": "0da8b34a",
   "metadata": {
    "papermill": {
     "duration": null,
     "end_time": null,
     "exception": null,
     "start_time": null,
     "status": "pending"
    },
    "tags": []
   },
   "source": [
    "Do you notice what's going on here with the output shape in each `MaxPooling2D` layer?\n",
    "\n",
    "It gets halved each time. This is effectively the `MaxPooling2D` layer taking the outputs of each Conv2D layer and saying \"I only want the most important features, get rid of the rest\".\n",
    "\n",
    "The bigger the `pool_size` parameter, the more the max pooling layer will squeeze the features out of the image. However, too big and the model might not be able to learn anything.\n",
    "\n",
    "The results of this pooling are seen in a major reduction of total trainable parameters (8,861 in `model_5` and 477,431 in `model_4`).\n",
    "\n",
    "Time to check out the loss curves."
   ]
  },
  {
   "cell_type": "code",
   "execution_count": null,
   "id": "c4f912a0",
   "metadata": {
    "papermill": {
     "duration": null,
     "end_time": null,
     "exception": null,
     "start_time": null,
     "status": "pending"
    },
    "tags": []
   },
   "outputs": [],
   "source": [
    "# Plot loss curves of model_5 results\n",
    "plot_loss_curves(history_5)"
   ]
  },
  {
   "cell_type": "markdown",
   "id": "da2b4a54",
   "metadata": {
    "papermill": {
     "duration": null,
     "end_time": null,
     "exception": null,
     "start_time": null,
     "status": "pending"
    },
    "tags": []
   },
   "source": [
    "Nice! We can see the training curves get a lot closer to eachother. However, our the validation loss looks to start increasing towards the end and in turn potentially leading to overfitting.\n",
    "\n",
    "Time to dig into our bag of tricks and try another method of overfitting prevention, data augmentation.\n",
    "\n",
    "First, we'll see how it's done with code then we'll discuss what it's doing.\n",
    "\n",
    "To implement data augmentation, we'll have to reinstantiate our [`ImageDataGenerator`](https://www.tensorflow.org/api_docs/python/tf/keras/preprocessing/image/ImageDataGenerator) instances."
   ]
  },
  {
   "cell_type": "code",
   "execution_count": null,
   "id": "1298e9fd",
   "metadata": {
    "papermill": {
     "duration": null,
     "end_time": null,
     "exception": null,
     "start_time": null,
     "status": "pending"
    },
    "tags": []
   },
   "outputs": [],
   "source": [
    "# Create ImageDataGenerator training instance with data augmentation\n",
    "train_datagen_augmented = ImageDataGenerator(rescale=1/255.,\n",
    "                                             rotation_range=20, # rotate the image slightly between 0 and 20 degrees (note: this is an int not a float)\n",
    "                                             shear_range=0.2, # shear the image\n",
    "                                             zoom_range=0.2, # zoom into the image\n",
    "                                             width_shift_range=0.2, # shift the image width ways\n",
    "                                             height_shift_range=0.2, # shift the image height ways\n",
    "                                             horizontal_flip=True) # flip the image on the horizontal axis\n",
    "\n",
    "# Create ImageDataGenerator training instance without data augmentation\n",
    "train_datagen = ImageDataGenerator(rescale=1/255.) \n",
    "\n",
    "# Create ImageDataGenerator test instance without data augmentation\n",
    "test_datagen = ImageDataGenerator(rescale=1/255.)"
   ]
  },
  {
   "cell_type": "markdown",
   "id": "62326abb",
   "metadata": {
    "papermill": {
     "duration": null,
     "end_time": null,
     "exception": null,
     "start_time": null,
     "status": "pending"
    },
    "tags": []
   },
   "source": [
    "> 🤔 **Question:** What's data augmentation?\n",
    "\n",
    "**Data augmentation** is the process of altering our training data, leading to it having more diversity and in turn allowing our models to learn more generalizable patterns. Altering might mean adjusting the rotation of an image, flipping it, cropping it or something similar.\n",
    "\n",
    "Doing this simulates the kind of data a model might be used on in the real world.\n",
    "\n",
    "If we're building a pizza vs. steak application, not all of the images our users take might be in similar setups to our training data. Using data augmentation gives us another way to prevent overfitting and in turn make our model more generalizable.\n",
    "\n",
    "> 🔑 **Note:** Data augmentation is usally only performed on the training data. Using the `ImageDataGenerator` built-in data augmentation parameters our images are left as they are in the directories but are randomly manipulated when loaded into the model."
   ]
  },
  {
   "cell_type": "code",
   "execution_count": null,
   "id": "ba8750b3",
   "metadata": {
    "papermill": {
     "duration": null,
     "end_time": null,
     "exception": null,
     "start_time": null,
     "status": "pending"
    },
    "tags": []
   },
   "outputs": [],
   "source": [
    "# Import data and augment it from training directory\n",
    "print(\"Augmented training images:\")\n",
    "train_data_augmented = train_datagen_augmented.flow_from_directory(train_dir,\n",
    "                                                                   target_size=(224, 224),\n",
    "                                                                   batch_size=32,\n",
    "                                                                   class_mode='binary',\n",
    "                                                                   shuffle=False) # Don't shuffle for demonstration purposes, usually a good thing to shuffle\n",
    "\n",
    "# Create non-augmented data batches\n",
    "print(\"Non-augmented training images:\")\n",
    "train_data = train_datagen.flow_from_directory(train_dir,\n",
    "                                               target_size=(224, 224),\n",
    "                                               batch_size=32,\n",
    "                                               class_mode='binary',\n",
    "                                               shuffle=False) # Don't shuffle for demonstration purposes\n",
    "\n",
    "print(\"Unchanged test images:\")\n",
    "test_data = test_datagen.flow_from_directory(test_dir,\n",
    "                                             target_size=(224, 224),\n",
    "                                             batch_size=32,\n",
    "                                             class_mode='binary')"
   ]
  },
  {
   "cell_type": "code",
   "execution_count": null,
   "id": "ee68e120",
   "metadata": {
    "papermill": {
     "duration": null,
     "end_time": null,
     "exception": null,
     "start_time": null,
     "status": "pending"
    },
    "tags": []
   },
   "outputs": [],
   "source": [
    "# Get data batch samples\n",
    "images, labels = train_data.next()\n",
    "augmented_images, augmented_labels = train_data_augmented.next() # Note: labels aren't augmented, they stay the same"
   ]
  },
  {
   "cell_type": "code",
   "execution_count": null,
   "id": "da8bcfcd",
   "metadata": {
    "papermill": {
     "duration": null,
     "end_time": null,
     "exception": null,
     "start_time": null,
     "status": "pending"
    },
    "tags": []
   },
   "outputs": [],
   "source": [
    "# Show original image and augmented image\n",
    "random_number = random.randint(0, 32) # we're making batches of size 32, so we'll get a random instance\n",
    "plt.imshow(images[random_number])\n",
    "plt.title(f\"Original image\")\n",
    "plt.axis(False)\n",
    "plt.figure()\n",
    "plt.imshow(augmented_images[random_number])\n",
    "plt.title(f\"Augmented image\")\n",
    "plt.axis(False);"
   ]
  },
  {
   "cell_type": "markdown",
   "id": "c249de2b",
   "metadata": {
    "papermill": {
     "duration": null,
     "end_time": null,
     "exception": null,
     "start_time": null,
     "status": "pending"
    },
    "tags": []
   },
   "source": [
    "After going through a sample of original and augmented images, you can start to see some of the example transformations on the training images.\n",
    "\n",
    "Notice how some of the augmented images look like slightly warped versions of the original image. This means our model will be forced to try and learn patterns in less-than-perfect images, which is often the case when using real-world images.\n",
    "\n",
    "> 🤔 **Question:** Should I use data augmentation? And how much should I augment?\n",
    "\n",
    "Data augmentation is a way to try and prevent a model overfitting. If your model is overfiting (e.g. the validation loss keeps increasing), you may want to try using data augmentation.\n",
    "\n",
    "As for how much to data augment, there's no set practice for this. Best to check out the options in the `ImageDataGenerator` class and think about how a model in your use case might benefit from some data augmentation.\n",
    "\n",
    "Now we've got augmented data, let's try and refit a model on it and see how it affects training.\n",
    "\n",
    "We'll use the same model as `model_5`."
   ]
  },
  {
   "cell_type": "code",
   "execution_count": null,
   "id": "66a2f07f",
   "metadata": {
    "papermill": {
     "duration": null,
     "end_time": null,
     "exception": null,
     "start_time": null,
     "status": "pending"
    },
    "tags": []
   },
   "outputs": [],
   "source": [
    "# Create the model (same as model_5)\n",
    "model_6 = Sequential([\n",
    "  Conv2D(10, 3, activation='relu', input_shape=(224, 224, 3)),\n",
    "  MaxPool2D(pool_size=2), # reduce number of features by half\n",
    "  Conv2D(10, 3, activation='relu'),\n",
    "  MaxPool2D(),\n",
    "  Conv2D(10, 3, activation='relu'),\n",
    "  MaxPool2D(),\n",
    "  Flatten(),\n",
    "  Dense(1, activation='sigmoid')\n",
    "])\n",
    "\n",
    "# Compile the model\n",
    "model_6.compile(loss='binary_crossentropy',\n",
    "                optimizer=Adam(),\n",
    "                metrics=['accuracy'])\n",
    "\n",
    "# Fit the model\n",
    "history_6 = model_6.fit(train_data_augmented, # changed to augmented training data\n",
    "                        epochs=5,\n",
    "                        steps_per_epoch=len(train_data_augmented),\n",
    "                        validation_data=test_data,\n",
    "                        validation_steps=len(test_data))"
   ]
  },
  {
   "cell_type": "markdown",
   "id": "3a61f4c7",
   "metadata": {
    "papermill": {
     "duration": null,
     "end_time": null,
     "exception": null,
     "start_time": null,
     "status": "pending"
    },
    "tags": []
   },
   "source": [
    "Better than talk about data augmentation, how about we see it?\n",
    "\n",
    "(remember our motto? visualize, visualize, visualize...)"
   ]
  },
  {
   "cell_type": "code",
   "execution_count": null,
   "id": "51573644",
   "metadata": {
    "papermill": {
     "duration": null,
     "end_time": null,
     "exception": null,
     "start_time": null,
     "status": "pending"
    },
    "tags": []
   },
   "outputs": [],
   "source": [
    "# Get data batch samples\n",
    "images, labels = train_data.next()\n",
    "augmented_images, augmented_labels = train_data_augmented.next() # Note: labels aren't augmented, they stay the same"
   ]
  },
  {
   "cell_type": "code",
   "execution_count": null,
   "id": "0e10d7d7",
   "metadata": {
    "papermill": {
     "duration": null,
     "end_time": null,
     "exception": null,
     "start_time": null,
     "status": "pending"
    },
    "tags": []
   },
   "outputs": [],
   "source": [
    "# Show original image and augmented image\n",
    "random_number = random.randint(0, 32) # we're making batches of size 32, so we'll get a random instance\n",
    "plt.imshow(images[random_number])\n",
    "plt.title(f\"Original image\")\n",
    "plt.axis(False)\n",
    "plt.figure()\n",
    "plt.imshow(augmented_images[random_number])\n",
    "plt.title(f\"Augmented image\")\n",
    "plt.axis(False);"
   ]
  },
  {
   "cell_type": "markdown",
   "id": "64007a99",
   "metadata": {
    "papermill": {
     "duration": null,
     "end_time": null,
     "exception": null,
     "start_time": null,
     "status": "pending"
    },
    "tags": []
   },
   "source": [
    "After going through a sample of original and augmented images, you can start to see some of the example transformations on the training images.\n",
    "\n",
    "Notice how some of the augmented images look like slightly warped versions of the original image. This means our model will be forced to try and learn patterns in less-than-perfect images, which is often the case when using real-world images.\n",
    "\n",
    "> 🤔 **Question:** Should I use data augmentation? And how much should I augment?\n",
    "\n",
    "Data augmentation is a way to try and prevent a model overfitting. If your model is overfiting (e.g. the validation loss keeps increasing), you may want to try using data augmentation.\n",
    "\n",
    "As for how much to data augment, there's no set practice for this. Best to check out the options in the `ImageDataGenerator` class and think about how a model in your use case might benefit from some data augmentation.\n",
    "\n",
    "Now we've got augmented data, let's try and refit a model on it and see how it affects training.\n",
    "\n",
    "We'll use the same model as `model_5`."
   ]
  },
  {
   "cell_type": "code",
   "execution_count": null,
   "id": "4d1178f9",
   "metadata": {
    "papermill": {
     "duration": null,
     "end_time": null,
     "exception": null,
     "start_time": null,
     "status": "pending"
    },
    "tags": []
   },
   "outputs": [],
   "source": [
    "# Create the model (same as model_5)\n",
    "model_6 = Sequential([\n",
    "  Conv2D(10, 3, activation='relu', input_shape=(224, 224, 3)),\n",
    "  MaxPool2D(pool_size=2), # reduce number of features by half\n",
    "  Conv2D(10, 3, activation='relu'),\n",
    "  MaxPool2D(),\n",
    "  Conv2D(10, 3, activation='relu'),\n",
    "  MaxPool2D(),\n",
    "  Flatten(),\n",
    "  Dense(1, activation='sigmoid')\n",
    "])\n",
    "\n",
    "# Compile the model\n",
    "model_6.compile(loss='binary_crossentropy',\n",
    "                optimizer=Adam(),\n",
    "                metrics=['accuracy'])\n",
    "\n",
    "# Fit the model\n",
    "history_6 = model_6.fit(train_data_augmented, # changed to augmented training data\n",
    "                        epochs=5,\n",
    "                        steps_per_epoch=len(train_data_augmented),\n",
    "                        validation_data=test_data,\n",
    "                        validation_steps=len(test_data))"
   ]
  },
  {
   "cell_type": "markdown",
   "id": "81d5bd2c",
   "metadata": {
    "papermill": {
     "duration": null,
     "end_time": null,
     "exception": null,
     "start_time": null,
     "status": "pending"
    },
    "tags": []
   },
   "source": [
    "> 🤔 **Question:** Why didn't our model get very good results on the training set to begin with?\n",
    "\n",
    "It's because when we created `train_data_augmented` we turned off data shuffling using `shuffle=False` which means our model only sees a batch of a single kind of images at a time. \n",
    "\n",
    "For example, the pizza class gets loaded in first because it's the first class. Thus it's performance is measured on only a single class rather than both classes. The validation data performance improves steadily because it contains shuffled data.\n",
    "\n",
    "Since we only set `shuffle=False` for demonstration purposes (so we could plot the same augmented and non-augmented image), we can fix this by setting `shuffle=True` on future data generators.\n",
    "\n",
    "You may have also noticed each epoch taking longer when training with augmented data compared to when training with non-augmented data (~25s per epoch vs. ~10s per epoch).\n",
    "\n",
    "This is because the `ImageDataGenerator` instance augments the data as it's loaded into the model. The benefit of this is that it leaves the original images unchanged. The downside is that it takes longer to load them in.\n",
    "\n",
    "> 🔑 **Note:** One possible method to speed up dataset manipulation would be to look into [TensorFlow's parrallel reads and buffered prefecting options](https://www.tensorflow.org/tutorials/images/data_augmentation)."
   ]
  },
  {
   "cell_type": "code",
   "execution_count": null,
   "id": "75ffc05c",
   "metadata": {
    "papermill": {
     "duration": null,
     "end_time": null,
     "exception": null,
     "start_time": null,
     "status": "pending"
    },
    "tags": []
   },
   "outputs": [],
   "source": [
    "# Check model's performance history training on augmented data\n",
    "plot_loss_curves(history_6)"
   ]
  },
  {
   "cell_type": "markdown",
   "id": "af4696bb",
   "metadata": {
    "papermill": {
     "duration": null,
     "end_time": null,
     "exception": null,
     "start_time": null,
     "status": "pending"
    },
    "tags": []
   },
   "source": [
    "It seems our validation loss curve is heading in the right direction but it's a bit jumpy (the most ideal loss curve isn't too spiky but a smooth descent, however, a perfectly smooth loss curve is the equivalent of a fairytale).\n",
    "\n",
    "Let's see what happens when we shuffle the augmented training data."
   ]
  },
  {
   "cell_type": "code",
   "execution_count": null,
   "id": "a7bcfba0",
   "metadata": {
    "papermill": {
     "duration": null,
     "end_time": null,
     "exception": null,
     "start_time": null,
     "status": "pending"
    },
    "tags": []
   },
   "outputs": [],
   "source": [
    "# Import data and augment it from directories\n",
    "train_data_augmented_shuffled = train_datagen_augmented.flow_from_directory(train_dir,\n",
    "                                                                            target_size=(224, 224),\n",
    "                                                                            batch_size=32,\n",
    "                                                                            class_mode='binary',\n",
    "                                                                            shuffle=True) # Shuffle data (default)"
   ]
  },
  {
   "cell_type": "code",
   "execution_count": null,
   "id": "45cee7d9",
   "metadata": {
    "papermill": {
     "duration": null,
     "end_time": null,
     "exception": null,
     "start_time": null,
     "status": "pending"
    },
    "tags": []
   },
   "outputs": [],
   "source": [
    "# Create the model (same as model_5 and model_6)\n",
    "model_7 = Sequential([\n",
    "  Conv2D(10, 3, activation='relu', input_shape=(224, 224, 3)),\n",
    "  MaxPool2D(),\n",
    "  Conv2D(10, 3, activation='relu'),\n",
    "  MaxPool2D(),\n",
    "  Conv2D(10, 3, activation='relu'),\n",
    "  MaxPool2D(),\n",
    "  Flatten(),\n",
    "  Dense(1, activation='sigmoid')\n",
    "])\n",
    "\n",
    "# Compile the model\n",
    "model_7.compile(loss='binary_crossentropy',\n",
    "                optimizer=Adam(),\n",
    "                metrics=['accuracy'])\n",
    "\n",
    "# Fit the model\n",
    "history_7 = model_7.fit(train_data_augmented_shuffled, # now the augmented data is shuffled\n",
    "                        epochs=5,\n",
    "                        steps_per_epoch=len(train_data_augmented_shuffled),\n",
    "                        validation_data=test_data,\n",
    "                        validation_steps=len(test_data))"
   ]
  },
  {
   "cell_type": "code",
   "execution_count": null,
   "id": "fa26bbf2",
   "metadata": {
    "papermill": {
     "duration": null,
     "end_time": null,
     "exception": null,
     "start_time": null,
     "status": "pending"
    },
    "tags": []
   },
   "outputs": [],
   "source": [
    "# Check model's performance history training on augmented data\n",
    "plot_loss_curves(history_7)"
   ]
  },
  {
   "cell_type": "markdown",
   "id": "32c33ebe",
   "metadata": {
    "papermill": {
     "duration": null,
     "end_time": null,
     "exception": null,
     "start_time": null,
     "status": "pending"
    },
    "tags": []
   },
   "source": [
    "Notice with `model_7` how the performance on the training dataset improves almost immediately compared to `model_6`. This is because we shuffled the training data as we passed it to the model using the parameter `shuffle=True` in the `flow_from_directory` method.\n",
    "\n",
    "This means the model was able to see examples of both pizza and steak images in each batch and in turn be evaluated on what it learned from both images rather than just one kind.\n",
    "\n",
    "Also, our loss curves look a little bit smoother with shuffled data (comparing `history_6` to `history_7`)."
   ]
  },
  {
   "cell_type": "markdown",
   "id": "4ced7c90",
   "metadata": {
    "papermill": {
     "duration": null,
     "end_time": null,
     "exception": null,
     "start_time": null,
     "status": "pending"
    },
    "tags": []
   },
   "source": [
    "### 7. Repeat until satisified\n",
    "\n",
    "We've trained a few model's on our dataset already and so far they're performing pretty good.\n",
    "\n",
    "Since we've already beaten our baseline, there are a few things we could try to continue to improve our model:\n",
    "* Increase the number of model layers (e.g. add more convolutional layers).\n",
    "* Increase the number of filters in each convolutional layer (e.g. from 10 to 32, 64, or 128, these numbers aren't set in stone either, they are usually found through trial and error).\n",
    "* Train for longer (more epochs).\n",
    "* Finding an ideal learning rate.\n",
    "* Get more data (give the model more opportunities to learn).\n",
    "* Use **transfer learning** to leverage what another image model has learned and adjust it for our own use case.\n",
    "\n",
    "Adjusting each of these settings (except for the last two) during model development is usually referred to as **hyperparameter tuning**.\n",
    "\n",
    "You can think of hyperparameter tuning as simialr to adjusting the settings on your oven to cook your favourite dish. Although your oven does most of the cooking for you, you can help it by tweaking the dials.\n",
    "\n",
    "Let's go back to right where we started and try our original model (`model_1` or the TinyVGG architecture from [CNN explainer](https://poloclub.github.io/cnn-explainer/)).\n"
   ]
  },
  {
   "cell_type": "code",
   "execution_count": null,
   "id": "6b2eff1f",
   "metadata": {
    "papermill": {
     "duration": null,
     "end_time": null,
     "exception": null,
     "start_time": null,
     "status": "pending"
    },
    "tags": []
   },
   "outputs": [],
   "source": [
    "# Create a CNN model (same as Tiny VGG but for binary classification - https://poloclub.github.io/cnn-explainer/ )\n",
    "model_8 = Sequential([\n",
    "  Conv2D(10, 3, activation='relu', input_shape=(224, 224, 3)), # same input shape as our images\n",
    "  Conv2D(10, 3, activation='relu'),\n",
    "  MaxPool2D(),\n",
    "  Conv2D(10, 3, activation='relu'),\n",
    "  Conv2D(10, 3, activation='relu'),\n",
    "  MaxPool2D(),\n",
    "  Flatten(),\n",
    "  Dense(1, activation='sigmoid')\n",
    "])\n",
    "\n",
    "# Compile the model\n",
    "model_8.compile(loss=\"binary_crossentropy\",\n",
    "                optimizer=tf.keras.optimizers.Adam(),\n",
    "                metrics=[\"accuracy\"])\n",
    "\n",
    "# Fit the model\n",
    "history_8 = model_8.fit(train_data_augmented_shuffled,\n",
    "                        epochs=5,\n",
    "                        steps_per_epoch=len(train_data_augmented_shuffled),\n",
    "                        validation_data=test_data,\n",
    "                        validation_steps=len(test_data))"
   ]
  },
  {
   "cell_type": "markdown",
   "id": "4d9edcf9",
   "metadata": {
    "papermill": {
     "duration": null,
     "end_time": null,
     "exception": null,
     "start_time": null,
     "status": "pending"
    },
    "tags": []
   },
   "source": [
    "> 🔑 **Note:** You might've noticed we used some slightly different code to build `model_8` as compared to `model_1`. This is because of the imports we did before, such as `from tensorflow.keras.layers import Conv2D` reduce the amount of code we had to write. Although the code is different, the architectures are the same."
   ]
  },
  {
   "cell_type": "code",
   "execution_count": null,
   "id": "4dcf43bd",
   "metadata": {
    "papermill": {
     "duration": null,
     "end_time": null,
     "exception": null,
     "start_time": null,
     "status": "pending"
    },
    "tags": []
   },
   "outputs": [],
   "source": [
    "# Check model_1 architecture (same as model_8)\n",
    "model_1.summary()"
   ]
  },
  {
   "cell_type": "code",
   "execution_count": null,
   "id": "2d1aeb21",
   "metadata": {
    "papermill": {
     "duration": null,
     "end_time": null,
     "exception": null,
     "start_time": null,
     "status": "pending"
    },
    "tags": []
   },
   "outputs": [],
   "source": [
    "# Check model_8 architecture (same as model_1)\n",
    "model_8.summary()"
   ]
  },
  {
   "cell_type": "markdown",
   "id": "9d9a3b2e",
   "metadata": {
    "papermill": {
     "duration": null,
     "end_time": null,
     "exception": null,
     "start_time": null,
     "status": "pending"
    },
    "tags": []
   },
   "source": [
    "Now let's check out our TinyVGG model's performance."
   ]
  },
  {
   "cell_type": "code",
   "execution_count": null,
   "id": "c3f3d224",
   "metadata": {
    "papermill": {
     "duration": null,
     "end_time": null,
     "exception": null,
     "start_time": null,
     "status": "pending"
    },
    "tags": []
   },
   "outputs": [],
   "source": [
    "# Check out the TinyVGG model performance\n",
    "plot_loss_curves(history_8)"
   ]
  },
  {
   "cell_type": "markdown",
   "id": "0e4dcaed",
   "metadata": {
    "papermill": {
     "duration": null,
     "end_time": null,
     "exception": null,
     "start_time": null,
     "status": "pending"
    },
    "tags": []
   },
   "source": [
    "Hmm, our training curves are looking good, but our model's performance on the training and test sets didn't improve much compared to the previous model.\n",
    "\n",
    "Taking another loook at the training curves, it looks like our model's performance might improve if we trained it a little longer (more epochs).\n",
    "\n",
    "Perhaps that's something you like to try?"
   ]
  },
  {
   "cell_type": "markdown",
   "id": "47498a11",
   "metadata": {
    "papermill": {
     "duration": null,
     "end_time": null,
     "exception": null,
     "start_time": null,
     "status": "pending"
    },
    "tags": []
   },
   "source": [
    "### Making a prediction with our trained model\n",
    "\n",
    "What good is a trained model if you can't make predictions with it?\n",
    "\n",
    "To really test it out, we'll upload a couple of our own images and see how the model goes.\n",
    "\n",
    "First, let's remind ourselves of the classnames and view the image we're going to test on."
   ]
  },
  {
   "cell_type": "code",
   "execution_count": null,
   "id": "0fdc67ce",
   "metadata": {
    "papermill": {
     "duration": null,
     "end_time": null,
     "exception": null,
     "start_time": null,
     "status": "pending"
    },
    "tags": []
   },
   "outputs": [],
   "source": [
    "# Classes we're working with\n",
    "print(class_names)"
   ]
  },
  {
   "cell_type": "code",
   "execution_count": null,
   "id": "232ad149",
   "metadata": {
    "papermill": {
     "duration": null,
     "end_time": null,
     "exception": null,
     "start_time": null,
     "status": "pending"
    },
    "tags": []
   },
   "outputs": [],
   "source": [
    "# View our example image\n",
    "!wget https://raw.githubusercontent.com/mrdbourke/tensorflow-deep-learning/main/images/03-steak.jpeg \n",
    "steak = mpimg.imread(\"03-steak.jpeg\")\n",
    "plt.imshow(steak)\n",
    "plt.axis(False);"
   ]
  },
  {
   "cell_type": "code",
   "execution_count": null,
   "id": "9275401f",
   "metadata": {
    "papermill": {
     "duration": null,
     "end_time": null,
     "exception": null,
     "start_time": null,
     "status": "pending"
    },
    "tags": []
   },
   "outputs": [],
   "source": [
    "# Check the shape of our image\n",
    "steak.shape"
   ]
  },
  {
   "cell_type": "markdown",
   "id": "ef88a42c",
   "metadata": {
    "papermill": {
     "duration": null,
     "end_time": null,
     "exception": null,
     "start_time": null,
     "status": "pending"
    },
    "tags": []
   },
   "source": [
    "Since our model takes in images of shapes `(224, 224, 3)`, we've got to reshape our custom image to use it with our model.\n",
    "\n",
    "To do so, we can import and decode our image using [`tf.io.read_file`](https://www.tensorflow.org/api_docs/python/tf/io/read_file) (for readining files) and [`tf.image`](https://www.tensorflow.org/api_docs/python/tf/image) (for resizing our image and turning it into a tensor).\n",
    "\n",
    "> 🔑 **Note:** For your model to make predictions on unseen data, for example, your own custom images, the custom image has to be in the same shape as your model has been trained on. In more general terms, to make predictions on custom data it has to be in the same form that your model has been trained on."
   ]
  },
  {
   "cell_type": "code",
   "execution_count": null,
   "id": "dad159fb",
   "metadata": {
    "papermill": {
     "duration": null,
     "end_time": null,
     "exception": null,
     "start_time": null,
     "status": "pending"
    },
    "tags": []
   },
   "outputs": [],
   "source": [
    "# Create a function to import an image and resize it to be able to be used with our model\n",
    "def load_and_prep_image(filename, img_shape=224):\n",
    "  \"\"\"\n",
    "  Reads an image from filename, turns it into a tensor\n",
    "  and reshapes it to (img_shape, img_shape, colour_channel).\n",
    "  \"\"\"\n",
    "  # Read in target file (an image)\n",
    "  img = tf.io.read_file(filename)\n",
    "\n",
    "  # Decode the read file into a tensor & ensure 3 colour channels \n",
    "  # (our model is trained on images with 3 colour channels and sometimes images have 4 colour channels)\n",
    "  img = tf.image.decode_image(img, channels=3)\n",
    "\n",
    "  # Resize the image (to the same size our model was trained on)\n",
    "  img = tf.image.resize(img, size = [img_shape, img_shape])\n",
    "\n",
    "  # Rescale the image (get all values between 0 and 1)\n",
    "  img = img/255.\n",
    "  return img"
   ]
  },
  {
   "cell_type": "code",
   "execution_count": null,
   "id": "e2372513",
   "metadata": {
    "papermill": {
     "duration": null,
     "end_time": null,
     "exception": null,
     "start_time": null,
     "status": "pending"
    },
    "tags": []
   },
   "outputs": [],
   "source": [
    "# Load in and preprocess our custom image\n",
    "steak = load_and_prep_image(\"03-steak.jpeg\")\n",
    "steak"
   ]
  },
  {
   "cell_type": "markdown",
   "id": "80e932bf",
   "metadata": {
    "papermill": {
     "duration": null,
     "end_time": null,
     "exception": null,
     "start_time": null,
     "status": "pending"
    },
    "tags": []
   },
   "source": [
    ":Wonderful, our image is in tensor format, time to try it with our model!"
   ]
  },
  {
   "cell_type": "code",
   "execution_count": null,
   "id": "5f20dfe1",
   "metadata": {
    "papermill": {
     "duration": null,
     "end_time": null,
     "exception": null,
     "start_time": null,
     "status": "pending"
    },
    "tags": []
   },
   "outputs": [],
   "source": [
    "# Make a prediction on our custom image (spoiler: this won't work)\n",
    "model_8.predict(steak)"
   ]
  },
  {
   "cell_type": "markdown",
   "id": "fee4ad94",
   "metadata": {
    "papermill": {
     "duration": null,
     "end_time": null,
     "exception": null,
     "start_time": null,
     "status": "pending"
    },
    "tags": []
   },
   "source": [
    "There's one more problem...\n",
    "\n",
    "Although our image is in the same shape as the images our model has been trained on, we're still missing a dimension.\n",
    "\n",
    "Remember how our model was trained in batches?\n",
    "\n",
    "Well, the batch size becomes the first dimension.\n",
    "\n",
    "So in reality, our model was trained on data in the shape of `(batch_size, 224, 224, 3)`.\n",
    "\n",
    "We can fix this by adding an extra to our custom image tensor using [`tf.expand_dims`](https://www.tensorflow.org/api_docs/python/tf/expand_dims)."
   ]
  },
  {
   "cell_type": "code",
   "execution_count": null,
   "id": "ec40a2b3",
   "metadata": {
    "papermill": {
     "duration": null,
     "end_time": null,
     "exception": null,
     "start_time": null,
     "status": "pending"
    },
    "tags": []
   },
   "outputs": [],
   "source": [
    "# Add an extra axis\n",
    "print(f\"Shape before new dimension: {steak.shape}\")\n",
    "steak = tf.expand_dims(steak, axis=0) # add an extra dimension at axis 0\n",
    "#steak = steak[tf.newaxis, ...] # alternative to the above, '...' is short for 'every other dimension'\n",
    "print(f\"Shape after new dimension: {steak.shape}\")\n",
    "steak"
   ]
  },
  {
   "cell_type": "code",
   "execution_count": null,
   "id": "a77ed812",
   "metadata": {
    "papermill": {
     "duration": null,
     "end_time": null,
     "exception": null,
     "start_time": null,
     "status": "pending"
    },
    "tags": []
   },
   "outputs": [],
   "source": [
    "# Make a prediction on custom image tensor\n",
    "pred = model_8.predict(steak)\n",
    "pred"
   ]
  },
  {
   "cell_type": "markdown",
   "id": "a165af84",
   "metadata": {
    "papermill": {
     "duration": null,
     "end_time": null,
     "exception": null,
     "start_time": null,
     "status": "pending"
    },
    "tags": []
   },
   "source": [
    "Ahh, the predictions come out in **prediction probability** form. In other words, this means how likely the image is to be one class or another.\n",
    "\n",
    "Since we're working with a binary classification problem, if the prediction probability is over 0.5, according to the model, the prediction is most likely to be the **postive class** (class 1).\n",
    "\n",
    "And if the prediction probability is under 0.5, according to the model, the predicted class is most likely to be the **negative class** (class 0).\n",
    "\n",
    "> 🔑 **Note:** The 0.5 cutoff can be adjusted to your liking. For example, you could set the limit to be 0.8 and over for the positive class and 0.2 for the negative class. However, doing this will almost always change your model's performance metrics so be sure to make sure they change in the right direction.\n",
    "\n",
    "But saying positive and negative class doesn't make much sense when we're working with pizza 🍕 and steak 🥩...\n",
    "\n",
    "So let's write a little function to convert predictions into their class names and then plot the target image."
   ]
  },
  {
   "cell_type": "code",
   "execution_count": null,
   "id": "f2f05607",
   "metadata": {
    "papermill": {
     "duration": null,
     "end_time": null,
     "exception": null,
     "start_time": null,
     "status": "pending"
    },
    "tags": []
   },
   "outputs": [],
   "source": [
    "# Remind ourselves of our class names\n",
    "class_names"
   ]
  },
  {
   "cell_type": "code",
   "execution_count": null,
   "id": "9d3b426d",
   "metadata": {
    "papermill": {
     "duration": null,
     "end_time": null,
     "exception": null,
     "start_time": null,
     "status": "pending"
    },
    "tags": []
   },
   "outputs": [],
   "source": [
    "# We can index the predicted class by rounding the prediction probability\n",
    "pred_class = class_names[int(tf.round(pred)[0][0])]\n",
    "pred_class"
   ]
  },
  {
   "cell_type": "code",
   "execution_count": null,
   "id": "72b4c646",
   "metadata": {
    "papermill": {
     "duration": null,
     "end_time": null,
     "exception": null,
     "start_time": null,
     "status": "pending"
    },
    "tags": []
   },
   "outputs": [],
   "source": [
    "def pred_and_plot(model, filename, class_names):\n",
    "  \"\"\"\n",
    "  Imports an image located at filename, makes a prediction on it with\n",
    "  a trained model and plots the image with the predicted class as the title.\n",
    "  \"\"\"\n",
    "  # Import the target image and preprocess it\n",
    "  img = load_and_prep_image(filename)\n",
    "\n",
    "  # Make a prediction\n",
    "  pred = model.predict(tf.expand_dims(img, axis=0))\n",
    "\n",
    "  # Get the predicted class\n",
    "  pred_class = class_names[int(tf.round(pred)[0][0])]\n",
    "\n",
    "  # Plot the image and predicted class\n",
    "  plt.imshow(img)\n",
    "  plt.title(f\"Prediction: {pred_class}\")\n",
    "  plt.axis(False);"
   ]
  },
  {
   "cell_type": "code",
   "execution_count": null,
   "id": "6fc9abb3",
   "metadata": {
    "papermill": {
     "duration": null,
     "end_time": null,
     "exception": null,
     "start_time": null,
     "status": "pending"
    },
    "tags": []
   },
   "outputs": [],
   "source": [
    "# Test our model on a custom image\n",
    "pred_and_plot(model_8, \"03-steak.jpeg\", class_names)"
   ]
  },
  {
   "cell_type": "markdown",
   "id": "0bb9aed9",
   "metadata": {
    "papermill": {
     "duration": null,
     "end_time": null,
     "exception": null,
     "start_time": null,
     "status": "pending"
    },
    "tags": []
   },
   "source": [
    "Nice! Our model got the prediction right.\n",
    "\n",
    "The only downside of working with food is this is making me hungry.\n",
    "\n",
    "Let's try one more image."
   ]
  },
  {
   "cell_type": "code",
   "execution_count": null,
   "id": "1004b23d",
   "metadata": {
    "papermill": {
     "duration": null,
     "end_time": null,
     "exception": null,
     "start_time": null,
     "status": "pending"
    },
    "tags": []
   },
   "outputs": [],
   "source": [
    "# Download another test image and make a prediction on it\n",
    "!wget https://raw.githubusercontent.com/mrdbourke/tensorflow-deep-learning/main/images/03-pizza-dad.jpeg \n",
    "pred_and_plot(model_8, \"03-pizza-dad.jpeg\", class_names)"
   ]
  },
  {
   "cell_type": "markdown",
   "id": "64af8fca",
   "metadata": {
    "papermill": {
     "duration": null,
     "end_time": null,
     "exception": null,
     "start_time": null,
     "status": "pending"
    },
    "tags": []
   },
   "source": [
    "[link text](https://)Two thumbs up! Woohoo!"
   ]
  },
  {
   "cell_type": "markdown",
   "id": "18090d6c",
   "metadata": {
    "papermill": {
     "duration": null,
     "end_time": null,
     "exception": null,
     "start_time": null,
     "status": "pending"
    },
    "tags": []
   },
   "source": [
    "## Multi-class Classification\n",
    "\n",
    "We've referenced the TinyVGG architecture from the CNN Explainer website multiple times through this notebook, however, the CNN Explainer website works with 10 different image classes, where as our current model only works with two classes (pizza and steak).\n",
    "\n",
    "> 🛠 **Practice:** Before scrolling down, how do you think we might change our model to work with 10 classes of the same kind of images? Assume the data is in the same style as our two class problem.\n",
    "\n",
    "Remember the steps we took before to build our pizza 🍕 vs. steak 🥩 classifier?\n",
    "\n",
    "How about we go through those steps again, except this time, we'll work with 10 different types of food.\n",
    "\n",
    "1. Become one with the data (visualize, visualize, visualize...)\n",
    "2. Preprocess the data (prepare it for a model)\n",
    "3. Create a model (start with a baseline)\n",
    "4. Fit the model\n",
    "5. Evaluate the model\n",
    "6. Adjust different parameters and improve model (try to beat your baseline)\n",
    "7. Repeat until satisfied\n",
    "\n",
    "![](https://raw.githubusercontent.com/mrdbourke/tensorflow-deep-learning/main/images/misc-tensorflow-workflow-outline.png)\n",
    "*The workflow we're about to go through is a slightly modified version of the above image. As you keep going through deep learning problems, you'll find the workflow above is more of an outline than a step-by-step guide.*"
   ]
  },
  {
   "cell_type": "code",
   "execution_count": null,
   "id": "90a91beb",
   "metadata": {
    "papermill": {
     "duration": null,
     "end_time": null,
     "exception": null,
     "start_time": null,
     "status": "pending"
    },
    "tags": []
   },
   "outputs": [],
   "source": [
    "# import zipfile\n",
    "\n",
    "# # Download zip file of 10_food_classes images\n",
    "# # See how this data was created - https://github.com/mrdbourke/tensorflow-deep-learning/blob/main/extras/image_data_modification.ipynb\n",
    "# !wget https://storage.googleapis.com/ztm_tf_course/food_vision/10_food_classes_all_data.zip \n",
    "\n",
    "# # Unzip the downloaded file\n",
    "# zip_ref = zipfile.ZipFile(\"10_food_classes_all_data.zip\", \"r\")\n",
    "# zip_ref.extractall()\n",
    "# zip_ref.close()"
   ]
  },
  {
   "cell_type": "markdown",
   "id": "487d80ef",
   "metadata": {
    "papermill": {
     "duration": null,
     "end_time": null,
     "exception": null,
     "start_time": null,
     "status": "pending"
    },
    "tags": []
   },
   "source": [
    "\\Now let's check out all of the different directories and sub-directories in the `10_food_classes` file."
   ]
  },
  {
   "cell_type": "code",
   "execution_count": null,
   "id": "8e2c45ce",
   "metadata": {
    "papermill": {
     "duration": null,
     "end_time": null,
     "exception": null,
     "start_time": null,
     "status": "pending"
    },
    "tags": []
   },
   "outputs": [],
   "source": [
    "import os\n",
    "\n",
    "# Walk through 10_food_classes directory and list number of files\n",
    "for dirpath, dirnames, filenames in os.walk(\"10_food_classes_all_data\"):\n",
    "  print(f\"There are {len(dirnames)} directories and {len(filenames)} images in '{dirpath}'.\")"
   ]
  },
  {
   "cell_type": "markdown",
   "id": "1b6204e8",
   "metadata": {
    "papermill": {
     "duration": null,
     "end_time": null,
     "exception": null,
     "start_time": null,
     "status": "pending"
    },
    "tags": []
   },
   "source": [
    "\n",
    "\n",
    "```\n",
    "# This is formatted as code\n",
    "```\n",
    "\n",
    "Looking good!\n",
    "\n",
    "We'll now setup the training and test directory paths."
   ]
  },
  {
   "cell_type": "code",
   "execution_count": null,
   "id": "08177860",
   "metadata": {
    "papermill": {
     "duration": null,
     "end_time": null,
     "exception": null,
     "start_time": null,
     "status": "pending"
    },
    "tags": []
   },
   "outputs": [],
   "source": [
    "train_dir = \"10_food_classes_all_data/train/\"\n",
    "test_dir = \"10_food_classes_all_data/test/\""
   ]
  },
  {
   "cell_type": "markdown",
   "id": "14798a62",
   "metadata": {
    "papermill": {
     "duration": null,
     "end_time": null,
     "exception": null,
     "start_time": null,
     "status": "pending"
    },
    "tags": []
   },
   "source": [
    "And get the class names from the subdirectories."
   ]
  },
  {
   "cell_type": "code",
   "execution_count": null,
   "id": "2fe3d177",
   "metadata": {
    "papermill": {
     "duration": null,
     "end_time": null,
     "exception": null,
     "start_time": null,
     "status": "pending"
    },
    "tags": []
   },
   "outputs": [],
   "source": [
    "# Get the class names for our multi-class dataset\n",
    "import pathlib\n",
    "import numpy as np\n",
    "data_dir = pathlib.Path(train_dir)\n",
    "class_names = np.array(sorted([item.name for item in data_dir.glob('*')]))\n",
    "print(class_names)"
   ]
  },
  {
   "cell_type": "markdown",
   "id": "cbbce12c",
   "metadata": {
    "papermill": {
     "duration": null,
     "end_time": null,
     "exception": null,
     "start_time": null,
     "status": "pending"
    },
    "tags": []
   },
   "source": [
    "How about we visualize an image from the training set?"
   ]
  },
  {
   "cell_type": "code",
   "execution_count": null,
   "id": "7772ecd8",
   "metadata": {
    "papermill": {
     "duration": null,
     "end_time": null,
     "exception": null,
     "start_time": null,
     "status": "pending"
    },
    "tags": []
   },
   "outputs": [],
   "source": [
    "# View a random image from the training dataset\n",
    "import random\n",
    "img = view_random_image(target_dir=train_dir,\n",
    "                        target_class=random.choice(class_names)) # get a random class name"
   ]
  },
  {
   "cell_type": "code",
   "execution_count": null,
   "id": "daa05e27",
   "metadata": {
    "papermill": {
     "duration": null,
     "end_time": null,
     "exception": null,
     "start_time": null,
     "status": "pending"
    },
    "tags": []
   },
   "outputs": [],
   "source": [
    "random.choice(class_names)"
   ]
  },
  {
   "cell_type": "markdown",
   "id": "bfdea94b",
   "metadata": {
    "papermill": {
     "duration": null,
     "end_time": null,
     "exception": null,
     "start_time": null,
     "status": "pending"
    },
    "tags": []
   },
   "source": [
    "### 2. Preprocess the data (prepare it for a model)\n",
    "\n",
    "After going through a handful of images (it's good to visualize at least 10-100 different examples), it looks like our data directories are setup correctly.\n",
    "\n",
    "Time to preprocess the data."
   ]
  },
  {
   "cell_type": "code",
   "execution_count": null,
   "id": "931b8195",
   "metadata": {
    "papermill": {
     "duration": null,
     "end_time": null,
     "exception": null,
     "start_time": null,
     "status": "pending"
    },
    "tags": []
   },
   "outputs": [],
   "source": [
    "from tensorflow.keras.preprocessing.image import ImageDataGenerator\n",
    "\n",
    "# Rescale the data and create data generator instances\n",
    "train_datagen = ImageDataGenerator(rescale=1/255.)\n",
    "test_datagen = ImageDataGenerator(rescale=1/255.)\n",
    "\n",
    "# Load data in from directories and turn it into batches\n",
    "train_data = train_datagen.flow_from_directory(train_dir,\n",
    "                                               target_size=(224, 224),\n",
    "                                               batch_size=32,\n",
    "                                               class_mode='categorical') # changed to categorical\n",
    "\n",
    "test_data = train_datagen.flow_from_directory(test_dir,\n",
    "                                              target_size=(224, 224),\n",
    "                                              batch_size=32,\n",
    "                                              class_mode='categorical')"
   ]
  },
  {
   "cell_type": "markdown",
   "id": "38706d1b",
   "metadata": {
    "papermill": {
     "duration": null,
     "end_time": null,
     "exception": null,
     "start_time": null,
     "status": "pending"
    },
    "tags": []
   },
   "source": [
    "As with binary classifcation, we've creator image generators. The main change this time is that we've changed the `class_mode` parameter to `'categorical'` because we're dealing with 10 classes of food images.\n",
    "\n",
    "Everything else like rescaling the images, creating the batch size and target image size stay the same.\n",
    "\n",
    "> 🤔 **Question:** Why is the image size 224x224? This could actually be any size we wanted, however, 224x224 is a very common size for preprocessing images to. Depending on your problem you might want to use larger or smaller images."
   ]
  },
  {
   "cell_type": "markdown",
   "id": "7598ea59",
   "metadata": {
    "papermill": {
     "duration": null,
     "end_time": null,
     "exception": null,
     "start_time": null,
     "status": "pending"
    },
    "tags": []
   },
   "source": [
    "### 3. Create a model (start with a baseline)\n",
    "\n",
    "We can use the same model (TinyVGG) we used for the binary classification problem for our multi-class classification problem with a couple of small tweaks.\n",
    "\n",
    "Namely:\n",
    "* Changing the output layer to use have 10 ouput neurons (the same number as the number of classes we have).\n",
    "* Changing the output layer to use `'softmax'` activation instead of `'sigmoid'` activation.\n",
    "* Changing the loss function to be `'categorical_crossentropy'` instead of `'binary_crossentropy'`."
   ]
  },
  {
   "cell_type": "code",
   "execution_count": null,
   "id": "e99ec9fe",
   "metadata": {
    "papermill": {
     "duration": null,
     "end_time": null,
     "exception": null,
     "start_time": null,
     "status": "pending"
    },
    "tags": []
   },
   "outputs": [],
   "source": [
    "import tensorflow as tf\n",
    "from tensorflow.keras.models import Sequential\n",
    "from tensorflow.keras.layers import Conv2D, MaxPool2D, Flatten, Dense\n",
    "\n",
    "# Create our model (a clone of model_8, except to be multi-class)\n",
    "model_9 = Sequential([\n",
    "  Conv2D(10, 3, activation='relu', input_shape=(224, 224, 3)),\n",
    "  Conv2D(10, 3, activation='relu'),\n",
    "  MaxPool2D(),\n",
    "  Conv2D(10, 3, activation='relu'),\n",
    "  Conv2D(10, 3, activation='relu'),\n",
    "  MaxPool2D(),\n",
    "  Flatten(),\n",
    "  Dense(10, activation='softmax') # changed to have 10 neurons (same as number of classes) and 'softmax' activation\n",
    "])\n",
    "\n",
    "# Compile the model\n",
    "model_9.compile(loss=\"categorical_crossentropy\", # changed to categorical_crossentropy\n",
    "                optimizer=tf.keras.optimizers.Adam(),\n",
    "                metrics=[\"accuracy\"])"
   ]
  },
  {
   "cell_type": "markdown",
   "id": "5ec22c9c",
   "metadata": {
    "papermill": {
     "duration": null,
     "end_time": null,
     "exception": null,
     "start_time": null,
     "status": "pending"
    },
    "tags": []
   },
   "source": [
    "### 4. Fit a model\n",
    "\n",
    "Now we've got a model suited for working with multiple classes, let's fit it to our data."
   ]
  },
  {
   "cell_type": "code",
   "execution_count": null,
   "id": "adb4039e",
   "metadata": {
    "papermill": {
     "duration": null,
     "end_time": null,
     "exception": null,
     "start_time": null,
     "status": "pending"
    },
    "tags": []
   },
   "outputs": [],
   "source": [
    "# Fit the model\n",
    "history_9 = model_9.fit(train_data, # now 10 different classes \n",
    "                        epochs=5,\n",
    "                        steps_per_epoch=len(train_data),\n",
    "                        validation_data=test_data,\n",
    "                        validation_steps=len(test_data))"
   ]
  },
  {
   "cell_type": "markdown",
   "id": "26be3b8b",
   "metadata": {
    "papermill": {
     "duration": null,
     "end_time": null,
     "exception": null,
     "start_time": null,
     "status": "pending"
    },
    "tags": []
   },
   "source": [
    "Why do you think each epoch takes longer than when working with only two classes of images?\n",
    "\n",
    "It's because we're now dealing with more images than we were before. We've got 10 classes with 750 training images and 250 validation images each totalling 10,000 images. Where as when we had two classes, we had 1500 training images and 500 validation images, totalling 2000.\n",
    "\n",
    "The intuitive reasoning here is the more data you have, the longer a model will take to find patterns."
   ]
  },
  {
   "cell_type": "markdown",
   "id": "cf620991",
   "metadata": {
    "papermill": {
     "duration": null,
     "end_time": null,
     "exception": null,
     "start_time": null,
     "status": "pending"
    },
    "tags": []
   },
   "source": [
    "### 5. Evaluate the model\n",
    "\n",
    "Woohoo! We've just trained a model on 10 different classes of food images, let's see how it went."
   ]
  },
  {
   "cell_type": "code",
   "execution_count": null,
   "id": "98d455d8",
   "metadata": {
    "papermill": {
     "duration": null,
     "end_time": null,
     "exception": null,
     "start_time": null,
     "status": "pending"
    },
    "tags": []
   },
   "outputs": [],
   "source": [
    "# Evaluate on the test data\n",
    "model_9.evaluate(test_data)"
   ]
  },
  {
   "cell_type": "code",
   "execution_count": null,
   "id": "a08103ed",
   "metadata": {
    "papermill": {
     "duration": null,
     "end_time": null,
     "exception": null,
     "start_time": null,
     "status": "pending"
    },
    "tags": []
   },
   "outputs": [],
   "source": [
    "# Check out the model's loss curves on the 10 classes of data (note: this function comes from above in the notebook)\n",
    "plot_loss_curves(history_9)"
   ]
  },
  {
   "cell_type": "markdown",
   "id": "b7ff7ef9",
   "metadata": {
    "papermill": {
     "duration": null,
     "end_time": null,
     "exception": null,
     "start_time": null,
     "status": "pending"
    },
    "tags": []
   },
   "source": [
    "Woah, that's quite the gap between the training and validation loss curves.\n",
    "\n",
    "What does this tell us?\n",
    "\n",
    "It seems our model is **overfitting** the training set quite badly. In other words, it's getting great results on the training data but fails to generalize well to unseen data and performs poorly on the test data."
   ]
  },
  {
   "cell_type": "markdown",
   "id": "2461e62c",
   "metadata": {
    "papermill": {
     "duration": null,
     "end_time": null,
     "exception": null,
     "start_time": null,
     "status": "pending"
    },
    "tags": []
   },
   "source": [
    "### 6. Adjust the model parameters\n",
    "\n",
    "Due to its performance on the training data, it's clear our model is learning something. However, performing well on the training data is like going well in the classroom but failing to use your skills in real life.\n",
    "\n",
    "Ideally, we'd like our model to perform as well on the test data as it does on the training data.\n",
    "\n",
    "So our next steps will be to try and prevent our model overfitting. A couple of ways to prevent overfitting include:\n",
    "\n",
    "- **Get more data** - Having more data gives the model more opportunities to learn patterns, patterns which may be more generalizable to new examples.\n",
    "- **Simplify model** - If the current model is already overfitting the training data, it may be too complicated of a model. This means it's learning the patterns of the data too well and isn't able to generalize well to unseen data. One way to simplify a model is to reduce the number of layers it uses or to reduce the number of hidden units in each layer.\n",
    "- **Use data augmentation** - Data augmentation manipulates the training data in a way so that's harder for the model to learn as it artificially adds more variety to the data. If a model is able to learn patterns in augmented data, the model may be able to generalize better to unseen data.\n",
    "- **Use transfer learning** - Transfer learning involves leverages the patterns (also called pretrained weights) one model has learned to use as the foundation for your own task. In our case, we could use one computer vision model pretrained on a large variety of images and then tweak it slightly to be more specialized for food images.\n",
    "\n",
    "> 🔑 **Note:** Preventing overfitting is also referred to as **regularization**.\n",
    "\n",
    "If you've already got an existing dataset, you're probably most likely to try one or a combination of the last three above options first.\n",
    "\n",
    "Since collecting more data would involve us manually taking more images of food, let's try the ones we can do from right within the notebook.\n",
    "\n",
    "How about we simplify our model first?\n",
    "\n",
    "To do so, we'll remove two of the convolutional layers, taking the total number of convolutional layers from four to two."
   ]
  },
  {
   "cell_type": "code",
   "execution_count": null,
   "id": "ce85560e",
   "metadata": {
    "papermill": {
     "duration": null,
     "end_time": null,
     "exception": null,
     "start_time": null,
     "status": "pending"
    },
    "tags": []
   },
   "outputs": [],
   "source": [
    "# Try a simplified model (removed two layers)\n",
    "model_10 = Sequential([\n",
    "  Conv2D(10, 3, activation='relu', input_shape=(224, 224, 3)),\n",
    "  MaxPool2D(),\n",
    "  Conv2D(10, 3, activation='relu'),\n",
    "  MaxPool2D(),\n",
    "  Flatten(),\n",
    "  Dense(10, activation='softmax')\n",
    "])\n",
    "\n",
    "model_10.compile(loss='categorical_crossentropy',\n",
    "                 optimizer=tf.keras.optimizers.Adam(),\n",
    "                 metrics=['accuracy'])\n",
    "\n",
    "history_10 = model_10.fit(train_data,\n",
    "                          epochs=5,\n",
    "                          steps_per_epoch=len(train_data),\n",
    "                          validation_data=test_data,\n",
    "                          validation_steps=len(test_data))"
   ]
  },
  {
   "cell_type": "code",
   "execution_count": null,
   "id": "24634cca",
   "metadata": {
    "papermill": {
     "duration": null,
     "end_time": null,
     "exception": null,
     "start_time": null,
     "status": "pending"
    },
    "tags": []
   },
   "outputs": [],
   "source": [
    "# Check out the loss curves of model_10\n",
    "plot_loss_curves(history_10)"
   ]
  },
  {
   "cell_type": "code",
   "execution_count": null,
   "id": "7775a37c",
   "metadata": {
    "papermill": {
     "duration": null,
     "end_time": null,
     "exception": null,
     "start_time": null,
     "status": "pending"
    },
    "tags": []
   },
   "outputs": [],
   "source": [
    "model_10.summary(),model_9.summary()"
   ]
  },
  {
   "cell_type": "markdown",
   "id": "ea201a2c",
   "metadata": {
    "papermill": {
     "duration": null,
     "end_time": null,
     "exception": null,
     "start_time": null,
     "status": "pending"
    },
    "tags": []
   },
   "source": [
    "Hmm... even with a simplifed model, it looks like our model is still dramatically overfitting the training data.\n",
    "\n",
    "What else could we try?\n",
    "\n",
    "How about **data augmentation**?\n",
    "\n",
    "Data augmentation makes it harder for the model to learn on the training data and in turn, hopefully making the patterns it learns more generalizable to unseen data.\n",
    "\n",
    "To create augmented data, we'll recreate a new [`ImageDataGenerator`](https://www.tensorflow.org/api_docs/python/tf/keras/preprocessing/image/ImageDataGenerator) instance, this time adding some parameters such as `rotation_range` and `horizontal_flip` to manipulate our images."
   ]
  },
  {
   "cell_type": "code",
   "execution_count": null,
   "id": "d3283d3b",
   "metadata": {
    "papermill": {
     "duration": null,
     "end_time": null,
     "exception": null,
     "start_time": null,
     "status": "pending"
    },
    "tags": []
   },
   "outputs": [],
   "source": [
    "# Create augmented data generator instance\n",
    "train_datagen_augmented = ImageDataGenerator(rescale=1/255.,\n",
    "                                             rotation_range=20, # note: this is an int not a float\n",
    "                                             width_shift_range=0.2,\n",
    "                                             height_shift_range=0.2,\n",
    "                                             zoom_range=0.2,\n",
    "                                             horizontal_flip=True)\n",
    "\n",
    "train_data_augmented = train_datagen_augmented.flow_from_directory(train_dir,\n",
    "                                                                  target_size=(224, 224),\n",
    "                                                                  batch_size=32,\n",
    "                                                                  class_mode='categorical')"
   ]
  },
  {
   "cell_type": "markdown",
   "id": "8693becd",
   "metadata": {
    "papermill": {
     "duration": null,
     "end_time": null,
     "exception": null,
     "start_time": null,
     "status": "pending"
    },
    "tags": []
   },
   "source": [
    "Now we've got augmented data, let's see how it works with the same model as before (`model_10`).\n",
    "\n",
    "Rather than rewrite the model from scratch, we can clone it using a handy function in TensorFlow called [`clone_model`](https://www.tensorflow.org/api_docs/python/tf/keras/models/clone_model) which can take an existing model and rebuild it in the same format. \n",
    "\n",
    "The cloned version will not include any of the weights (patterns) the original model has learned. So when we train it, it'll be like training a model from scratch.\n",
    "\n",
    "> 🔑 **Note:** One of the key practices in deep learning and machine learning in general is to **be a serial experimenter**. That's what we're doing here. Trying something, seeing if it works, then trying something else. A good experiment setup also keeps track of the things you change, for example, that's why we're using the same model as before but with different data. The model stays the same but the data changes, this will let us know if augmented training data has any influence over performance."
   ]
  },
  {
   "cell_type": "code",
   "execution_count": null,
   "id": "e30ab53b",
   "metadata": {
    "papermill": {
     "duration": null,
     "end_time": null,
     "exception": null,
     "start_time": null,
     "status": "pending"
    },
    "tags": []
   },
   "outputs": [],
   "source": [
    "# Clone the model (use the same architecture)\n",
    "model_11 = tf.keras.models.clone_model(model_10)\n",
    "\n",
    "# Compile the cloned model (same setup as used for model_10)\n",
    "model_11.compile(loss=\"categorical_crossentropy\",\n",
    "              optimizer=tf.keras.optimizers.Adam(),\n",
    "              metrics=[\"accuracy\"])\n",
    "\n",
    "# Fit the model\n",
    "history_11 = model_11.fit(train_data_augmented, # use augmented data\n",
    "                          epochs=5,\n",
    "                          steps_per_epoch=len(train_data_augmented),\n",
    "                          validation_data=test_data,\n",
    "                          validation_steps=len(test_data))"
   ]
  },
  {
   "cell_type": "markdown",
   "id": "de5d095b",
   "metadata": {
    "papermill": {
     "duration": null,
     "end_time": null,
     "exception": null,
     "start_time": null,
     "status": "pending"
    },
    "tags": []
   },
   "source": [
    "You can see it each epoch takes longer than the previous model. This is because our data is being augmented on the fly on the CPU as it gets loaded onto the GPU, in turn, increasing the amount of time between each epoch.\n",
    "\n",
    "How do our model's training curves look?"
   ]
  },
  {
   "cell_type": "code",
   "execution_count": null,
   "id": "9eb151ca",
   "metadata": {
    "papermill": {
     "duration": null,
     "end_time": null,
     "exception": null,
     "start_time": null,
     "status": "pending"
    },
    "tags": []
   },
   "outputs": [],
   "source": [
    "# Check out our model's performance with augmented data\n",
    "plot_loss_curves(history_11)"
   ]
  },
  {
   "cell_type": "markdown",
   "id": "35229809",
   "metadata": {
    "papermill": {
     "duration": null,
     "end_time": null,
     "exception": null,
     "start_time": null,
     "status": "pending"
    },
    "tags": []
   },
   "source": [
    "Woah! That's looking much better, the loss curves are much closer to eachother. Although our model didn't perform as well on the augmented training set, it performed much better on the validation dataset.\n",
    "\n",
    "It even looks like if we kept it training for longer (more epochs) the evaluation metrics might continue to improve."
   ]
  },
  {
   "cell_type": "markdown",
   "id": "b203567b",
   "metadata": {
    "papermill": {
     "duration": null,
     "end_time": null,
     "exception": null,
     "start_time": null,
     "status": "pending"
    },
    "tags": []
   },
   "source": [
    "### 7. Repeat until satisfied\n",
    "\n",
    "We could keep going here. Restructuring our model's architecture, adding more layers, trying it out, adjusting the learning rate, trying it out, trying different methods of data augmentation, training for longer. But as you could image, this could take a fairly long time.\n",
    "\n",
    "Good thing there's still one trick we haven't tried yet and that's **transfer learning**.\n",
    "\n",
    "However, we'll save that for the next notebook where you'll see how rather than design our own models from scratch we leverage the patterns another model has learned for our own task.\n",
    "\n",
    "In the meantime, let's make a prediction with our trained multi-class model."
   ]
  },
  {
   "cell_type": "markdown",
   "id": "40286030",
   "metadata": {
    "papermill": {
     "duration": null,
     "end_time": null,
     "exception": null,
     "start_time": null,
     "status": "pending"
    },
    "tags": []
   },
   "source": [
    "## Making a prediction with our trained model\n",
    "\n",
    "What good is a model if you can't make predictions with it?\n",
    "\n",
    "Let's first remind ourselves of the classes our multi-class model has been trained on and then we'll download some of own custom images to work with."
   ]
  },
  {
   "cell_type": "code",
   "execution_count": null,
   "id": "129b7e6a",
   "metadata": {
    "papermill": {
     "duration": null,
     "end_time": null,
     "exception": null,
     "start_time": null,
     "status": "pending"
    },
    "tags": []
   },
   "outputs": [],
   "source": [
    "# What classes has our model been trained on?\n",
    "class_names"
   ]
  },
  {
   "cell_type": "markdown",
   "id": "9ae4ece6",
   "metadata": {
    "papermill": {
     "duration": null,
     "end_time": null,
     "exception": null,
     "start_time": null,
     "status": "pending"
    },
    "tags": []
   },
   "source": [
    "Beautiful, now let's get some of our custom images.\n",
    "\n",
    "If you're using Google Colab, you could also upload some of your own images via the files tab."
   ]
  },
  {
   "cell_type": "code",
   "execution_count": null,
   "id": "7a480ac4",
   "metadata": {
    "papermill": {
     "duration": null,
     "end_time": null,
     "exception": null,
     "start_time": null,
     "status": "pending"
    },
    "tags": []
   },
   "outputs": [],
   "source": [
    "# -q is for \"quiet\"\n",
    "!wget -q https://raw.githubusercontent.com/mrdbourke/tensorflow-deep-learning/main/images/03-pizza-dad.jpeg\n",
    "!wget -q https://raw.githubusercontent.com/mrdbourke/tensorflow-deep-learning/main/images/03-steak.jpeg\n",
    "!wget -q https://raw.githubusercontent.com/mrdbourke/tensorflow-deep-learning/main/images/03-hamburger.jpeg\n",
    "!wget -q https://raw.githubusercontent.com/mrdbourke/tensorflow-deep-learning/main/images/03-sushi.jpeg"
   ]
  },
  {
   "cell_type": "markdown",
   "id": "8830c4b2",
   "metadata": {
    "papermill": {
     "duration": null,
     "end_time": null,
     "exception": null,
     "start_time": null,
     "status": "pending"
    },
    "tags": []
   },
   "source": [
    "Okay, we've got some custom images to try, let's use the `pred_and_plot` function to make a prediction with `model_11` on one of the images and plot it."
   ]
  },
  {
   "cell_type": "code",
   "execution_count": null,
   "id": "ca036c8e",
   "metadata": {
    "papermill": {
     "duration": null,
     "end_time": null,
     "exception": null,
     "start_time": null,
     "status": "pending"
    },
    "tags": []
   },
   "outputs": [],
   "source": [
    "# Make a prediction using model_11\n",
    "pred_and_plot(model=model_11, \n",
    "              filename=\"03-steak.jpeg\", \n",
    "              class_names=class_names)"
   ]
  },
  {
   "cell_type": "markdown",
   "id": "791fe492",
   "metadata": {
    "papermill": {
     "duration": null,
     "end_time": null,
     "exception": null,
     "start_time": null,
     "status": "pending"
    },
    "tags": []
   },
   "source": [
    "Hmm... it looks like our model got the prediction wrong, how about we try another?"
   ]
  },
  {
   "cell_type": "code",
   "execution_count": null,
   "id": "f92dc2a2",
   "metadata": {
    "papermill": {
     "duration": null,
     "end_time": null,
     "exception": null,
     "start_time": null,
     "status": "pending"
    },
    "tags": []
   },
   "outputs": [],
   "source": [
    "pred_and_plot(model_11, \"03-sushi.jpeg\", class_names)"
   ]
  },
  {
   "cell_type": "markdown",
   "id": "1db4a9c1",
   "metadata": {
    "papermill": {
     "duration": null,
     "end_time": null,
     "exception": null,
     "start_time": null,
     "status": "pending"
    },
    "tags": []
   },
   "source": [
    "And again, it's predicting `chicken_curry` for some reason.\n",
    "\n",
    "How about one more?"
   ]
  },
  {
   "cell_type": "code",
   "execution_count": null,
   "id": "bea46e6b",
   "metadata": {
    "papermill": {
     "duration": null,
     "end_time": null,
     "exception": null,
     "start_time": null,
     "status": "pending"
    },
    "tags": []
   },
   "outputs": [],
   "source": [
    "pred_and_plot(model_11, \"03-pizza-dad.jpeg\", class_names)"
   ]
  },
  {
   "cell_type": "markdown",
   "id": "08580154",
   "metadata": {
    "papermill": {
     "duration": null,
     "end_time": null,
     "exception": null,
     "start_time": null,
     "status": "pending"
    },
    "tags": []
   },
   "source": [
    "`chicken_curry` again? There must be something wrong...\n",
    "\n",
    "I think it might have to do with our `pred_and_plot` function.\n",
    "\n",
    "Let's makes a prediction without using the function and see where it might be going wrong."
   ]
  },
  {
   "cell_type": "code",
   "execution_count": null,
   "id": "738db014",
   "metadata": {
    "papermill": {
     "duration": null,
     "end_time": null,
     "exception": null,
     "start_time": null,
     "status": "pending"
    },
    "tags": []
   },
   "outputs": [],
   "source": [
    "# Load in and preprocess our custom image\n",
    "img = load_and_prep_image(\"03-steak.jpeg\")\n",
    "\n",
    "# Make a prediction\n",
    "pred = model_11.predict(tf.expand_dims(img, axis=0))\n",
    "\n",
    "# Match the prediction class to the highest prediction probability\n",
    "pred_class = class_names[pred.argmax()]\n",
    "plt.imshow(img)\n",
    "plt.title(pred_class)\n",
    "plt.axis(False);"
   ]
  },
  {
   "cell_type": "markdown",
   "id": "3994e83c",
   "metadata": {
    "papermill": {
     "duration": null,
     "end_time": null,
     "exception": null,
     "start_time": null,
     "status": "pending"
    },
    "tags": []
   },
   "source": [
    "Much better! There must be something up with our `pred_and_plot` function.\n",
    "\n",
    "And I think I know what it is.\n",
    "\n",
    "The `pred_and_plot` function was designed to be used with binary classification models where as our current model is a multi-class classification model.\n",
    "\n",
    "The main difference lies in the output of the `predict` function."
   ]
  },
  {
   "cell_type": "code",
   "execution_count": null,
   "id": "06e8fd4c",
   "metadata": {
    "papermill": {
     "duration": null,
     "end_time": null,
     "exception": null,
     "start_time": null,
     "status": "pending"
    },
    "tags": []
   },
   "outputs": [],
   "source": [
    "# Check the output of the predict function\n",
    "pred = model_11.predict(tf.expand_dims(img, axis=0))\n",
    "pred"
   ]
  },
  {
   "cell_type": "markdown",
   "id": "f77e3cda",
   "metadata": {
    "papermill": {
     "duration": null,
     "end_time": null,
     "exception": null,
     "start_time": null,
     "status": "pending"
    },
    "tags": []
   },
   "source": [
    "Since our model has a `'softmax'` activation function and 10 output neurons, it outputs a prediction probability for each of the classes in our model.\n",
    "\n",
    "The class with the highest probability is what the model believes the image contains.\n",
    "\n",
    "We can find the maximum value index using [`argmax`](https://numpy.org/doc/stable/reference/generated/numpy.argmax.html) and then use that to index our `class_names` list to output the predicted class."
   ]
  },
  {
   "cell_type": "code",
   "execution_count": null,
   "id": "40eef761",
   "metadata": {
    "papermill": {
     "duration": null,
     "end_time": null,
     "exception": null,
     "start_time": null,
     "status": "pending"
    },
    "tags": []
   },
   "outputs": [],
   "source": [
    "# Find the predicted class name\n",
    "class_names[pred.argmax()]"
   ]
  },
  {
   "cell_type": "markdown",
   "id": "70a4161f",
   "metadata": {
    "papermill": {
     "duration": null,
     "end_time": null,
     "exception": null,
     "start_time": null,
     "status": "pending"
    },
    "tags": []
   },
   "source": [
    "Knowing this, we can readjust our `pred_and_plot` function to work with multiple classes as well as binary classes.1"
   ]
  },
  {
   "cell_type": "code",
   "execution_count": null,
   "id": "838e255b",
   "metadata": {
    "papermill": {
     "duration": null,
     "end_time": null,
     "exception": null,
     "start_time": null,
     "status": "pending"
    },
    "tags": []
   },
   "outputs": [],
   "source": [
    "# Adjust function to work with multi-class\n",
    "def pred_and_plot(model, filename, class_names):\n",
    "  \"\"\"\n",
    "  Imports an image located at filename, makes a prediction on it with\n",
    "  a trained model and plots the image with the predicted class as the title.\n",
    "  \"\"\"\n",
    "  # Import the target image and preprocess it\n",
    "  img = load_and_prep_image(filename)\n",
    "\n",
    "  # Make a prediction\n",
    "  pred = model.predict(tf.expand_dims(img, axis=0))\n",
    "\n",
    "  # Get the predicted class\n",
    "  if len(pred[0]) > 1: # check for multi-class\n",
    "    pred_class = class_names[pred.argmax()] # if more than one output, take the max\n",
    "  else:\n",
    "    pred_class = class_names[int(tf.round(pred)[0][0])] # if only one output, round\n",
    "\n",
    "  # Plot the image and predicted class\n",
    "  plt.imshow(img)\n",
    "  plt.title(f\"Prediction: {pred_class}\")\n",
    "  plt.axis(False);"
   ]
  },
  {
   "cell_type": "markdown",
   "id": "922b68eb",
   "metadata": {
    "papermill": {
     "duration": null,
     "end_time": null,
     "exception": null,
     "start_time": null,
     "status": "pending"
    },
    "tags": []
   },
   "source": [
    "Let's try it out. If we've done it right, using different images should lead to different outputs (rather than `chicken_curry` every time)."
   ]
  },
  {
   "cell_type": "code",
   "execution_count": null,
   "id": "e0d7d7ad",
   "metadata": {
    "papermill": {
     "duration": null,
     "end_time": null,
     "exception": null,
     "start_time": null,
     "status": "pending"
    },
    "tags": []
   },
   "outputs": [],
   "source": [
    "pred_and_plot(model_11, \"03-steak.jpeg\", class_names)"
   ]
  },
  {
   "cell_type": "code",
   "execution_count": null,
   "id": "ffd7fc3d",
   "metadata": {
    "papermill": {
     "duration": null,
     "end_time": null,
     "exception": null,
     "start_time": null,
     "status": "pending"
    },
    "tags": []
   },
   "outputs": [],
   "source": [
    "pred_and_plot(model_11, \"03-sushi.jpeg\", class_names)"
   ]
  },
  {
   "cell_type": "code",
   "execution_count": null,
   "id": "dfffa27f",
   "metadata": {
    "papermill": {
     "duration": null,
     "end_time": null,
     "exception": null,
     "start_time": null,
     "status": "pending"
    },
    "tags": []
   },
   "outputs": [],
   "source": [
    "pred_and_plot(model_11, \"03-pizza-dad.jpeg\", class_names)"
   ]
  },
  {
   "cell_type": "code",
   "execution_count": null,
   "id": "fcb720b7",
   "metadata": {
    "papermill": {
     "duration": null,
     "end_time": null,
     "exception": null,
     "start_time": null,
     "status": "pending"
    },
    "tags": []
   },
   "outputs": [],
   "source": [
    "pred_and_plot(model_11, \"03-hamburger.jpeg\", class_names)"
   ]
  },
  {
   "cell_type": "markdown",
   "id": "271296f8",
   "metadata": {
    "papermill": {
     "duration": null,
     "end_time": null,
     "exception": null,
     "start_time": null,
     "status": "pending"
    },
    "tags": []
   },
   "source": [
    "Our model's predictions aren't very good, this is because it's only performing at ~35% accuracy on the test dataset."
   ]
  },
  {
   "cell_type": "markdown",
   "id": "13233c68",
   "metadata": {
    "papermill": {
     "duration": null,
     "end_time": null,
     "exception": null,
     "start_time": null,
     "status": "pending"
    },
    "tags": []
   },
   "source": [
    "## Saving and loading our model\n",
    "\n",
    "Once you've trained a model, you probably want to be able to save it and load it somewhere else.\n",
    "\n",
    "To do so, we can use the [`save`](https://www.tensorflow.org/tutorials/keras/save_and_load) and [`load_model`](https://www.tensorflow.org/tutorials/keras/save_and_load) functions."
   ]
  },
  {
   "cell_type": "markdown",
   "id": "50aa411f",
   "metadata": {
    "papermill": {
     "duration": null,
     "end_time": null,
     "exception": null,
     "start_time": null,
     "status": "pending"
    },
    "tags": []
   },
   "source": []
  },
  {
   "cell_type": "code",
   "execution_count": null,
   "id": "da722191",
   "metadata": {
    "papermill": {
     "duration": null,
     "end_time": null,
     "exception": null,
     "start_time": null,
     "status": "pending"
    },
    "tags": []
   },
   "outputs": [],
   "source": [
    "# Save a model\n",
    "model_11.save(\"saved_trained_model\")"
   ]
  },
  {
   "cell_type": "code",
   "execution_count": null,
   "id": "9c0db842",
   "metadata": {
    "papermill": {
     "duration": null,
     "end_time": null,
     "exception": null,
     "start_time": null,
     "status": "pending"
    },
    "tags": []
   },
   "outputs": [],
   "source": [
    "# Load in a model and evaluate it\n",
    "loaded_model_11 = tf.keras.models.load_model(\"saved_trained_model\")\n",
    "loaded_model_11.evaluate(test_data)"
   ]
  },
  {
   "cell_type": "code",
   "execution_count": null,
   "id": "985bdaa8",
   "metadata": {
    "papermill": {
     "duration": null,
     "end_time": null,
     "exception": null,
     "start_time": null,
     "status": "pending"
    },
    "tags": []
   },
   "outputs": [],
   "source": [
    "# Compare our unsaved model's results (same as above)\n",
    "model_11.evaluate(test_data)"
   ]
  },
  {
   "cell_type": "markdown",
   "id": "9b696f6d",
   "metadata": {
    "papermill": {
     "duration": null,
     "end_time": null,
     "exception": null,
     "start_time": null,
     "status": "pending"
    },
    "tags": []
   },
   "source": [
    "## 🛠 Exercises\n",
    "\n",
    "1. Spend 20-minutes reading and interacting with the [CNN explainer website](https://poloclub.github.io/cnn-explainer/). \n",
    " * What are the key terms? e.g. explain convolution in your own words, pooling in your own words\n",
    "\n",
    "2. Play around with the \"understanding hyperparameters\" section in the [CNN explainer](https://poloclub.github.io/cnn-explainer/) website for 10-minutes.\n",
    "  * What is the kernel size?\n",
    "  * What is the stride? \n",
    "  * How could you adjust each of these in TensorFlow code?\n",
    "\n",
    "3. Take 10 photos of two different things and build your own CNN image classifier using the techniques we've built here.\n",
    "\n",
    "4. Find an ideal learning rate for a simple convolutional neural network model on your the 10 class dataset."
   ]
  },
  {
   "cell_type": "markdown",
   "id": "0214aeae",
   "metadata": {
    "papermill": {
     "duration": null,
     "end_time": null,
     "exception": null,
     "start_time": null,
     "status": "pending"
    },
    "tags": []
   },
   "source": [
    "## 📖 Extra-curriculum\n",
    "\n",
    "1. **Watch:** [MIT's Introduction to Deep Computer Vision](https://www.youtube.com/watch?v=iaSUYvmCekI&list=PLtBw6njQRU-rwp5__7C0oIVt26ZgjG9NI&index=3) lecture. This will give you a great intuition behind convolutional neural networks.\n",
    "\n",
    "2. **Watch:** Deep dive on [mini-batch gradient descent](https://youtu.be/-_4Zi8fCZO4) by deeplearning.ai. If you're still curious about why we use **batches** to train models, this technical overview covers many of the reasons why.\n",
    "\n",
    "3. **Read:** [CS231n Convolutional Neural Networks for Visual Recognition](https://cs231n.github.io/convolutional-networks/) class notes. This will give a very deep understanding of what's going on behind the scenes of the convolutional neural network architectures we're writing. \n",
    "\n",
    "4. **Read:** [\"A guide to convolution arithmetic for deep learning\"](https://arxiv.org/pdf/1603.07285.pdf). This paper goes through all of the mathematics running behind the scenes of our convolutional layers.\n",
    "\n",
    "5. **Code practice:** [TensorFlow Data Augmentation Tutorial](https://www.tensorflow.org/tutorials/images/data_augmentation). For a more in-depth introduction on data augmentation with TensorFlow, spend an hour or two reading through this tutorial."
   ]
  },
  {
   "cell_type": "code",
   "execution_count": null,
   "id": "b27bfbd5",
   "metadata": {
    "papermill": {
     "duration": null,
     "end_time": null,
     "exception": null,
     "start_time": null,
     "status": "pending"
    },
    "tags": []
   },
   "outputs": [],
   "source": []
  }
 ],
 "metadata": {
  "kernelspec": {
   "display_name": "Python 3",
   "language": "python",
   "name": "python3"
  },
  "language_info": {
   "codemirror_mode": {
    "name": "ipython",
    "version": 3
   },
   "file_extension": ".py",
   "mimetype": "text/x-python",
   "name": "python",
   "nbconvert_exporter": "python",
   "pygments_lexer": "ipython3",
   "version": "3.10.10"
  },
  "papermill": {
   "default_parameters": {},
   "duration": 25.858531,
   "end_time": "2023-05-31T21:37:33.904803",
   "environment_variables": {},
   "exception": true,
   "input_path": "__notebook__.ipynb",
   "output_path": "__notebook__.ipynb",
   "parameters": {},
   "start_time": "2023-05-31T21:37:08.046272",
   "version": "2.4.0"
  }
 },
 "nbformat": 4,
 "nbformat_minor": 5
}
