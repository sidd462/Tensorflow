{
 "cells": [
  {
   "cell_type": "markdown",
   "metadata": {},
   "source": [
    "# 01. Neural Network Regression with TensorFlow\n",
    "\n",
    "There are many definitions for a [regression problem](https://en.wikipedia.org/wiki/Regression_analysis) but in our case, we're going to simplify it to be: predicting a number.\n",
    "\n",
    "For example, you might want to:\n",
    "- Predict the selling price of houses given information about them (such as number of rooms, size, number of bathrooms).\n",
    "- Predict the coordinates of a bounding box of an item in an image.\n",
    "- Predict the cost of medical insurance for an individual given their demographics (age, sex, gender, race).\n",
    "\n",
    "In this notebook, we're going to set the foundations for how you can take a sample of inputs (this is your data), build a neural network to discover patterns in those inputs and then make a prediction (in the form of a number) based on those inputs.\n",
    "\n",
    "## What we're going to cover\n",
    "\n",
    "Specifically, we're going to go through doing the following with TensorFlow:\n",
    "- Architecture of a regression model\n",
    "- Input shapes and output shapes\n",
    "  - `X`: features/data (inputs)\n",
    "  - `y`: labels (outputs)\n",
    "- Creating custom data to view and fit\n",
    "- Steps in modelling\n",
    "  - Creating a model\n",
    "  - Compiling a model\n",
    "    - Defining a loss function\n",
    "    - Setting up an optimizer\n",
    "    - Creating evaluation metrics\n",
    "  - Fitting a model (getting it to find patterns in our data)\n",
    "- Evaluating a model\n",
    "  - Visualizng the model (\"visualize, visualize, visualize\")\n",
    "  - Looking at training curves\n",
    "  - Compare predictions to ground truth (using our evaluation metrics)\n",
    "- Saving a model (so we can use it later)\n",
    "- Loading a model\n",
    "\n",
    "Don't worry if none of these make sense now, we're going to go through each.\n",
    "\n",
    "## How you can use this notebook\n",
    "\n",
    "You can read through the descriptions and the code (it should all run), but there's a better option.\n",
    "\n",
    "Write all of the code yourself.\n",
    "\n",
    "Yes. I'm serious. Create a new notebook, and rewrite each line by yourself. Investigate it, see if you can break it, why does it break?\n",
    "\n",
    "You don't have to write the text descriptions but writing the code yourself is a great way to get hands-on experience.\n",
    "\n",
    "Don't worry if you make mistakes, we all do. The way to get better and make less mistakes is to **write more code**."
   ]
  },
  {
   "cell_type": "markdown",
   "metadata": {},
   "source": [
    "# 01. Neural Network Regression with TensorFlow\n",
    "\n",
    "There are many definitions for a [regression problem](https://en.wikipedia.org/wiki/Regression_analysis) but in our case, we're going to simplify it to be: predicting a number.\n",
    "\n",
    "For example, you might want to:\n",
    "- Predict the selling price of houses given information about them (such as number of rooms, size, number of bathrooms).\n",
    "- Predict the coordinates of a bounding box of an item in an image.\n",
    "- Predict the cost of medical insurance for an individual given their demographics (age, sex, gender, race).\n",
    "\n",
    "In this notebook, we're going to set the foundations for how you can take a sample of inputs (this is your data), build a neural network to discover patterns in those inputs and then make a prediction (in the form of a number) based on those inputs.\n",
    "\n",
    "## What we're going to cover\n",
    "\n",
    "Specifically, we're going to go through doing the following with TensorFlow:\n",
    "- Architecture of a regression model\n",
    "- Input shapes and output shapes\n",
    "  - `X`: features/data (inputs)\n",
    "  - `y`: labels (outputs)\n",
    "- Creating custom data to view and fit\n",
    "- Steps in modelling\n",
    "  - Creating a model\n",
    "  - Compiling a model\n",
    "    - Defining a loss function\n",
    "    - Setting up an optimizer\n",
    "    - Creating evaluation metrics\n",
    "  - Fitting a model (getting it to find patterns in our data)\n",
    "- Evaluating a model\n",
    "  - Visualizng the model (\"visualize, visualize, visualize\")\n",
    "  - Looking at training curves\n",
    "  - Compare predictions to ground truth (using our evaluation metrics)\n",
    "- Saving a model (so we can use it later)\n",
    "- Loading a model\n",
    "\n",
    "Don't worry if none of these make sense now, we're going to go through each.\n",
    "\n",
    "## How you can use this notebook\n",
    "\n",
    "You can read through the descriptions and the code (it should all run), but there's a better option.\n",
    "\n",
    "Write all of the code yourself.\n",
    "\n",
    "Yes. I'm serious. Create a new notebook, and rewrite each line by yourself. Investigate it, see if you can break it, why does it break?\n",
    "\n",
    "You don't have to write the text descriptions but writing the code yourself is a great way to get hands-on experience.\n",
    "\n",
    "Don't worry if you make mistakes, we all do. The way to get better and make less mistakes is to **write more code**."
   ]
  },
  {
   "cell_type": "markdown",
   "metadata": {},
   "source": [
    "## Typical architecture of a regresison neural network\n",
    "\n",
    "The word *typical* is on purpose.\n",
    "\n",
    "Why?\n",
    "\n",
    "Because there are many different ways (actually, there's almost an infinite number of ways) to write neural networks.\n",
    "\n",
    "But the following is a generic setup for ingesting a collection of numbers, finding patterns in them and then outputing some kind of target number.\n",
    "\n",
    "Yes, the previous sentence is vague but we'll see this in action shortly.\n",
    "\n",
    "| **Hyperparameter** | **Typical value** |\n",
    "| --- | --- |\n",
    "| Input layer shape | Same shape as number of features (e.g. 3 for # bedrooms, # bathrooms, # car spaces in housing price prediction) |\n",
    "| Hidden layer(s) | Problem specific, minimum = 1, maximum = unlimited |\n",
    "| Neurons per hidden layer | Problem specific, generally 10 to 100 |\n",
    "| Output layer shape | Same shape as desired prediction shape (e.g. 1 for house price) |\n",
    "| Hidden activation | Usually [ReLU](https://www.kaggle.com/dansbecker/rectified-linear-units-relu-in-deep-learning) (rectified linear unit) |\n",
    "| Output activation | None, ReLU, logistic/tanh |\n",
    "| Loss function | [MSE](https://en.wikipedia.org/wiki/Mean_squared_error) (mean square error) or [MAE](https://en.wikipedia.org/wiki/Mean_absolute_error) (mean absolute error)/Huber (combination of MAE/MSE) if outliers |\n",
    "| Optimizer | [SGD](https://www.tensorflow.org/api_docs/python/tf/keras/optimizers/SGD) (stochastic gradient descent), [Adam](https://www.tensorflow.org/api_docs/python/tf/keras/optimizers/Adam) |\n",
    "\n",
    "***Table 1:*** *Typical architecture of a regression network.* ***Source:*** *Adapted from page 293 of [Hands-On Machine Learning with Scikit-Learn, Keras & TensorFlow Book by Aurélien Géron](https://www.oreilly.com/library/view/hands-on-machine-learning/9781492032632/)*\n",
    "\n",
    "Again, if you're new to neural networks and deep learning in general, much of the above table won't make sense. But don't worry, we'll be getting hands-on with all of it soon.\n",
    "\n",
    "> 🔑 **Note:** A **hyperparameter** in machine learning is something a data analyst or developer can set themselves, where as a **parameter** usually describes something a model learns on its own (a value not explicitly set by an analyst).\n",
    "\n",
    "Okay, enough talk, let's get started writing code.\n",
    "\n",
    "To use TensorFlow, we'll import it as the common alias `tf` (short for TensorFlow)."
   ]
  },
  {
   "cell_type": "markdown",
   "metadata": {},
   "source": [
    "# Introduction to Regression with Neural Networks in TensorFlow\n",
    "\n",
    "There are many definitions for a regression problem but in our case, we're going to simplify it: predicting a numerical variable based on some other combination of variables, even shorter... predicting a number.\n",
    "\n",
    "See full course materials on GitHub: https://github.com/mrdbourke/tensorflow-deep-learning/"
   ]
  },
  {
   "cell_type": "code",
   "execution_count": 3,
   "metadata": {},
   "outputs": [
    {
     "name": "stdout",
     "output_type": "stream",
     "text": [
      "2.8.2\n"
     ]
    }
   ],
   "source": [
    "import tensorflow as tf\n",
    "print(tf.__version__) # check the version (should be 2.x+)"
   ]
  },
  {
   "cell_type": "code",
   "execution_count": 4,
   "metadata": {},
   "outputs": [
    {
     "data": {
      "image/png": "[encoded data removed]",
      "text/plain": [
       "<Figure size 640x480 with 1 Axes>"
      ]
     },
     "metadata": {},
     "output_type": "display_data"
    }
   ],
   "source": [
    "import numpy as np\n",
    "import matplotlib.pyplot as plt\n",
    "\n",
    "# Create features\n",
    "X = np.array([-7.0, -4.0, -1.0, 2.0, 5.0, 8.0, 11.0, 14.0])\n",
    "\n",
    "# Create labels\n",
    "y = np.array([3.0, 6.0, 9.0, 12.0, 15.0, 18.0, 21.0, 24.0])\n",
    "\n",
    "# Visualize it\n",
    "plt.scatter(X, y);"
   ]
  },
  {
   "cell_type": "markdown",
   "metadata": {},
   "source": [
    "Before we do any modelling, can you calculate the pattern between `X` and `y`?\n",
    "\n",
    "For example, say I asked you, based on this data what the `y` value would be if `X` was 17.0?\n",
    "\n",
    "Or how about if `X` was -10.0?\n",
    "\n",
    "This kind of pattern discovery is the essence of what we'll be building neural networks to do for us."
   ]
  },
  {
   "attachments": {},
   "cell_type": "markdown",
   "metadata": {},
   "source": [
    ">42"
   ]
  },
  {
   "cell_type": "markdown",
   "metadata": {},
   "source": [
    "## Regression input shapes and output shapes\n",
    "\n",
    "One of the most important concepts when working with neural networks are the input and output shapes.\n",
    "\n",
    "The **input shape** is the shape of your data that goes into the model.\n",
    "\n",
    "The **output shape** is the shape of your data you want to come out of your model.\n",
    "\n",
    "These will differ depending on the problem you're working on.\n",
    "\n",
    "Neural networks accept numbers and output numbers. These numbers are typically represented as tensors (or arrays).\n",
    "\n",
    "Before, we created data using NumPy arrays, but we could do the same with tensors."
   ]
  },
  {
   "cell_type": "code",
   "execution_count": 5,
   "metadata": {},
   "outputs": [],
   "source": [
    "#create features\n",
    "X= np.array([-7.0, -4.0, -1.0, 2.0, 5.0, 8.0, 11.0, 14.0])"
   ]
  },
  {
   "cell_type": "code",
   "execution_count": 6,
   "metadata": {},
   "outputs": [
    {
     "data": {
      "image/png": "[encoded data removed]",
      "text/plain": [
       "<Figure size 640x480 with 1 Axes>"
      ]
     },
     "metadata": {},
     "output_type": "display_data"
    }
   ],
   "source": [
    "# create labels\n",
    "y = np.array([3.0, 6.0, 9.0, 12.0, 15.0, 18.0, 21.0, 24.0])\n",
    "# Visualize it\n",
    "\n",
    "plt.scatter(X, y);"
   ]
  },
  {
   "cell_type": "markdown",
   "metadata": {},
   "source": [
    "Before we do any modelling, can you calculate the pattern between `X` and `y`?\n",
    "\n",
    "For example, say I asked you, based on this data what the `y` value would be if `X` was 17.0?\n",
    "\n",
    "Or how about if `X` was -10.0?\n",
    "\n",
    "This kind of pattern discovery is the essence of what we'll be building neural networks to do for us."
   ]
  },
  {
   "cell_type": "markdown",
   "metadata": {},
   "source": [
    "## Regression input shapes and output shapes\n",
    "\n",
    "One of the most important concepts when working with neural networks are the input and output shapes.\n",
    "\n",
    "The **input shape** is the shape of your data that goes into the model.\n",
    "\n",
    "The **output shape** is the shape of your data you want to come out of your model.\n",
    "\n",
    "These will differ depending on the problem you're working on.\n",
    "\n",
    "Neural networks accept numbers and output numbers. These numbers are typically represented as tensors (or arrays).\n",
    "\n",
    "Before, we created data using NumPy arrays, but we could do the same with tensors."
   ]
  },
  {
   "cell_type": "code",
   "execution_count": 7,
   "metadata": {},
   "outputs": [
    {
     "data": {
      "text/plain": [
       "array([ True,  True,  True,  True,  True,  True,  True,  True])"
      ]
     },
     "execution_count": 7,
     "metadata": {},
     "output_type": "execute_result"
    }
   ],
   "source": [
    "y == X+10"
   ]
  },
  {
   "cell_type": "code",
   "execution_count": 8,
   "metadata": {},
   "outputs": [
    {
     "data": {
      "text/plain": [
       "(<tf.Tensor: shape=(3,), dtype=string, numpy=array([b'bedroom', b'bathroom', b'garage'], dtype=object)>,\n",
       " <tf.Tensor: shape=(1,), dtype=int32, numpy=array([939700])>)"
      ]
     },
     "execution_count": 8,
     "metadata": {},
     "output_type": "execute_result"
    }
   ],
   "source": [
    "# Example input and output shapes of a regresson model\n",
    "house_info = tf.constant([\"bedroom\", \"bathroom\", \"garage\"])\n",
    "house_price = tf.constant([939700])\n",
    "house_info, house_price"
   ]
  },
  {
   "cell_type": "code",
   "execution_count": 9,
   "metadata": {},
   "outputs": [
    {
     "data": {
      "text/plain": [
       "((8,), (8,))"
      ]
     },
     "execution_count": 9,
     "metadata": {},
     "output_type": "execute_result"
    }
   ],
   "source": [
    "input_shape= X.shape\n",
    "output_shape= y.shape\n",
    "input_shape,output_shape"
   ]
  },
  {
   "cell_type": "code",
   "execution_count": 10,
   "metadata": {},
   "outputs": [
    {
     "data": {
      "text/plain": [
       "TensorShape([3])"
      ]
     },
     "execution_count": 10,
     "metadata": {},
     "output_type": "execute_result"
    }
   ],
   "source": [
    "house_info.shape"
   ]
  },
  {
   "cell_type": "code",
   "execution_count": 11,
   "metadata": {},
   "outputs": [
    {
     "data": {
      "image/png": "[encoded data removed]",
      "text/plain": [
       "<Figure size 640x480 with 1 Axes>"
      ]
     },
     "metadata": {},
     "output_type": "display_data"
    }
   ],
   "source": [
    "# Create features (using tensors)\n",
    "X = tf.constant([-7.0, -4.0, -1.0, 2.0, 5.0, 8.0, 11.0, 14.0])\n",
    "\n",
    "# Create labels (using tensors)\n",
    "y = tf.constant([3.0, 6.0, 9.0, 12.0, 15.0, 18.0, 21.0, 24.0])\n",
    "\n",
    "# Visualize it\n",
    "plt.scatter(X, y);\n"
   ]
  },
  {
   "attachments": {},
   "cell_type": "markdown",
   "metadata": {},
   "source": [
    ">44"
   ]
  },
  {
   "cell_type": "code",
   "execution_count": 12,
   "metadata": {},
   "outputs": [
    {
     "data": {
      "text/plain": [
       "(<tf.Tensor: shape=(8,), dtype=float32, numpy=array([-7., -4., -1.,  2.,  5.,  8., 11., 14.], dtype=float32)>,\n",
       " <tf.Tensor: shape=(8,), dtype=float32, numpy=array([ 3.,  6.,  9., 12., 15., 18., 21., 24.], dtype=float32)>)"
      ]
     },
     "execution_count": 12,
     "metadata": {},
     "output_type": "execute_result"
    }
   ],
   "source": [
    "X,y"
   ]
  },
  {
   "cell_type": "code",
   "execution_count": null,
   "metadata": {},
   "outputs": [],
   "source": []
  },
  {
   "cell_type": "code",
   "execution_count": 13,
   "metadata": {},
   "outputs": [
    {
     "data": {
      "text/plain": [
       "(TensorShape([]), TensorShape([]))"
      ]
     },
     "execution_count": 13,
     "metadata": {},
     "output_type": "execute_result"
    }
   ],
   "source": [
    "input# Take a single example of X\n",
    "input_shape = X[0].shape \n",
    "\n",
    "# Take a single example of y\n",
    "output_shape = y[0].shape\n",
    "\n",
    "input_shape, output_shape # these are both scalars (no shape)"
   ]
  },
  {
   "cell_type": "markdown",
   "metadata": {},
   "source": [
    "Huh?\n",
    "\n",
    "From this it seems our inputs and outputs have no shape?\n",
    "\n",
    "How could that be?\n",
    "\n",
    "It's because no matter what kind of data we pass to our model, it's always going to take as input and return as ouput some kind of tensor.\n",
    "\n",
    "But in our case because of our dataset (only 2 small lists of numbers), we're looking at a special kind of tensor, more specifically a rank 0 tensor or a scalar."
   ]
  },
  {
   "cell_type": "code",
   "execution_count": 14,
   "metadata": {},
   "outputs": [
    {
     "data": {
      "text/plain": [
       "(<tf.Tensor: shape=(), dtype=float32, numpy=-7.0>,\n",
       " <tf.Tensor: shape=(), dtype=float32, numpy=3.0>)"
      ]
     },
     "execution_count": 14,
     "metadata": {},
     "output_type": "execute_result"
    }
   ],
   "source": [
    "# Let's take a look at the single examples invidually\n",
    "X[0], y[0]"
   ]
  },
  {
   "cell_type": "markdown",
   "metadata": {},
   "source": [
    "In our case, we're trying to build a model to predict the pattern between `X[0]` equalling `-7.0` and `y[0]` equalling `3.0`.\n",
    "\n",
    "So now we get our answer, we're trying to use 1 `X` value to predict 1 `y` value.\n",
    "\n",
    "You might be thinking, \"this seems pretty complicated for just predicting a straight line...\".\n",
    "\n",
    "And you'd be right.\n",
    "\n",
    "But the concepts we're covering here, the concepts of input and output shapes to a model are fundamental. \n",
    "\n",
    "In fact, they're probably two of the things you'll spend the most time on when you work with neural networks: **making sure your input and outputs are in the correct shape**.\n",
    "\n",
    "If it doesn't make sense now, we'll see plenty more examples later on (soon you'll notice the input and output shapes can be almost anything you can imagine).\n",
    "\n",
    "![example of input and output shapes for a housing price prediction problem](https://raw.githubusercontent.com/mrdbourke/tensorflow-deep-learning/main/images/01-input-and-output-shapes-housing-prices.png)\n",
    "*If you were working on building a machine learning algorithm for predicting housing prices, your inputs may be number of bedrooms, number of bathrooms and number of garages, giving you an input shape of 3 (3 different features). And since you're trying to predict the price of the house, your output shape would be 1.*"
   ]
  },
  {
   "cell_type": "code",
   "execution_count": 15,
   "metadata": {},
   "outputs": [],
   "source": [
    "X = tf.constant(X)"
   ]
  },
  {
   "cell_type": "code",
   "execution_count": 16,
   "metadata": {},
   "outputs": [
    {
     "data": {
      "text/plain": [
       "(<tf.Tensor: shape=(8,), dtype=float32, numpy=array([-7., -4., -1.,  2.,  5.,  8., 11., 14.], dtype=float32)>,\n",
       " <tf.Tensor: shape=(8,), dtype=float32, numpy=array([ 3.,  6.,  9., 12., 15., 18., 21., 24.], dtype=float32)>)"
      ]
     },
     "execution_count": 16,
     "metadata": {},
     "output_type": "execute_result"
    }
   ],
   "source": [
    "Y= tf.constant(y)\n",
    "X,y"
   ]
  },
  {
   "cell_type": "code",
   "execution_count": 17,
   "metadata": {},
   "outputs": [],
   "source": [
    "input_shape = X[0].shape\n",
    "output_shape = y[0].shape"
   ]
  },
  {
   "cell_type": "code",
   "execution_count": 18,
   "metadata": {},
   "outputs": [
    {
     "data": {
      "text/plain": [
       "(TensorShape([]), TensorShape([]))"
      ]
     },
     "execution_count": 18,
     "metadata": {},
     "output_type": "execute_result"
    }
   ],
   "source": [
    "input_shape,output_shape"
   ]
  },
  {
   "attachments": {},
   "cell_type": "markdown",
   "metadata": {},
   "source": [
    "## Steps in modelling with TensorFlow\n",
    "\n",
    "Now we know what data we have as well as the input and output shapes, let's see how we'd build a neural network to model it.\n",
    "\n",
    "In TensorFlow, there are typically 3 fundamental steps to creating and training a model.\n",
    "\n",
    "1. **Creating a model** - piece together the layers of a neural network yourself (using the [Functional](https://www.tensorflow.org/guide/keras/functional) or [Sequential API](https://www.tensorflow.org/api_docs/python/tf/keras/Sequential)) or import a previously built model (known as transfer learning).\n",
    "2. **Compiling a model** - defining how a models performance should be measured (loss/metrics) as well as defining how it should improve (optimizer). \n",
    "3. **Fitting a model** - letting the model try to find patterns in the data (how does `X` get to `y`). \n",
    "\n",
    "Let's see these in action using the [Keras Sequential API](https://www.tensorflow.org/api_docs/python/tf/keras/Sequential) to build a model for our regression data. And then we'll step through each.\n",
    "\n",
    "> **Note:** If you're using [TensorFlow 2.7.0](https://github.com/tensorflow/tensorflow/releases/tag/v2.7.0)+, the `fit()` function no longer upscales input data to go from `(batch_size, )` to `(batch_size, 1)`. To fix this, you'll need to expand the dimension of input data using `tf.expand_dims(input_data, axis=-1)`.\n",
    ">\n",
    "> In our case, this means instead of using `model.fit(X, y, epochs=5)`, use `model.fit(tf.expand_dims(X, axis=-1), y, epochs=5)`. "
   ]
  },
  {
   "cell_type": "code",
   "execution_count": 19,
   "metadata": {},
   "outputs": [
    {
     "name": "stdout",
     "output_type": "stream",
     "text": [
      "Epoch 1/5\n",
      "1/1 [==============================] - 0s 401ms/step - loss: 11.5048 - mae: 11.5048\n",
      "Epoch 2/5\n",
      "1/1 [==============================] - 0s 3ms/step - loss: 11.3723 - mae: 11.3723\n",
      "Epoch 3/5\n",
      "1/1 [==============================] - 0s 3ms/step - loss: 11.2398 - mae: 11.2398\n",
      "Epoch 4/5\n",
      "1/1 [==============================] - 0s 3ms/step - loss: 11.1073 - mae: 11.1073\n",
      "Epoch 5/5\n",
      "1/1 [==============================] - 0s 3ms/step - loss: 10.9748 - mae: 10.9748\n"
     ]
    },
    {
     "data": {
      "text/plain": [
       "<keras.callbacks.History at 0x1208dcbddf0>"
      ]
     },
     "execution_count": 19,
     "metadata": {},
     "output_type": "execute_result"
    }
   ],
   "source": [
    "# Set random seed\n",
    "tf.random.set_seed(42)\n",
    "\n",
    "# Create a model using the Sequential API\n",
    "model = tf.keras.Sequential([\n",
    "  tf.keras.layers.Dense(1)\n",
    "])\n",
    "\n",
    "# Compile the model\n",
    "model.compile(loss=tf.keras.losses.mae, # mae is short for mean absolute error\n",
    "              optimizer=tf.keras.optimizers.SGD(), # SGD is short for stochastic gradient descent\n",
    "              metrics=[\"mae\"])\n",
    "\n",
    "# Fit the model\n",
    "# model.fit(X, y, epochs=5) # this will break with TensorFlow 2.7.0+\n",
    "model.fit(tf.expand_dims(X, axis=-1), y, epochs=5)\n"
   ]
  },
  {
   "cell_type": "code",
   "execution_count": 20,
   "metadata": {},
   "outputs": [
    {
     "data": {
      "text/plain": [
       "(<tf.Tensor: shape=(8, 1), dtype=float32, numpy=\n",
       " array([[-7.],\n",
       "        [-4.],\n",
       "        [-1.],\n",
       "        [ 2.],\n",
       "        [ 5.],\n",
       "        [ 8.],\n",
       "        [11.],\n",
       "        [14.]], dtype=float32)>,\n",
       " <tf.Tensor: shape=(8,), dtype=float32, numpy=array([-7., -4., -1.,  2.,  5.,  8., 11., 14.], dtype=float32)>)"
      ]
     },
     "execution_count": 20,
     "metadata": {},
     "output_type": "execute_result"
    }
   ],
   "source": [
    "tf.expand_dims(X, axis=-1),X"
   ]
  },
  {
   "cell_type": "code",
   "execution_count": 21,
   "metadata": {},
   "outputs": [
    {
     "data": {
      "text/plain": [
       "(<tf.Tensor: shape=(8,), dtype=float32, numpy=array([-7., -4., -1.,  2.,  5.,  8., 11., 14.], dtype=float32)>,\n",
       " <tf.Tensor: shape=(8,), dtype=float32, numpy=array([ 3.,  6.,  9., 12., 15., 18., 21., 24.], dtype=float32)>)"
      ]
     },
     "execution_count": 21,
     "metadata": {},
     "output_type": "execute_result"
    }
   ],
   "source": [
    "# Check out X and y\n",
    "X, y"
   ]
  },
  {
   "cell_type": "code",
   "execution_count": 22,
   "metadata": {},
   "outputs": [
    {
     "data": {
      "text/plain": [
       "array([[12.716021]], dtype=float32)"
      ]
     },
     "execution_count": 22,
     "metadata": {},
     "output_type": "execute_result"
    }
   ],
   "source": [
    "# Make a prediction with the model\n",
    "model.predict([17.0])\n"
   ]
  },
  {
   "attachments": {},
   "cell_type": "markdown",
   "metadata": {},
   "source": [
    ">45"
   ]
  },
  {
   "cell_type": "markdown",
   "metadata": {},
   "source": [
    "## Improving a model\n",
    "\n",
    "How do you think you'd improve upon our current model?\n",
    "\n",
    "If you guessed by tweaking some of the things we did above, you'd be correct.\n",
    "\n",
    "To improve our model, we alter almost every part of the 3 steps we went through before.\n",
    "\n",
    "1. **Creating a model** - here you might want to add more layers, increase the number of hidden units (also called neurons) within each layer, change the activation functions of each layer.\n",
    "2. **Compiling a model** - you might want to choose optimization function or perhaps change the **learning rate** of the optimization function.\n",
    "3. **Fitting a model** - perhaps you could fit a model for more **epochs** (leave it training for longer) or on more data (give the model more examples to learn from).\n",
    "\n",
    "![various options you can use to improve a neural network model](https://raw.githubusercontent.com/mrdbourke/tensorflow-deep-learning/main/images/02-improving-a-model-from-model-perspective.png)\n",
    "*There are many different ways to potentially improve a neural network. Some of the most common include: increasing the number of layers (making the network deeper), increasing the number of hidden units (making the network wider) and changing the learning rate. Because these values are all human-changeable, they're referred to as [hyperparameters](https://en.wikipedia.org/wiki/Hyperparameter_(machine_learning)) and the practice of trying to find the best hyperparameters is referred to as [hyperparameter tuning](https://en.wikipedia.org/wiki/Hyperparameter_optimization).*\n",
    "\n",
    "Woah. We just introduced a bunch of possible steps. The important thing to remember is how you alter each of these will depend on the problem you're working on.\n",
    "\n",
    "And the good thing is, over the next few problems, we'll get hands-on with all of them.\n",
    "\n",
    "For now, let's keep it simple, all we'll do is train our model for longer (everything else will stay the same)."
   ]
  },
  {
   "cell_type": "markdown",
   "metadata": {},
   "source": [
    ">46"
   ]
  },
  {
   "cell_type": "code",
   "execution_count": 23,
   "metadata": {},
   "outputs": [
    {
     "name": "stdout",
     "output_type": "stream",
     "text": [
      "Epoch 1/100\n",
      "1/1 [==============================] - 0s 295ms/step - loss: 11.5048 - mae: 11.5048\n",
      "Epoch 2/100\n",
      "1/1 [==============================] - 0s 3ms/step - loss: 11.3723 - mae: 11.3723\n",
      "Epoch 3/100\n",
      "1/1 [==============================] - 0s 2ms/step - loss: 11.2398 - mae: 11.2398\n",
      "Epoch 4/100\n",
      "1/1 [==============================] - 0s 3ms/step - loss: 11.1073 - mae: 11.1073\n",
      "Epoch 5/100\n",
      "1/1 [==============================] - 0s 2ms/step - loss: 10.9748 - mae: 10.9748\n",
      "Epoch 6/100\n",
      "1/1 [==============================] - 0s 3ms/step - loss: 10.8423 - mae: 10.8423\n",
      "Epoch 7/100\n",
      "1/1 [==============================] - 0s 2ms/step - loss: 10.7098 - mae: 10.7098\n",
      "Epoch 8/100\n",
      "1/1 [==============================] - 0s 3ms/step - loss: 10.5773 - mae: 10.5773\n",
      "Epoch 9/100\n",
      "1/1 [==============================] - 0s 2ms/step - loss: 10.4448 - mae: 10.4448\n",
      "Epoch 10/100\n",
      "1/1 [==============================] - 0s 3ms/step - loss: 10.3123 - mae: 10.3123\n",
      "Epoch 11/100\n",
      "1/1 [==============================] - 0s 3ms/step - loss: 10.1798 - mae: 10.1798\n",
      "Epoch 12/100\n",
      "1/1 [==============================] - 0s 3ms/step - loss: 10.0473 - mae: 10.0473\n",
      "Epoch 13/100\n",
      "1/1 [==============================] - 0s 3ms/step - loss: 9.9148 - mae: 9.9148\n",
      "Epoch 14/100\n",
      "1/1 [==============================] - 0s 3ms/step - loss: 9.7823 - mae: 9.7823\n",
      "Epoch 15/100\n",
      "1/1 [==============================] - 0s 3ms/step - loss: 9.6498 - mae: 9.6498\n",
      "Epoch 16/100\n",
      "1/1 [==============================] - 0s 3ms/step - loss: 9.5173 - mae: 9.5173\n",
      "Epoch 17/100\n",
      "1/1 [==============================] - 0s 3ms/step - loss: 9.3848 - mae: 9.3848\n",
      "Epoch 18/100\n",
      "1/1 [==============================] - 0s 2ms/step - loss: 9.2523 - mae: 9.2523\n",
      "Epoch 19/100\n",
      "1/1 [==============================] - 0s 3ms/step - loss: 9.1198 - mae: 9.1198\n",
      "Epoch 20/100\n",
      "1/1 [==============================] - 0s 4ms/step - loss: 8.9873 - mae: 8.9873\n",
      "Epoch 21/100\n",
      "1/1 [==============================] - 0s 3ms/step - loss: 8.8548 - mae: 8.8548\n",
      "Epoch 22/100\n",
      "1/1 [==============================] - 0s 2ms/step - loss: 8.7223 - mae: 8.7223\n",
      "Epoch 23/100\n",
      "1/1 [==============================] - 0s 3ms/step - loss: 8.5898 - mae: 8.5898\n",
      "Epoch 24/100\n",
      "1/1 [==============================] - 0s 3ms/step - loss: 8.4573 - mae: 8.4573\n",
      "Epoch 25/100\n",
      "1/1 [==============================] - 0s 3ms/step - loss: 8.3248 - mae: 8.3248\n",
      "Epoch 26/100\n",
      "1/1 [==============================] - 0s 3ms/step - loss: 8.1923 - mae: 8.1923\n",
      "Epoch 27/100\n",
      "1/1 [==============================] - 0s 3ms/step - loss: 8.0598 - mae: 8.0598\n",
      "Epoch 28/100\n",
      "1/1 [==============================] - 0s 3ms/step - loss: 7.9273 - mae: 7.9273\n",
      "Epoch 29/100\n",
      "1/1 [==============================] - 0s 3ms/step - loss: 7.7948 - mae: 7.7948\n",
      "Epoch 30/100\n",
      "1/1 [==============================] - 0s 2ms/step - loss: 7.6623 - mae: 7.6623\n",
      "Epoch 31/100\n",
      "1/1 [==============================] - 0s 3ms/step - loss: 7.5298 - mae: 7.5298\n",
      "Epoch 32/100\n",
      "1/1 [==============================] - 0s 3ms/step - loss: 7.3973 - mae: 7.3973\n",
      "Epoch 33/100\n",
      "1/1 [==============================] - 0s 2ms/step - loss: 7.2648 - mae: 7.2648\n",
      "Epoch 34/100\n",
      "1/1 [==============================] - 0s 4ms/step - loss: 7.2525 - mae: 7.2525\n",
      "Epoch 35/100\n",
      "1/1 [==============================] - 0s 2ms/step - loss: 7.2469 - mae: 7.2469\n",
      "Epoch 36/100\n",
      "1/1 [==============================] - 0s 2ms/step - loss: 7.2413 - mae: 7.2413\n",
      "Epoch 37/100\n",
      "1/1 [==============================] - 0s 2ms/step - loss: 7.2356 - mae: 7.2356\n",
      "Epoch 38/100\n",
      "1/1 [==============================] - 0s 2ms/step - loss: 7.2300 - mae: 7.2300\n",
      "Epoch 39/100\n",
      "1/1 [==============================] - 0s 3ms/step - loss: 7.2244 - mae: 7.2244\n",
      "Epoch 40/100\n",
      "1/1 [==============================] - 0s 2ms/step - loss: 7.2188 - mae: 7.2188\n",
      "Epoch 41/100\n",
      "1/1 [==============================] - 0s 3ms/step - loss: 7.2131 - mae: 7.2131\n",
      "Epoch 42/100\n",
      "1/1 [==============================] - 0s 3ms/step - loss: 7.2075 - mae: 7.2075\n",
      "Epoch 43/100\n",
      "1/1 [==============================] - 0s 3ms/step - loss: 7.2019 - mae: 7.2019\n",
      "Epoch 44/100\n",
      "1/1 [==============================] - 0s 3ms/step - loss: 7.1963 - mae: 7.1963\n",
      "Epoch 45/100\n",
      "1/1 [==============================] - 0s 3ms/step - loss: 7.1906 - mae: 7.1906\n",
      "Epoch 46/100\n",
      "1/1 [==============================] - 0s 3ms/step - loss: 7.1850 - mae: 7.1850\n",
      "Epoch 47/100\n",
      "1/1 [==============================] - 0s 2ms/step - loss: 7.1794 - mae: 7.1794\n",
      "Epoch 48/100\n",
      "1/1 [==============================] - 0s 3ms/step - loss: 7.1738 - mae: 7.1738\n",
      "Epoch 49/100\n",
      "1/1 [==============================] - 0s 3ms/step - loss: 7.1681 - mae: 7.1681\n",
      "Epoch 50/100\n",
      "1/1 [==============================] - 0s 3ms/step - loss: 7.1625 - mae: 7.1625\n",
      "Epoch 51/100\n",
      "1/1 [==============================] - 0s 3ms/step - loss: 7.1569 - mae: 7.1569\n",
      "Epoch 52/100\n",
      "1/1 [==============================] - 0s 3ms/step - loss: 7.1512 - mae: 7.1512\n",
      "Epoch 53/100\n",
      "1/1 [==============================] - 0s 3ms/step - loss: 7.1456 - mae: 7.1456\n",
      "Epoch 54/100\n",
      "1/1 [==============================] - 0s 4ms/step - loss: 7.1400 - mae: 7.1400\n",
      "Epoch 55/100\n",
      "1/1 [==============================] - 0s 3ms/step - loss: 7.1344 - mae: 7.1344\n",
      "Epoch 56/100\n",
      "1/1 [==============================] - 0s 4ms/step - loss: 7.1287 - mae: 7.1287\n",
      "Epoch 57/100\n",
      "1/1 [==============================] - 0s 4ms/step - loss: 7.1231 - mae: 7.1231\n",
      "Epoch 58/100\n",
      "1/1 [==============================] - 0s 3ms/step - loss: 7.1175 - mae: 7.1175\n",
      "Epoch 59/100\n",
      "1/1 [==============================] - 0s 4ms/step - loss: 7.1119 - mae: 7.1119\n",
      "Epoch 60/100\n",
      "1/1 [==============================] - 0s 3ms/step - loss: 7.1063 - mae: 7.1063\n",
      "Epoch 61/100\n",
      "1/1 [==============================] - 0s 4ms/step - loss: 7.1006 - mae: 7.1006\n",
      "Epoch 62/100\n",
      "1/1 [==============================] - 0s 3ms/step - loss: 7.0950 - mae: 7.0950\n",
      "Epoch 63/100\n",
      "1/1 [==============================] - 0s 4ms/step - loss: 7.0894 - mae: 7.0894\n",
      "Epoch 64/100\n",
      "1/1 [==============================] - 0s 3ms/step - loss: 7.0838 - mae: 7.0838\n",
      "Epoch 65/100\n",
      "1/1 [==============================] - 0s 4ms/step - loss: 7.0781 - mae: 7.0781\n",
      "Epoch 66/100\n",
      "1/1 [==============================] - 0s 3ms/step - loss: 7.0725 - mae: 7.0725\n",
      "Epoch 67/100\n",
      "1/1 [==============================] - 0s 3ms/step - loss: 7.0669 - mae: 7.0669\n",
      "Epoch 68/100\n",
      "1/1 [==============================] - 0s 4ms/step - loss: 7.0613 - mae: 7.0613\n",
      "Epoch 69/100\n",
      "1/1 [==============================] - 0s 3ms/step - loss: 7.0556 - mae: 7.0556\n",
      "Epoch 70/100\n",
      "1/1 [==============================] - 0s 3ms/step - loss: 7.0500 - mae: 7.0500\n",
      "Epoch 71/100\n",
      "1/1 [==============================] - 0s 3ms/step - loss: 7.0444 - mae: 7.0444\n",
      "Epoch 72/100\n",
      "1/1 [==============================] - 0s 2ms/step - loss: 7.0388 - mae: 7.0388\n",
      "Epoch 73/100\n",
      "1/1 [==============================] - 0s 3ms/step - loss: 7.0331 - mae: 7.0331\n",
      "Epoch 74/100\n",
      "1/1 [==============================] - 0s 4ms/step - loss: 7.0275 - mae: 7.0275\n",
      "Epoch 75/100\n",
      "1/1 [==============================] - 0s 4ms/step - loss: 7.0219 - mae: 7.0219\n",
      "Epoch 76/100\n",
      "1/1 [==============================] - 0s 3ms/step - loss: 7.0163 - mae: 7.0163\n",
      "Epoch 77/100\n",
      "1/1 [==============================] - 0s 3ms/step - loss: 7.0106 - mae: 7.0106\n",
      "Epoch 78/100\n",
      "1/1 [==============================] - 0s 4ms/step - loss: 7.0050 - mae: 7.0050\n",
      "Epoch 79/100\n",
      "1/1 [==============================] - 0s 4ms/step - loss: 6.9994 - mae: 6.9994\n",
      "Epoch 80/100\n",
      "1/1 [==============================] - 0s 3ms/step - loss: 6.9938 - mae: 6.9938\n",
      "Epoch 81/100\n",
      "1/1 [==============================] - 0s 3ms/step - loss: 6.9881 - mae: 6.9881\n",
      "Epoch 82/100\n",
      "1/1 [==============================] - 0s 3ms/step - loss: 6.9825 - mae: 6.9825\n",
      "Epoch 83/100\n",
      "1/1 [==============================] - 0s 3ms/step - loss: 6.9769 - mae: 6.9769\n",
      "Epoch 84/100\n",
      "1/1 [==============================] - 0s 3ms/step - loss: 6.9713 - mae: 6.9713\n",
      "Epoch 85/100\n",
      "1/1 [==============================] - 0s 3ms/step - loss: 6.9656 - mae: 6.9656\n",
      "Epoch 86/100\n",
      "1/1 [==============================] - 0s 4ms/step - loss: 6.9600 - mae: 6.9600\n",
      "Epoch 87/100\n",
      "1/1 [==============================] - 0s 3ms/step - loss: 6.9544 - mae: 6.9544\n",
      "Epoch 88/100\n",
      "1/1 [==============================] - 0s 3ms/step - loss: 6.9488 - mae: 6.9488\n",
      "Epoch 89/100\n",
      "1/1 [==============================] - 0s 3ms/step - loss: 6.9431 - mae: 6.9431\n",
      "Epoch 90/100\n",
      "1/1 [==============================] - 0s 4ms/step - loss: 6.9375 - mae: 6.9375\n",
      "Epoch 91/100\n",
      "1/1 [==============================] - 0s 3ms/step - loss: 6.9319 - mae: 6.9319\n",
      "Epoch 92/100\n",
      "1/1 [==============================] - 0s 2ms/step - loss: 6.9263 - mae: 6.9263\n",
      "Epoch 93/100\n",
      "1/1 [==============================] - 0s 2ms/step - loss: 6.9206 - mae: 6.9206\n",
      "Epoch 94/100\n",
      "1/1 [==============================] - 0s 3ms/step - loss: 6.9150 - mae: 6.9150\n",
      "Epoch 95/100\n",
      "1/1 [==============================] - 0s 2ms/step - loss: 6.9094 - mae: 6.9094\n",
      "Epoch 96/100\n",
      "1/1 [==============================] - 0s 3ms/step - loss: 6.9038 - mae: 6.9038\n",
      "Epoch 97/100\n",
      "1/1 [==============================] - 0s 3ms/step - loss: 6.8981 - mae: 6.8981\n",
      "Epoch 98/100\n",
      "1/1 [==============================] - 0s 3ms/step - loss: 6.8925 - mae: 6.8925\n",
      "Epoch 99/100\n",
      "1/1 [==============================] - 0s 3ms/step - loss: 6.8869 - mae: 6.8869\n",
      "Epoch 100/100\n",
      "1/1 [==============================] - 0s 3ms/step - loss: 6.8813 - mae: 6.8813\n"
     ]
    },
    {
     "data": {
      "text/plain": [
       "<keras.callbacks.History at 0x1208f04b790>"
      ]
     },
     "execution_count": 23,
     "metadata": {},
     "output_type": "execute_result"
    }
   ],
   "source": [
    "# Set random seed\n",
    "tf.random.set_seed(42)\n",
    "\n",
    "# Create a model (same as above)\n",
    "model = tf.keras.Sequential([\n",
    "  tf.keras.layers.Dense(1)\n",
    "])\n",
    "\n",
    "# Compile model (same as above)\n",
    "model.compile(loss=tf.keras.losses.mae,\n",
    "              optimizer=tf.keras.optimizers.SGD(),\n",
    "              metrics=[\"mae\"])\n",
    "# Fit model (this time we'll train for longer)\n",
    "model.fit(tf.expand_dims(X, axis=-1), y, epochs=100) # train for 100 epochs not 10"
   ]
  },
  {
   "cell_type": "code",
   "execution_count": 24,
   "metadata": {},
   "outputs": [
    {
     "data": {
      "text/plain": [
       "array([[30.158512]], dtype=float32)"
      ]
     },
     "execution_count": 24,
     "metadata": {},
     "output_type": "execute_result"
    }
   ],
   "source": [
    "model.predict([17.0])"
   ]
  },
  {
   "cell_type": "code",
   "execution_count": 25,
   "metadata": {},
   "outputs": [
    {
     "name": "stdout",
     "output_type": "stream",
     "text": [
      "Epoch 1/100\n"
     ]
    },
    {
     "name": "stderr",
     "output_type": "stream",
     "text": [
      "c:\\Users\\siddg\\.conda\\envs\\tf\\lib\\site-packages\\keras\\optimizer_v2\\adam.py:105: UserWarning: The `lr` argument is deprecated, use `learning_rate` instead.\n",
      "  super(Adam, self).__init__(name, **kwargs)\n"
     ]
    },
    {
     "name": "stdout",
     "output_type": "stream",
     "text": [
      "1/1 [==============================] - 0s 365ms/step - loss: 11.5048 - mae: 11.5048\n",
      "Epoch 2/100\n",
      "1/1 [==============================] - 0s 3ms/step - loss: 11.5043 - mae: 11.5043\n",
      "Epoch 3/100\n",
      "1/1 [==============================] - 0s 3ms/step - loss: 11.5039 - mae: 11.5039\n",
      "Epoch 4/100\n",
      "1/1 [==============================] - 0s 4ms/step - loss: 11.5034 - mae: 11.5034\n",
      "Epoch 5/100\n",
      "1/1 [==============================] - 0s 3ms/step - loss: 11.5030 - mae: 11.5030\n",
      "Epoch 6/100\n",
      "1/1 [==============================] - 0s 3ms/step - loss: 11.5025 - mae: 11.5025\n",
      "Epoch 7/100\n",
      "1/1 [==============================] - 0s 4ms/step - loss: 11.5021 - mae: 11.5021\n",
      "Epoch 8/100\n",
      "1/1 [==============================] - 0s 3ms/step - loss: 11.5016 - mae: 11.5016\n",
      "Epoch 9/100\n",
      "1/1 [==============================] - 0s 3ms/step - loss: 11.5012 - mae: 11.5012\n",
      "Epoch 10/100\n",
      "1/1 [==============================] - 0s 3ms/step - loss: 11.5007 - mae: 11.5007\n",
      "Epoch 11/100\n",
      "1/1 [==============================] - 0s 2ms/step - loss: 11.5003 - mae: 11.5003\n",
      "Epoch 12/100\n",
      "1/1 [==============================] - 0s 3ms/step - loss: 11.4998 - mae: 11.4998\n",
      "Epoch 13/100\n",
      "1/1 [==============================] - 0s 3ms/step - loss: 11.4994 - mae: 11.4994\n",
      "Epoch 14/100\n",
      "1/1 [==============================] - 0s 2ms/step - loss: 11.4989 - mae: 11.4989\n",
      "Epoch 15/100\n",
      "1/1 [==============================] - 0s 3ms/step - loss: 11.4985 - mae: 11.4985\n",
      "Epoch 16/100\n",
      "1/1 [==============================] - 0s 3ms/step - loss: 11.4980 - mae: 11.4980\n",
      "Epoch 17/100\n",
      "1/1 [==============================] - 0s 3ms/step - loss: 11.4976 - mae: 11.4976\n",
      "Epoch 18/100\n",
      "1/1 [==============================] - 0s 3ms/step - loss: 11.4971 - mae: 11.4971\n",
      "Epoch 19/100\n",
      "1/1 [==============================] - 0s 3ms/step - loss: 11.4967 - mae: 11.4967\n",
      "Epoch 20/100\n",
      "1/1 [==============================] - 0s 3ms/step - loss: 11.4962 - mae: 11.4962\n",
      "Epoch 21/100\n",
      "1/1 [==============================] - 0s 3ms/step - loss: 11.4958 - mae: 11.4958\n",
      "Epoch 22/100\n",
      "1/1 [==============================] - 0s 3ms/step - loss: 11.4953 - mae: 11.4953\n",
      "Epoch 23/100\n",
      "1/1 [==============================] - 0s 2ms/step - loss: 11.4949 - mae: 11.4949\n",
      "Epoch 24/100\n",
      "1/1 [==============================] - 0s 2ms/step - loss: 11.4944 - mae: 11.4944\n",
      "Epoch 25/100\n",
      "1/1 [==============================] - 0s 3ms/step - loss: 11.4940 - mae: 11.4940\n",
      "Epoch 26/100\n",
      "1/1 [==============================] - 0s 3ms/step - loss: 11.4935 - mae: 11.4935\n",
      "Epoch 27/100\n",
      "1/1 [==============================] - 0s 3ms/step - loss: 11.4931 - mae: 11.4931\n",
      "Epoch 28/100\n",
      "1/1 [==============================] - 0s 2ms/step - loss: 11.4926 - mae: 11.4926\n",
      "Epoch 29/100\n",
      "1/1 [==============================] - 0s 2ms/step - loss: 11.4922 - mae: 11.4922\n",
      "Epoch 30/100\n",
      "1/1 [==============================] - 0s 3ms/step - loss: 11.4917 - mae: 11.4917\n",
      "Epoch 31/100\n",
      "1/1 [==============================] - 0s 2ms/step - loss: 11.4913 - mae: 11.4913\n",
      "Epoch 32/100\n",
      "1/1 [==============================] - 0s 3ms/step - loss: 11.4908 - mae: 11.4908\n",
      "Epoch 33/100\n",
      "1/1 [==============================] - 0s 3ms/step - loss: 11.4904 - mae: 11.4904\n",
      "Epoch 34/100\n",
      "1/1 [==============================] - 0s 3ms/step - loss: 11.4899 - mae: 11.4899\n",
      "Epoch 35/100\n",
      "1/1 [==============================] - 0s 4ms/step - loss: 11.4895 - mae: 11.4895\n",
      "Epoch 36/100\n",
      "1/1 [==============================] - 0s 4ms/step - loss: 11.4890 - mae: 11.4890\n",
      "Epoch 37/100\n",
      "1/1 [==============================] - 0s 2ms/step - loss: 11.4886 - mae: 11.4886\n",
      "Epoch 38/100\n",
      "1/1 [==============================] - 0s 4ms/step - loss: 11.4881 - mae: 11.4881\n",
      "Epoch 39/100\n",
      "1/1 [==============================] - 0s 4ms/step - loss: 11.4877 - mae: 11.4877\n",
      "Epoch 40/100\n",
      "1/1 [==============================] - 0s 3ms/step - loss: 11.4872 - mae: 11.4872\n",
      "Epoch 41/100\n",
      "1/1 [==============================] - 0s 3ms/step - loss: 11.4868 - mae: 11.4868\n",
      "Epoch 42/100\n",
      "1/1 [==============================] - 0s 3ms/step - loss: 11.4863 - mae: 11.4863\n",
      "Epoch 43/100\n",
      "1/1 [==============================] - 0s 4ms/step - loss: 11.4859 - mae: 11.4859\n",
      "Epoch 44/100\n",
      "1/1 [==============================] - 0s 3ms/step - loss: 11.4854 - mae: 11.4854\n",
      "Epoch 45/100\n",
      "1/1 [==============================] - 0s 5ms/step - loss: 11.4850 - mae: 11.4850\n",
      "Epoch 46/100\n",
      "1/1 [==============================] - 0s 3ms/step - loss: 11.4845 - mae: 11.4845\n",
      "Epoch 47/100\n",
      "1/1 [==============================] - 0s 3ms/step - loss: 11.4841 - mae: 11.4841\n",
      "Epoch 48/100\n",
      "1/1 [==============================] - 0s 2ms/step - loss: 11.4836 - mae: 11.4836\n",
      "Epoch 49/100\n",
      "1/1 [==============================] - 0s 3ms/step - loss: 11.4832 - mae: 11.4832\n",
      "Epoch 50/100\n",
      "1/1 [==============================] - 0s 3ms/step - loss: 11.4827 - mae: 11.4827\n",
      "Epoch 51/100\n",
      "1/1 [==============================] - 0s 3ms/step - loss: 11.4823 - mae: 11.4823\n",
      "Epoch 52/100\n",
      "1/1 [==============================] - 0s 2ms/step - loss: 11.4818 - mae: 11.4818\n",
      "Epoch 53/100\n",
      "1/1 [==============================] - 0s 4ms/step - loss: 11.4814 - mae: 11.4814\n",
      "Epoch 54/100\n",
      "1/1 [==============================] - 0s 2ms/step - loss: 11.4809 - mae: 11.4809\n",
      "Epoch 55/100\n",
      "1/1 [==============================] - 0s 3ms/step - loss: 11.4805 - mae: 11.4805\n",
      "Epoch 56/100\n",
      "1/1 [==============================] - 0s 3ms/step - loss: 11.4800 - mae: 11.4800\n",
      "Epoch 57/100\n",
      "1/1 [==============================] - 0s 3ms/step - loss: 11.4796 - mae: 11.4796\n",
      "Epoch 58/100\n",
      "1/1 [==============================] - 0s 3ms/step - loss: 11.4791 - mae: 11.4791\n",
      "Epoch 59/100\n",
      "1/1 [==============================] - 0s 2ms/step - loss: 11.4787 - mae: 11.4787\n",
      "Epoch 60/100\n",
      "1/1 [==============================] - 0s 2ms/step - loss: 11.4782 - mae: 11.4782\n",
      "Epoch 61/100\n",
      "1/1 [==============================] - 0s 3ms/step - loss: 11.4778 - mae: 11.4778\n",
      "Epoch 62/100\n",
      "1/1 [==============================] - 0s 2ms/step - loss: 11.4773 - mae: 11.4773\n",
      "Epoch 63/100\n",
      "1/1 [==============================] - 0s 2ms/step - loss: 11.4769 - mae: 11.4769\n",
      "Epoch 64/100\n",
      "1/1 [==============================] - 0s 2ms/step - loss: 11.4764 - mae: 11.4764\n",
      "Epoch 65/100\n",
      "1/1 [==============================] - 0s 3ms/step - loss: 11.4760 - mae: 11.4760\n",
      "Epoch 66/100\n",
      "1/1 [==============================] - 0s 3ms/step - loss: 11.4755 - mae: 11.4755\n",
      "Epoch 67/100\n",
      "1/1 [==============================] - 0s 3ms/step - loss: 11.4751 - mae: 11.4751\n",
      "Epoch 68/100\n",
      "1/1 [==============================] - 0s 3ms/step - loss: 11.4746 - mae: 11.4746\n",
      "Epoch 69/100\n",
      "1/1 [==============================] - 0s 3ms/step - loss: 11.4742 - mae: 11.4742\n",
      "Epoch 70/100\n",
      "1/1 [==============================] - 0s 2ms/step - loss: 11.4737 - mae: 11.4737\n",
      "Epoch 71/100\n",
      "1/1 [==============================] - 0s 3ms/step - loss: 11.4733 - mae: 11.4733\n",
      "Epoch 72/100\n",
      "1/1 [==============================] - 0s 3ms/step - loss: 11.4728 - mae: 11.4728\n",
      "Epoch 73/100\n",
      "1/1 [==============================] - 0s 2ms/step - loss: 11.4724 - mae: 11.4724\n",
      "Epoch 74/100\n",
      "1/1 [==============================] - 0s 4ms/step - loss: 11.4719 - mae: 11.4719\n",
      "Epoch 75/100\n",
      "1/1 [==============================] - 0s 2ms/step - loss: 11.4715 - mae: 11.4715\n",
      "Epoch 76/100\n",
      "1/1 [==============================] - 0s 2ms/step - loss: 11.4710 - mae: 11.4710\n",
      "Epoch 77/100\n",
      "1/1 [==============================] - 0s 2ms/step - loss: 11.4706 - mae: 11.4706\n",
      "Epoch 78/100\n",
      "1/1 [==============================] - 0s 3ms/step - loss: 11.4701 - mae: 11.4701\n",
      "Epoch 79/100\n",
      "1/1 [==============================] - 0s 3ms/step - loss: 11.4697 - mae: 11.4697\n",
      "Epoch 80/100\n",
      "1/1 [==============================] - 0s 2ms/step - loss: 11.4692 - mae: 11.4692\n",
      "Epoch 81/100\n",
      "1/1 [==============================] - 0s 2ms/step - loss: 11.4688 - mae: 11.4688\n",
      "Epoch 82/100\n",
      "1/1 [==============================] - 0s 3ms/step - loss: 11.4683 - mae: 11.4683\n",
      "Epoch 83/100\n",
      "1/1 [==============================] - 0s 3ms/step - loss: 11.4679 - mae: 11.4679\n",
      "Epoch 84/100\n",
      "1/1 [==============================] - 0s 2ms/step - loss: 11.4674 - mae: 11.4674\n",
      "Epoch 85/100\n",
      "1/1 [==============================] - 0s 2ms/step - loss: 11.4670 - mae: 11.4670\n",
      "Epoch 86/100\n",
      "1/1 [==============================] - 0s 3ms/step - loss: 11.4665 - mae: 11.4665\n",
      "Epoch 87/100\n",
      "1/1 [==============================] - 0s 3ms/step - loss: 11.4661 - mae: 11.4661\n",
      "Epoch 88/100\n",
      "1/1 [==============================] - 0s 2ms/step - loss: 11.4656 - mae: 11.4656\n",
      "Epoch 89/100\n",
      "1/1 [==============================] - 0s 2ms/step - loss: 11.4652 - mae: 11.4652\n",
      "Epoch 90/100\n",
      "1/1 [==============================] - 0s 3ms/step - loss: 11.4647 - mae: 11.4647\n",
      "Epoch 91/100\n",
      "1/1 [==============================] - 0s 3ms/step - loss: 11.4643 - mae: 11.4643\n",
      "Epoch 92/100\n",
      "1/1 [==============================] - 0s 3ms/step - loss: 11.4638 - mae: 11.4638\n",
      "Epoch 93/100\n",
      "1/1 [==============================] - 0s 2ms/step - loss: 11.4634 - mae: 11.4634\n",
      "Epoch 94/100\n",
      "1/1 [==============================] - 0s 3ms/step - loss: 11.4629 - mae: 11.4629\n",
      "Epoch 95/100\n",
      "1/1 [==============================] - 0s 3ms/step - loss: 11.4625 - mae: 11.4625\n",
      "Epoch 96/100\n",
      "1/1 [==============================] - 0s 3ms/step - loss: 11.4620 - mae: 11.4620\n",
      "Epoch 97/100\n",
      "1/1 [==============================] - 0s 3ms/step - loss: 11.4616 - mae: 11.4616\n",
      "Epoch 98/100\n",
      "1/1 [==============================] - 0s 4ms/step - loss: 11.4611 - mae: 11.4611\n",
      "Epoch 99/100\n",
      "1/1 [==============================] - 0s 3ms/step - loss: 11.4607 - mae: 11.4607\n",
      "Epoch 100/100\n",
      "1/1 [==============================] - 0s 2ms/step - loss: 11.4602 - mae: 11.4602\n"
     ]
    },
    {
     "data": {
      "text/plain": [
       "<keras.callbacks.History at 0x1208f2a3df0>"
      ]
     },
     "execution_count": 25,
     "metadata": {},
     "output_type": "execute_result"
    }
   ],
   "source": [
    "# Set random seed\n",
    "tf.random.set_seed(42)\n",
    "\n",
    "# Create a model (same as above)\n",
    "model = tf.keras.Sequential([\n",
    "  tf.keras.layers.Dense(1)\n",
    "])\n",
    "\n",
    "# Compile model (same as above)\n",
    "model.compile(loss=tf.keras.losses.mae,\n",
    "              optimizer=tf.keras.optimizers.Adam(lr=0.0001),\n",
    "              metrics=[\"mae\"])\n",
    "# Fit model (this time we'll train for longer)\n",
    "model.fit(tf.expand_dims(X, axis=-1), y, epochs=100) # train for 100 epochs not 10"
   ]
  },
  {
   "cell_type": "code",
   "execution_count": 26,
   "metadata": {},
   "outputs": [
    {
     "data": {
      "text/plain": [
       "array([[9.871047]], dtype=float32)"
      ]
     },
     "execution_count": 26,
     "metadata": {},
     "output_type": "execute_result"
    }
   ],
   "source": [
    "model.predict([17.0])       #! adam is not working good"
   ]
  },
  {
   "cell_type": "code",
   "execution_count": 27,
   "metadata": {},
   "outputs": [
    {
     "name": "stdout",
     "output_type": "stream",
     "text": [
      "Epoch 1/100\n",
      "1/1 [==============================] - 1s 605ms/step - loss: 12.7400 - mae: 12.7400\n",
      "Epoch 2/100\n",
      "1/1 [==============================] - 0s 4ms/step - loss: 11.3908 - mae: 11.3908\n",
      "Epoch 3/100\n",
      "1/1 [==============================] - 0s 4ms/step - loss: 9.9195 - mae: 9.9195\n",
      "Epoch 4/100\n",
      "1/1 [==============================] - 0s 4ms/step - loss: 8.1921 - mae: 8.1921\n",
      "Epoch 5/100\n",
      "1/1 [==============================] - 0s 2ms/step - loss: 7.6754 - mae: 7.6754\n",
      "Epoch 6/100\n",
      "1/1 [==============================] - 0s 5ms/step - loss: 7.8215 - mae: 7.8215\n",
      "Epoch 7/100\n",
      "1/1 [==============================] - 0s 5ms/step - loss: 7.8215 - mae: 7.8215\n",
      "Epoch 8/100\n",
      "1/1 [==============================] - 0s 3ms/step - loss: 7.4320 - mae: 7.4320\n",
      "Epoch 9/100\n",
      "1/1 [==============================] - 0s 4ms/step - loss: 8.0630 - mae: 8.0630\n",
      "Epoch 10/100\n",
      "1/1 [==============================] - 0s 3ms/step - loss: 8.3451 - mae: 8.3451\n",
      "Epoch 11/100\n",
      "1/1 [==============================] - 0s 5ms/step - loss: 6.9440 - mae: 6.9440\n",
      "Epoch 12/100\n",
      "1/1 [==============================] - 0s 4ms/step - loss: 6.8892 - mae: 6.8892\n",
      "Epoch 13/100\n",
      "1/1 [==============================] - 0s 4ms/step - loss: 7.8428 - mae: 7.8428\n",
      "Epoch 14/100\n",
      "1/1 [==============================] - 0s 4ms/step - loss: 7.0768 - mae: 7.0768\n",
      "Epoch 15/100\n",
      "1/1 [==============================] - 0s 4ms/step - loss: 7.4132 - mae: 7.4132\n",
      "Epoch 16/100\n",
      "1/1 [==============================] - 0s 3ms/step - loss: 7.2821 - mae: 7.2821\n",
      "Epoch 17/100\n",
      "1/1 [==============================] - 0s 3ms/step - loss: 6.9547 - mae: 6.9547\n",
      "Epoch 18/100\n",
      "1/1 [==============================] - 0s 3ms/step - loss: 7.6453 - mae: 7.6453\n",
      "Epoch 19/100\n",
      "1/1 [==============================] - 0s 3ms/step - loss: 7.7840 - mae: 7.7840\n",
      "Epoch 20/100\n",
      "1/1 [==============================] - 0s 5ms/step - loss: 6.5366 - mae: 6.5366\n",
      "Epoch 21/100\n",
      "1/1 [==============================] - 0s 3ms/step - loss: 7.3160 - mae: 7.3160\n",
      "Epoch 22/100\n",
      "1/1 [==============================] - 0s 3ms/step - loss: 6.7685 - mae: 6.7685\n",
      "Epoch 23/100\n",
      "1/1 [==============================] - 0s 3ms/step - loss: 6.8127 - mae: 6.8127\n",
      "Epoch 24/100\n",
      "1/1 [==============================] - 0s 3ms/step - loss: 7.0774 - mae: 7.0774\n",
      "Epoch 25/100\n",
      "1/1 [==============================] - 0s 4ms/step - loss: 7.5624 - mae: 7.5624\n",
      "Epoch 26/100\n",
      "1/1 [==============================] - 0s 4ms/step - loss: 6.1498 - mae: 6.1498\n",
      "Epoch 27/100\n",
      "1/1 [==============================] - 0s 4ms/step - loss: 7.0431 - mae: 7.0431\n",
      "Epoch 28/100\n",
      "1/1 [==============================] - 0s 3ms/step - loss: 6.4073 - mae: 6.4073\n",
      "Epoch 29/100\n",
      "1/1 [==============================] - 0s 3ms/step - loss: 6.4795 - mae: 6.4795\n",
      "Epoch 30/100\n",
      "1/1 [==============================] - 0s 3ms/step - loss: 6.8077 - mae: 6.8077\n",
      "Epoch 31/100\n",
      "1/1 [==============================] - 0s 4ms/step - loss: 7.1853 - mae: 7.1853\n",
      "Epoch 32/100\n",
      "1/1 [==============================] - 0s 5ms/step - loss: 5.8652 - mae: 5.8652\n",
      "Epoch 33/100\n",
      "1/1 [==============================] - 0s 3ms/step - loss: 6.5962 - mae: 6.5962\n",
      "Epoch 34/100\n",
      "1/1 [==============================] - 0s 3ms/step - loss: 6.1513 - mae: 6.1513\n",
      "Epoch 35/100\n",
      "1/1 [==============================] - 0s 4ms/step - loss: 5.9507 - mae: 5.9507\n",
      "Epoch 36/100\n",
      "1/1 [==============================] - 0s 3ms/step - loss: 6.7852 - mae: 6.7852\n",
      "Epoch 37/100\n",
      "1/1 [==============================] - 0s 5ms/step - loss: 6.6424 - mae: 6.6424\n",
      "Epoch 38/100\n",
      "1/1 [==============================] - 0s 3ms/step - loss: 5.6470 - mae: 5.6470\n",
      "Epoch 39/100\n",
      "1/1 [==============================] - 0s 5ms/step - loss: 5.9574 - mae: 5.9574\n",
      "Epoch 40/100\n",
      "1/1 [==============================] - 0s 3ms/step - loss: 6.1536 - mae: 6.1536\n",
      "Epoch 41/100\n",
      "1/1 [==============================] - 0s 4ms/step - loss: 6.5904 - mae: 6.5904\n",
      "Epoch 42/100\n",
      "1/1 [==============================] - 0s 3ms/step - loss: 5.1980 - mae: 5.1980\n",
      "Epoch 43/100\n",
      "1/1 [==============================] - 0s 4ms/step - loss: 5.8546 - mae: 5.8546\n",
      "Epoch 44/100\n",
      "1/1 [==============================] - 0s 4ms/step - loss: 5.6557 - mae: 5.6557\n",
      "Epoch 45/100\n",
      "1/1 [==============================] - 0s 4ms/step - loss: 6.4487 - mae: 6.4487\n",
      "Epoch 46/100\n",
      "1/1 [==============================] - 0s 2ms/step - loss: 4.7768 - mae: 4.7768\n",
      "Epoch 47/100\n",
      "1/1 [==============================] - 0s 3ms/step - loss: 5.6477 - mae: 5.6477\n",
      "Epoch 48/100\n",
      "1/1 [==============================] - 0s 3ms/step - loss: 5.2566 - mae: 5.2566\n",
      "Epoch 49/100\n",
      "1/1 [==============================] - 0s 5ms/step - loss: 6.2200 - mae: 6.2200\n",
      "Epoch 50/100\n",
      "1/1 [==============================] - 0s 3ms/step - loss: 4.3588 - mae: 4.3588\n",
      "Epoch 51/100\n",
      "1/1 [==============================] - 0s 4ms/step - loss: 5.3355 - mae: 5.3355\n",
      "Epoch 52/100\n",
      "1/1 [==============================] - 0s 3ms/step - loss: 4.9293 - mae: 4.9293\n",
      "Epoch 53/100\n",
      "1/1 [==============================] - 0s 3ms/step - loss: 5.9024 - mae: 5.9024\n",
      "Epoch 54/100\n",
      "1/1 [==============================] - 0s 3ms/step - loss: 3.9188 - mae: 3.9188\n",
      "Epoch 55/100\n",
      "1/1 [==============================] - 0s 4ms/step - loss: 4.9101 - mae: 4.9101\n",
      "Epoch 56/100\n",
      "1/1 [==============================] - 0s 4ms/step - loss: 4.6509 - mae: 4.6509\n",
      "Epoch 57/100\n",
      "1/1 [==============================] - 0s 4ms/step - loss: 5.4893 - mae: 5.4893\n",
      "Epoch 58/100\n",
      "1/1 [==============================] - 0s 4ms/step - loss: 3.4279 - mae: 3.4279\n",
      "Epoch 59/100\n",
      "1/1 [==============================] - 0s 3ms/step - loss: 4.3572 - mae: 4.3572\n",
      "Epoch 60/100\n",
      "1/1 [==============================] - 0s 3ms/step - loss: 4.4432 - mae: 4.4432\n",
      "Epoch 61/100\n",
      "1/1 [==============================] - 0s 4ms/step - loss: 6.1424 - mae: 6.1424\n",
      "Epoch 62/100\n",
      "1/1 [==============================] - 0s 3ms/step - loss: 3.2305 - mae: 3.2305\n",
      "Epoch 63/100\n",
      "1/1 [==============================] - 0s 5ms/step - loss: 5.7422 - mae: 5.7422\n",
      "Epoch 64/100\n",
      "1/1 [==============================] - 0s 4ms/step - loss: 5.2247 - mae: 5.2247\n",
      "Epoch 65/100\n",
      "1/1 [==============================] - 0s 4ms/step - loss: 2.1106 - mae: 2.1106\n",
      "Epoch 66/100\n",
      "1/1 [==============================] - 0s 3ms/step - loss: 2.0377 - mae: 2.0377\n",
      "Epoch 67/100\n",
      "1/1 [==============================] - 0s 5ms/step - loss: 6.1430 - mae: 6.1430\n",
      "Epoch 68/100\n",
      "1/1 [==============================] - 0s 4ms/step - loss: 3.4733 - mae: 3.4733\n",
      "Epoch 69/100\n",
      "1/1 [==============================] - 0s 4ms/step - loss: 6.2173 - mae: 6.2173\n",
      "Epoch 70/100\n",
      "1/1 [==============================] - 0s 4ms/step - loss: 2.5589 - mae: 2.5589\n",
      "Epoch 71/100\n",
      "1/1 [==============================] - 0s 5ms/step - loss: 4.7991 - mae: 4.7991\n",
      "Epoch 72/100\n",
      "1/1 [==============================] - 0s 4ms/step - loss: 2.9338 - mae: 2.9338\n",
      "Epoch 73/100\n",
      "1/1 [==============================] - 0s 3ms/step - loss: 5.9066 - mae: 5.9066\n",
      "Epoch 74/100\n",
      "1/1 [==============================] - 0s 3ms/step - loss: 2.1976 - mae: 2.1976\n",
      "Epoch 75/100\n",
      "1/1 [==============================] - 0s 3ms/step - loss: 4.5956 - mae: 4.5956\n",
      "Epoch 76/100\n",
      "1/1 [==============================] - 0s 4ms/step - loss: 2.5624 - mae: 2.5624\n",
      "Epoch 77/100\n",
      "1/1 [==============================] - 0s 3ms/step - loss: 5.6617 - mae: 5.6617\n",
      "Epoch 78/100\n",
      "1/1 [==============================] - 0s 4ms/step - loss: 1.9158 - mae: 1.9158\n",
      "Epoch 79/100\n",
      "1/1 [==============================] - 0s 3ms/step - loss: 4.3817 - mae: 4.3817\n",
      "Epoch 80/100\n",
      "1/1 [==============================] - 0s 4ms/step - loss: 2.3084 - mae: 2.3084\n",
      "Epoch 81/100\n",
      "1/1 [==============================] - 0s 3ms/step - loss: 5.4528 - mae: 5.4528\n",
      "Epoch 82/100\n",
      "1/1 [==============================] - 0s 4ms/step - loss: 1.6883 - mae: 1.6883\n",
      "Epoch 83/100\n",
      "1/1 [==============================] - 0s 4ms/step - loss: 4.1781 - mae: 4.1781\n",
      "Epoch 84/100\n",
      "1/1 [==============================] - 0s 4ms/step - loss: 2.9426 - mae: 2.9426\n",
      "Epoch 85/100\n",
      "1/1 [==============================] - 0s 2ms/step - loss: 4.4719 - mae: 4.4719\n",
      "Epoch 86/100\n",
      "1/1 [==============================] - 0s 4ms/step - loss: 2.2020 - mae: 2.2020\n",
      "Epoch 87/100\n",
      "1/1 [==============================] - 0s 3ms/step - loss: 4.7152 - mae: 4.7152\n",
      "Epoch 88/100\n",
      "1/1 [==============================] - 0s 4ms/step - loss: 1.6387 - mae: 1.6387\n",
      "Epoch 89/100\n",
      "1/1 [==============================] - 0s 3ms/step - loss: 3.6502 - mae: 3.6502\n",
      "Epoch 90/100\n",
      "1/1 [==============================] - 0s 4ms/step - loss: 2.1184 - mae: 2.1184\n",
      "Epoch 91/100\n",
      "1/1 [==============================] - 0s 3ms/step - loss: 4.6106 - mae: 4.6106\n",
      "Epoch 92/100\n",
      "1/1 [==============================] - 0s 3ms/step - loss: 1.5222 - mae: 1.5222\n",
      "Epoch 93/100\n",
      "1/1 [==============================] - 0s 4ms/step - loss: 4.8110 - mae: 4.8110\n",
      "Epoch 94/100\n",
      "1/1 [==============================] - 0s 4ms/step - loss: 1.0961 - mae: 1.0961\n",
      "Epoch 95/100\n",
      "1/1 [==============================] - 0s 4ms/step - loss: 3.7436 - mae: 3.7436\n",
      "Epoch 96/100\n",
      "1/1 [==============================] - 0s 4ms/step - loss: 2.2390 - mae: 2.2390\n",
      "Epoch 97/100\n",
      "1/1 [==============================] - 0s 4ms/step - loss: 4.6356 - mae: 4.6356\n",
      "Epoch 98/100\n",
      "1/1 [==============================] - 0s 4ms/step - loss: 0.9399 - mae: 0.9399\n",
      "Epoch 99/100\n",
      "1/1 [==============================] - 0s 3ms/step - loss: 1.7806 - mae: 1.7806\n",
      "Epoch 100/100\n",
      "1/1 [==============================] - 0s 5ms/step - loss: 4.1882 - mae: 4.1882\n"
     ]
    },
    {
     "data": {
      "text/plain": [
       "<keras.callbacks.History at 0x1208f4f48b0>"
      ]
     },
     "execution_count": 27,
     "metadata": {},
     "output_type": "execute_result"
    }
   ],
   "source": [
    "# Set random seed\n",
    "\n",
    "#! Best model\n",
    "tf.random.set_seed(42)\n",
    "\n",
    "# Create a model (same as above)\n",
    "model = tf.keras.Sequential([\n",
    "  tf.keras.layers.Dense(100),\n",
    "  tf.keras.layers.Dense(100),\n",
    "  tf.keras.layers.Dense(100),\n",
    "  tf.keras.layers.Dense(1),\n",
    "])\n",
    "\n",
    "# Compile model (same as above)\n",
    "model.compile(loss=tf.keras.losses.mae,\n",
    "              optimizer=tf.keras.optimizers.SGD(),\n",
    "              metrics=[\"mae\"])\n",
    "# Fit model (this time we'll train for longer)\n",
    "model.fit(tf.expand_dims(X, axis=-1), y, epochs=100) # train for 100 epochs not 10"
   ]
  },
  {
   "attachments": {},
   "cell_type": "markdown",
   "metadata": {},
   "source": [
    "mae: 4.8747"
   ]
  },
  {
   "cell_type": "code",
   "execution_count": 28,
   "metadata": {},
   "outputs": [
    {
     "data": {
      "text/plain": [
       "array([[17.754154]], dtype=float32)"
      ]
     },
     "execution_count": 28,
     "metadata": {},
     "output_type": "execute_result"
    }
   ],
   "source": [
    "model.predict([17.0])       #best accuracy"
   ]
  },
  {
   "cell_type": "markdown",
   "metadata": {},
   "source": [
    ">47"
   ]
  },
  {
   "cell_type": "code",
   "execution_count": 29,
   "metadata": {},
   "outputs": [
    {
     "name": "stdout",
     "output_type": "stream",
     "text": [
      "Epoch 1/100\n",
      "1/1 [==============================] - 0s 356ms/step - loss: 12.3185 - mae: 12.3185\n",
      "Epoch 2/100\n",
      "1/1 [==============================] - 0s 3ms/step - loss: 11.7696 - mae: 11.7696\n",
      "Epoch 3/100\n",
      "1/1 [==============================] - 0s 4ms/step - loss: 11.2132 - mae: 11.2132\n",
      "Epoch 4/100\n",
      "1/1 [==============================] - 0s 3ms/step - loss: 10.6444 - mae: 10.6444\n",
      "Epoch 5/100\n",
      "1/1 [==============================] - 0s 3ms/step - loss: 10.0534 - mae: 10.0534\n",
      "Epoch 6/100\n",
      "1/1 [==============================] - 0s 4ms/step - loss: 9.4344 - mae: 9.4344\n",
      "Epoch 7/100\n",
      "1/1 [==============================] - 0s 3ms/step - loss: 8.7821 - mae: 8.7821\n",
      "Epoch 8/100\n",
      "1/1 [==============================] - 0s 4ms/step - loss: 8.0881 - mae: 8.0881\n",
      "Epoch 9/100\n",
      "1/1 [==============================] - 0s 4ms/step - loss: 7.3552 - mae: 7.3552\n",
      "Epoch 10/100\n",
      "1/1 [==============================] - 0s 5ms/step - loss: 6.5787 - mae: 6.5787\n",
      "Epoch 11/100\n",
      "1/1 [==============================] - 0s 4ms/step - loss: 5.7437 - mae: 5.7437\n",
      "Epoch 12/100\n",
      "1/1 [==============================] - 0s 5ms/step - loss: 4.8395 - mae: 4.8395\n",
      "Epoch 13/100\n",
      "1/1 [==============================] - 0s 3ms/step - loss: 4.1104 - mae: 4.1104\n",
      "Epoch 14/100\n",
      "1/1 [==============================] - 0s 4ms/step - loss: 4.0143 - mae: 4.0143\n",
      "Epoch 15/100\n",
      "1/1 [==============================] - 0s 4ms/step - loss: 3.9156 - mae: 3.9156\n",
      "Epoch 16/100\n",
      "1/1 [==============================] - 0s 3ms/step - loss: 3.9722 - mae: 3.9722\n",
      "Epoch 17/100\n",
      "1/1 [==============================] - 0s 4ms/step - loss: 3.9044 - mae: 3.9044\n",
      "Epoch 18/100\n",
      "1/1 [==============================] - 0s 4ms/step - loss: 3.9636 - mae: 3.9636\n",
      "Epoch 19/100\n",
      "1/1 [==============================] - 0s 4ms/step - loss: 3.9191 - mae: 3.9191\n",
      "Epoch 20/100\n",
      "1/1 [==============================] - 0s 5ms/step - loss: 3.9452 - mae: 3.9452\n",
      "Epoch 21/100\n",
      "1/1 [==============================] - 0s 4ms/step - loss: 3.9259 - mae: 3.9259\n",
      "Epoch 22/100\n",
      "1/1 [==============================] - 0s 5ms/step - loss: 3.9194 - mae: 3.9194\n",
      "Epoch 23/100\n",
      "1/1 [==============================] - 0s 4ms/step - loss: 3.9328 - mae: 3.9328\n",
      "Epoch 24/100\n",
      "1/1 [==============================] - 0s 6ms/step - loss: 3.8934 - mae: 3.8934\n",
      "Epoch 25/100\n",
      "1/1 [==============================] - 0s 4ms/step - loss: 3.9399 - mae: 3.9399\n",
      "Epoch 26/100\n",
      "1/1 [==============================] - 0s 5ms/step - loss: 3.8726 - mae: 3.8726\n",
      "Epoch 27/100\n",
      "1/1 [==============================] - 0s 5ms/step - loss: 3.9469 - mae: 3.9469\n",
      "Epoch 28/100\n",
      "1/1 [==============================] - 0s 6ms/step - loss: 3.8875 - mae: 3.8875\n",
      "Epoch 29/100\n",
      "1/1 [==============================] - 0s 6ms/step - loss: 3.9223 - mae: 3.9223\n",
      "Epoch 30/100\n",
      "1/1 [==============================] - 0s 6ms/step - loss: 3.8945 - mae: 3.8945\n",
      "Epoch 31/100\n",
      "1/1 [==============================] - 0s 5ms/step - loss: 3.8962 - mae: 3.8962\n",
      "Epoch 32/100\n",
      "1/1 [==============================] - 0s 5ms/step - loss: 3.9016 - mae: 3.9016\n",
      "Epoch 33/100\n",
      "1/1 [==============================] - 0s 4ms/step - loss: 3.8700 - mae: 3.8700\n",
      "Epoch 34/100\n",
      "1/1 [==============================] - 0s 4ms/step - loss: 3.9089 - mae: 3.9089\n",
      "Epoch 35/100\n",
      "1/1 [==============================] - 0s 3ms/step - loss: 3.8473 - mae: 3.8473\n",
      "Epoch 36/100\n",
      "1/1 [==============================] - 0s 4ms/step - loss: 3.9242 - mae: 3.9242\n",
      "Epoch 37/100\n",
      "1/1 [==============================] - 0s 4ms/step - loss: 3.8570 - mae: 3.8570\n",
      "Epoch 38/100\n",
      "1/1 [==============================] - 0s 4ms/step - loss: 3.8981 - mae: 3.8981\n",
      "Epoch 39/100\n",
      "1/1 [==============================] - 0s 4ms/step - loss: 3.8642 - mae: 3.8642\n",
      "Epoch 40/100\n",
      "1/1 [==============================] - 0s 4ms/step - loss: 3.8718 - mae: 3.8718\n",
      "Epoch 41/100\n",
      "1/1 [==============================] - 0s 3ms/step - loss: 3.8715 - mae: 3.8715\n",
      "Epoch 42/100\n",
      "1/1 [==============================] - 0s 3ms/step - loss: 3.8453 - mae: 3.8453\n",
      "Epoch 43/100\n",
      "1/1 [==============================] - 0s 4ms/step - loss: 3.8800 - mae: 3.8800\n",
      "Epoch 44/100\n",
      "1/1 [==============================] - 0s 3ms/step - loss: 3.8260 - mae: 3.8260\n",
      "Epoch 45/100\n",
      "1/1 [==============================] - 0s 3ms/step - loss: 3.8944 - mae: 3.8944\n",
      "Epoch 46/100\n",
      "1/1 [==============================] - 0s 2ms/step - loss: 3.8276 - mae: 3.8276\n",
      "Epoch 47/100\n",
      "1/1 [==============================] - 0s 3ms/step - loss: 3.8726 - mae: 3.8726\n",
      "Epoch 48/100\n",
      "1/1 [==============================] - 0s 3ms/step - loss: 3.8350 - mae: 3.8350\n",
      "Epoch 49/100\n",
      "1/1 [==============================] - 0s 3ms/step - loss: 3.8461 - mae: 3.8461\n",
      "Epoch 50/100\n",
      "1/1 [==============================] - 0s 4ms/step - loss: 3.8426 - mae: 3.8426\n",
      "Epoch 51/100\n",
      "1/1 [==============================] - 0s 3ms/step - loss: 3.8194 - mae: 3.8194\n",
      "Epoch 52/100\n",
      "1/1 [==============================] - 0s 4ms/step - loss: 3.8563 - mae: 3.8563\n",
      "Epoch 53/100\n",
      "1/1 [==============================] - 0s 3ms/step - loss: 3.7997 - mae: 3.7997\n",
      "Epoch 54/100\n",
      "1/1 [==============================] - 0s 4ms/step - loss: 3.8659 - mae: 3.8659\n",
      "Epoch 55/100\n",
      "1/1 [==============================] - 0s 3ms/step - loss: 3.7994 - mae: 3.7994\n",
      "Epoch 56/100\n",
      "1/1 [==============================] - 0s 4ms/step - loss: 3.8460 - mae: 3.8460\n",
      "Epoch 57/100\n",
      "1/1 [==============================] - 0s 3ms/step - loss: 3.8070 - mae: 3.8070\n",
      "Epoch 58/100\n",
      "1/1 [==============================] - 0s 3ms/step - loss: 3.8191 - mae: 3.8191\n",
      "Epoch 59/100\n",
      "1/1 [==============================] - 0s 4ms/step - loss: 3.8148 - mae: 3.8148\n",
      "Epoch 60/100\n",
      "1/1 [==============================] - 0s 3ms/step - loss: 3.7959 - mae: 3.7959\n",
      "Epoch 61/100\n",
      "1/1 [==============================] - 0s 4ms/step - loss: 3.8305 - mae: 3.8305\n",
      "Epoch 62/100\n",
      "1/1 [==============================] - 0s 3ms/step - loss: 3.7721 - mae: 3.7721\n",
      "Epoch 63/100\n",
      "1/1 [==============================] - 0s 3ms/step - loss: 3.8384 - mae: 3.8384\n",
      "Epoch 64/100\n",
      "1/1 [==============================] - 0s 3ms/step - loss: 3.7722 - mae: 3.7722\n",
      "Epoch 65/100\n",
      "1/1 [==============================] - 0s 3ms/step - loss: 3.8180 - mae: 3.8180\n",
      "Epoch 66/100\n",
      "1/1 [==============================] - 0s 3ms/step - loss: 3.7800 - mae: 3.7800\n",
      "Epoch 67/100\n",
      "1/1 [==============================] - 0s 3ms/step - loss: 3.7908 - mae: 3.7908\n",
      "Epoch 68/100\n",
      "1/1 [==============================] - 0s 3ms/step - loss: 3.7888 - mae: 3.7888\n",
      "Epoch 69/100\n",
      "1/1 [==============================] - 0s 3ms/step - loss: 3.7707 - mae: 3.7707\n",
      "Epoch 70/100\n",
      "1/1 [==============================] - 0s 3ms/step - loss: 3.8038 - mae: 3.8038\n",
      "Epoch 71/100\n",
      "1/1 [==============================] - 0s 3ms/step - loss: 3.7432 - mae: 3.7432\n",
      "Epoch 72/100\n",
      "1/1 [==============================] - 0s 3ms/step - loss: 3.8120 - mae: 3.8120\n",
      "Epoch 73/100\n",
      "1/1 [==============================] - 0s 3ms/step - loss: 3.7460 - mae: 3.7460\n",
      "Epoch 74/100\n",
      "1/1 [==============================] - 0s 3ms/step - loss: 3.7888 - mae: 3.7888\n",
      "Epoch 75/100\n",
      "1/1 [==============================] - 0s 3ms/step - loss: 3.7540 - mae: 3.7540\n",
      "Epoch 76/100\n",
      "1/1 [==============================] - 0s 4ms/step - loss: 3.7613 - mae: 3.7613\n",
      "Epoch 77/100\n",
      "1/1 [==============================] - 0s 3ms/step - loss: 3.7677 - mae: 3.7677\n",
      "Epoch 78/100\n",
      "1/1 [==============================] - 0s 4ms/step - loss: 3.7409 - mae: 3.7409\n",
      "Epoch 79/100\n",
      "1/1 [==============================] - 0s 3ms/step - loss: 3.7782 - mae: 3.7782\n",
      "Epoch 80/100\n",
      "1/1 [==============================] - 0s 3ms/step - loss: 3.7131 - mae: 3.7131\n",
      "Epoch 81/100\n",
      "1/1 [==============================] - 0s 3ms/step - loss: 3.7865 - mae: 3.7865\n",
      "Epoch 82/100\n",
      "1/1 [==============================] - 0s 3ms/step - loss: 3.7208 - mae: 3.7208\n",
      "Epoch 83/100\n",
      "1/1 [==============================] - 0s 3ms/step - loss: 3.7583 - mae: 3.7583\n",
      "Epoch 84/100\n",
      "1/1 [==============================] - 0s 4ms/step - loss: 3.7290 - mae: 3.7290\n",
      "Epoch 85/100\n",
      "1/1 [==============================] - 0s 4ms/step - loss: 3.7335 - mae: 3.7335\n",
      "Epoch 86/100\n",
      "1/1 [==============================] - 0s 4ms/step - loss: 3.7451 - mae: 3.7451\n",
      "Epoch 87/100\n",
      "1/1 [==============================] - 0s 3ms/step - loss: 3.7097 - mae: 3.7097\n",
      "Epoch 88/100\n",
      "1/1 [==============================] - 0s 3ms/step - loss: 3.7536 - mae: 3.7536\n",
      "Epoch 89/100\n",
      "1/1 [==============================] - 0s 3ms/step - loss: 3.6883 - mae: 3.6883\n",
      "Epoch 90/100\n",
      "1/1 [==============================] - 0s 2ms/step - loss: 3.7544 - mae: 3.7544\n",
      "Epoch 91/100\n",
      "1/1 [==============================] - 0s 4ms/step - loss: 3.6966 - mae: 3.6966\n",
      "Epoch 92/100\n",
      "1/1 [==============================] - 0s 3ms/step - loss: 3.7264 - mae: 3.7264\n",
      "Epoch 93/100\n",
      "1/1 [==============================] - 0s 3ms/step - loss: 3.7051 - mae: 3.7051\n",
      "Epoch 94/100\n",
      "1/1 [==============================] - 0s 2ms/step - loss: 3.7057 - mae: 3.7057\n",
      "Epoch 95/100\n",
      "1/1 [==============================] - 0s 3ms/step - loss: 3.7214 - mae: 3.7214\n",
      "Epoch 96/100\n",
      "1/1 [==============================] - 0s 3ms/step - loss: 3.6772 - mae: 3.6772\n",
      "Epoch 97/100\n",
      "1/1 [==============================] - 0s 2ms/step - loss: 3.7300 - mae: 3.7300\n",
      "Epoch 98/100\n",
      "1/1 [==============================] - 0s 3ms/step - loss: 3.6649 - mae: 3.6649\n",
      "Epoch 99/100\n",
      "1/1 [==============================] - 0s 3ms/step - loss: 3.7216 - mae: 3.7216\n",
      "Epoch 100/100\n",
      "1/1 [==============================] - 0s 3ms/step - loss: 3.6734 - mae: 3.6734\n"
     ]
    },
    {
     "data": {
      "text/plain": [
       "<keras.callbacks.History at 0x1208f786df0>"
      ]
     },
     "execution_count": 29,
     "metadata": {},
     "output_type": "execute_result"
    }
   ],
   "source": [
    "# Set random seed\n",
    "\n",
    "#! over fitting\n",
    "tf.random.set_seed(42)\n",
    "\n",
    "# Create a model (same as above)\n",
    "model = tf.keras.Sequential([\n",
    "  tf.keras.layers.Dense(100,activation='relu'),\n",
    "  tf.keras.layers.Dense(1),\n",
    "])\n",
    "\n",
    "# Compile model (same as above)\n",
    "model.compile(loss=tf.keras.losses.mae,\n",
    "              optimizer=tf.keras.optimizers.SGD(),\n",
    "              metrics=[\"mae\"])\n",
    "# Fit model (this time we'll train for longer)\n",
    "model.fit(tf.expand_dims(X, axis=-1), y, epochs=100) # train for 100 epochs not 10"
   ]
  },
  {
   "attachments": {},
   "cell_type": "markdown",
   "metadata": {},
   "source": [
    "mae: 3.7123\n"
   ]
  },
  {
   "cell_type": "code",
   "execution_count": 30,
   "metadata": {},
   "outputs": [
    {
     "name": "stdout",
     "output_type": "stream",
     "text": [
      "WARNING:tensorflow:5 out of the last 5 calls to <function Model.make_predict_function.<locals>.predict_function at 0x000001208D9010D0> triggered tf.function retracing. Tracing is expensive and the excessive number of tracings could be due to (1) creating @tf.function repeatedly in a loop, (2) passing tensors with different shapes, (3) passing Python objects instead of tensors. For (1), please define your @tf.function outside of the loop. For (2), @tf.function has experimental_relax_shapes=True option that relaxes argument shapes that can avoid unnecessary retracing. For (3), please refer to https://www.tensorflow.org/guide/function#controlling_retracing and https://www.tensorflow.org/api_docs/python/tf/function for  more details.\n"
     ]
    },
    {
     "data": {
      "text/plain": [
       "array([[31.382647]], dtype=float32)"
      ]
     },
     "execution_count": 30,
     "metadata": {},
     "output_type": "execute_result"
    }
   ],
   "source": [
    "model.predict([17.0])       #! over fitting\n"
   ]
  },
  {
   "cell_type": "code",
   "execution_count": 31,
   "metadata": {},
   "outputs": [
    {
     "name": "stdout",
     "output_type": "stream",
     "text": [
      "Epoch 1/100\n",
      "1/1 [==============================] - 0s 421ms/step - loss: 12.7400 - mae: 12.7400\n",
      "Epoch 2/100\n",
      "1/1 [==============================] - 0s 3ms/step - loss: 11.3908 - mae: 11.3908\n",
      "Epoch 3/100\n",
      "1/1 [==============================] - 0s 3ms/step - loss: 9.9195 - mae: 9.9195\n",
      "Epoch 4/100\n",
      "1/1 [==============================] - 0s 3ms/step - loss: 8.1921 - mae: 8.1921\n",
      "Epoch 5/100\n",
      "1/1 [==============================] - 0s 3ms/step - loss: 7.6754 - mae: 7.6754\n",
      "Epoch 6/100\n",
      "1/1 [==============================] - 0s 4ms/step - loss: 7.8215 - mae: 7.8215\n",
      "Epoch 7/100\n",
      "1/1 [==============================] - 0s 3ms/step - loss: 7.8215 - mae: 7.8215\n",
      "Epoch 8/100\n",
      "1/1 [==============================] - 0s 4ms/step - loss: 7.4320 - mae: 7.4320\n",
      "Epoch 9/100\n",
      "1/1 [==============================] - 0s 3ms/step - loss: 8.0630 - mae: 8.0630\n",
      "Epoch 10/100\n",
      "1/1 [==============================] - 0s 3ms/step - loss: 8.3451 - mae: 8.3451\n",
      "Epoch 11/100\n",
      "1/1 [==============================] - 0s 4ms/step - loss: 6.9440 - mae: 6.9440\n",
      "Epoch 12/100\n",
      "1/1 [==============================] - 0s 4ms/step - loss: 6.8892 - mae: 6.8892\n",
      "Epoch 13/100\n",
      "1/1 [==============================] - 0s 5ms/step - loss: 7.8428 - mae: 7.8428\n",
      "Epoch 14/100\n",
      "1/1 [==============================] - 0s 4ms/step - loss: 7.0768 - mae: 7.0768\n",
      "Epoch 15/100\n",
      "1/1 [==============================] - 0s 5ms/step - loss: 7.4132 - mae: 7.4132\n",
      "Epoch 16/100\n",
      "1/1 [==============================] - 0s 4ms/step - loss: 7.2821 - mae: 7.2821\n",
      "Epoch 17/100\n",
      "1/1 [==============================] - 0s 5ms/step - loss: 6.9547 - mae: 6.9547\n",
      "Epoch 18/100\n",
      "1/1 [==============================] - 0s 4ms/step - loss: 7.6453 - mae: 7.6453\n",
      "Epoch 19/100\n",
      "1/1 [==============================] - 0s 4ms/step - loss: 7.7840 - mae: 7.7840\n",
      "Epoch 20/100\n",
      "1/1 [==============================] - 0s 5ms/step - loss: 6.5366 - mae: 6.5366\n",
      "Epoch 21/100\n",
      "1/1 [==============================] - 0s 4ms/step - loss: 7.3160 - mae: 7.3160\n",
      "Epoch 22/100\n",
      "1/1 [==============================] - 0s 6ms/step - loss: 6.7685 - mae: 6.7685\n",
      "Epoch 23/100\n",
      "1/1 [==============================] - 0s 4ms/step - loss: 6.8127 - mae: 6.8127\n",
      "Epoch 24/100\n",
      "1/1 [==============================] - 0s 5ms/step - loss: 7.0774 - mae: 7.0774\n",
      "Epoch 25/100\n",
      "1/1 [==============================] - 0s 3ms/step - loss: 7.5624 - mae: 7.5624\n",
      "Epoch 26/100\n",
      "1/1 [==============================] - 0s 3ms/step - loss: 6.1498 - mae: 6.1498\n",
      "Epoch 27/100\n",
      "1/1 [==============================] - 0s 4ms/step - loss: 7.0431 - mae: 7.0431\n",
      "Epoch 28/100\n",
      "1/1 [==============================] - 0s 3ms/step - loss: 6.4073 - mae: 6.4073\n",
      "Epoch 29/100\n",
      "1/1 [==============================] - 0s 4ms/step - loss: 6.4795 - mae: 6.4795\n",
      "Epoch 30/100\n",
      "1/1 [==============================] - 0s 3ms/step - loss: 6.8077 - mae: 6.8077\n",
      "Epoch 31/100\n",
      "1/1 [==============================] - 0s 4ms/step - loss: 7.1853 - mae: 7.1853\n",
      "Epoch 32/100\n",
      "1/1 [==============================] - 0s 4ms/step - loss: 5.8652 - mae: 5.8652\n",
      "Epoch 33/100\n",
      "1/1 [==============================] - 0s 3ms/step - loss: 6.5962 - mae: 6.5962\n",
      "Epoch 34/100\n",
      "1/1 [==============================] - 0s 4ms/step - loss: 6.1513 - mae: 6.1513\n",
      "Epoch 35/100\n",
      "1/1 [==============================] - 0s 3ms/step - loss: 5.9507 - mae: 5.9507\n",
      "Epoch 36/100\n",
      "1/1 [==============================] - 0s 4ms/step - loss: 6.7852 - mae: 6.7852\n",
      "Epoch 37/100\n",
      "1/1 [==============================] - 0s 4ms/step - loss: 6.6424 - mae: 6.6424\n",
      "Epoch 38/100\n",
      "1/1 [==============================] - 0s 3ms/step - loss: 5.6470 - mae: 5.6470\n",
      "Epoch 39/100\n",
      "1/1 [==============================] - 0s 4ms/step - loss: 5.9574 - mae: 5.9574\n",
      "Epoch 40/100\n",
      "1/1 [==============================] - 0s 2ms/step - loss: 6.1536 - mae: 6.1536\n",
      "Epoch 41/100\n",
      "1/1 [==============================] - 0s 5ms/step - loss: 6.5904 - mae: 6.5904\n",
      "Epoch 42/100\n",
      "1/1 [==============================] - 0s 2ms/step - loss: 5.1980 - mae: 5.1980\n",
      "Epoch 43/100\n",
      "1/1 [==============================] - 0s 5ms/step - loss: 5.8546 - mae: 5.8546\n",
      "Epoch 44/100\n",
      "1/1 [==============================] - 0s 3ms/step - loss: 5.6557 - mae: 5.6557\n",
      "Epoch 45/100\n",
      "1/1 [==============================] - 0s 4ms/step - loss: 6.4487 - mae: 6.4487\n",
      "Epoch 46/100\n",
      "1/1 [==============================] - 0s 4ms/step - loss: 4.7768 - mae: 4.7768\n",
      "Epoch 47/100\n",
      "1/1 [==============================] - 0s 3ms/step - loss: 5.6477 - mae: 5.6477\n",
      "Epoch 48/100\n",
      "1/1 [==============================] - 0s 4ms/step - loss: 5.2566 - mae: 5.2566\n",
      "Epoch 49/100\n",
      "1/1 [==============================] - 0s 3ms/step - loss: 6.2200 - mae: 6.2200\n",
      "Epoch 50/100\n",
      "1/1 [==============================] - 0s 3ms/step - loss: 4.3588 - mae: 4.3588\n",
      "Epoch 51/100\n",
      "1/1 [==============================] - 0s 3ms/step - loss: 5.3355 - mae: 5.3355\n",
      "Epoch 52/100\n",
      "1/1 [==============================] - 0s 4ms/step - loss: 4.9293 - mae: 4.9293\n",
      "Epoch 53/100\n",
      "1/1 [==============================] - 0s 4ms/step - loss: 5.9024 - mae: 5.9024\n",
      "Epoch 54/100\n",
      "1/1 [==============================] - 0s 3ms/step - loss: 3.9188 - mae: 3.9188\n",
      "Epoch 55/100\n",
      "1/1 [==============================] - 0s 5ms/step - loss: 4.9101 - mae: 4.9101\n",
      "Epoch 56/100\n",
      "1/1 [==============================] - 0s 3ms/step - loss: 4.6509 - mae: 4.6509\n",
      "Epoch 57/100\n",
      "1/1 [==============================] - 0s 3ms/step - loss: 5.4893 - mae: 5.4893\n",
      "Epoch 58/100\n",
      "1/1 [==============================] - 0s 4ms/step - loss: 3.4279 - mae: 3.4279\n",
      "Epoch 59/100\n",
      "1/1 [==============================] - 0s 4ms/step - loss: 4.3572 - mae: 4.3572\n",
      "Epoch 60/100\n",
      "1/1 [==============================] - 0s 3ms/step - loss: 4.4432 - mae: 4.4432\n",
      "Epoch 61/100\n",
      "1/1 [==============================] - 0s 3ms/step - loss: 6.1424 - mae: 6.1424\n",
      "Epoch 62/100\n",
      "1/1 [==============================] - 0s 5ms/step - loss: 3.2305 - mae: 3.2305\n",
      "Epoch 63/100\n",
      "1/1 [==============================] - 0s 4ms/step - loss: 5.7422 - mae: 5.7422\n",
      "Epoch 64/100\n",
      "1/1 [==============================] - 0s 5ms/step - loss: 5.2247 - mae: 5.2247\n",
      "Epoch 65/100\n",
      "1/1 [==============================] - 0s 4ms/step - loss: 2.1106 - mae: 2.1106\n",
      "Epoch 66/100\n",
      "1/1 [==============================] - 0s 4ms/step - loss: 2.0377 - mae: 2.0377\n",
      "Epoch 67/100\n",
      "1/1 [==============================] - 0s 4ms/step - loss: 6.1430 - mae: 6.1430\n",
      "Epoch 68/100\n",
      "1/1 [==============================] - 0s 4ms/step - loss: 3.4733 - mae: 3.4733\n",
      "Epoch 69/100\n",
      "1/1 [==============================] - 0s 3ms/step - loss: 6.2173 - mae: 6.2173\n",
      "Epoch 70/100\n",
      "1/1 [==============================] - 0s 3ms/step - loss: 2.5589 - mae: 2.5589\n",
      "Epoch 71/100\n",
      "1/1 [==============================] - 0s 3ms/step - loss: 4.7991 - mae: 4.7991\n",
      "Epoch 72/100\n",
      "1/1 [==============================] - 0s 3ms/step - loss: 2.9338 - mae: 2.9338\n",
      "Epoch 73/100\n",
      "1/1 [==============================] - 0s 4ms/step - loss: 5.9066 - mae: 5.9066\n",
      "Epoch 74/100\n",
      "1/1 [==============================] - 0s 3ms/step - loss: 2.1976 - mae: 2.1976\n",
      "Epoch 75/100\n",
      "1/1 [==============================] - 0s 3ms/step - loss: 4.5956 - mae: 4.5956\n",
      "Epoch 76/100\n",
      "1/1 [==============================] - 0s 3ms/step - loss: 2.5624 - mae: 2.5624\n",
      "Epoch 77/100\n",
      "1/1 [==============================] - 0s 5ms/step - loss: 5.6617 - mae: 5.6617\n",
      "Epoch 78/100\n",
      "1/1 [==============================] - 0s 4ms/step - loss: 1.9158 - mae: 1.9158\n",
      "Epoch 79/100\n",
      "1/1 [==============================] - 0s 5ms/step - loss: 4.3817 - mae: 4.3817\n",
      "Epoch 80/100\n",
      "1/1 [==============================] - 0s 4ms/step - loss: 2.3084 - mae: 2.3084\n",
      "Epoch 81/100\n",
      "1/1 [==============================] - 0s 3ms/step - loss: 5.4528 - mae: 5.4528\n",
      "Epoch 82/100\n",
      "1/1 [==============================] - 0s 4ms/step - loss: 1.6883 - mae: 1.6883\n",
      "Epoch 83/100\n",
      "1/1 [==============================] - 0s 3ms/step - loss: 4.1781 - mae: 4.1781\n",
      "Epoch 84/100\n",
      "1/1 [==============================] - 0s 5ms/step - loss: 2.9426 - mae: 2.9426\n",
      "Epoch 85/100\n",
      "1/1 [==============================] - 0s 3ms/step - loss: 4.4719 - mae: 4.4719\n",
      "Epoch 86/100\n",
      "1/1 [==============================] - 0s 4ms/step - loss: 2.2020 - mae: 2.2020\n",
      "Epoch 87/100\n",
      "1/1 [==============================] - 0s 3ms/step - loss: 4.7152 - mae: 4.7152\n",
      "Epoch 88/100\n",
      "1/1 [==============================] - 0s 3ms/step - loss: 1.6387 - mae: 1.6387\n",
      "Epoch 89/100\n",
      "1/1 [==============================] - 0s 3ms/step - loss: 3.6502 - mae: 3.6502\n",
      "Epoch 90/100\n",
      "1/1 [==============================] - 0s 4ms/step - loss: 2.1184 - mae: 2.1184\n",
      "Epoch 91/100\n",
      "1/1 [==============================] - 0s 4ms/step - loss: 4.6106 - mae: 4.6106\n",
      "Epoch 92/100\n",
      "1/1 [==============================] - 0s 3ms/step - loss: 1.5222 - mae: 1.5222\n",
      "Epoch 93/100\n",
      "1/1 [==============================] - 0s 2ms/step - loss: 4.8110 - mae: 4.8110\n",
      "Epoch 94/100\n",
      "1/1 [==============================] - 0s 4ms/step - loss: 1.0961 - mae: 1.0961\n",
      "Epoch 95/100\n",
      "1/1 [==============================] - 0s 3ms/step - loss: 3.7436 - mae: 3.7436\n",
      "Epoch 96/100\n",
      "1/1 [==============================] - 0s 4ms/step - loss: 2.2390 - mae: 2.2390\n",
      "Epoch 97/100\n",
      "1/1 [==============================] - 0s 3ms/step - loss: 4.6356 - mae: 4.6356\n",
      "Epoch 98/100\n",
      "1/1 [==============================] - 0s 5ms/step - loss: 0.9399 - mae: 0.9399\n",
      "Epoch 99/100\n",
      "1/1 [==============================] - 0s 3ms/step - loss: 1.7806 - mae: 1.7806\n",
      "Epoch 100/100\n",
      "1/1 [==============================] - 0s 5ms/step - loss: 4.1882 - mae: 4.1882\n"
     ]
    },
    {
     "data": {
      "text/plain": [
       "<keras.callbacks.History at 0x12090953790>"
      ]
     },
     "execution_count": 31,
     "metadata": {},
     "output_type": "execute_result"
    }
   ],
   "source": [
    "# Set random seed\n",
    "\n",
    "#! over fitting\n",
    "tf.random.set_seed(42)\n",
    "\n",
    "# Create a model (same as above)\n",
    "model = tf.keras.Sequential([\n",
    "  tf.keras.layers.Dense(100),\n",
    "  tf.keras.layers.Dense(100),\n",
    "  tf.keras.layers.Dense(100),\n",
    "  tf.keras.layers.Dense(1),\n",
    "])\n",
    "\n",
    "# Compile model (same as above)\n",
    "model.compile(loss=tf.keras.losses.mae,\n",
    "              optimizer=tf.keras.optimizers.SGD(),\n",
    "              metrics=[\"mae\"])\n",
    "# Fit model (this time we'll train for longer)\n",
    "model.fit(tf.expand_dims(X, axis=-1), y, epochs=100) # train for 100 epochs not 10"
   ]
  },
  {
   "cell_type": "code",
   "execution_count": 32,
   "metadata": {},
   "outputs": [
    {
     "name": "stdout",
     "output_type": "stream",
     "text": [
      "WARNING:tensorflow:6 out of the last 6 calls to <function Model.make_predict_function.<locals>.predict_function at 0x000001208D8523A0> triggered tf.function retracing. Tracing is expensive and the excessive number of tracings could be due to (1) creating @tf.function repeatedly in a loop, (2) passing tensors with different shapes, (3) passing Python objects instead of tensors. For (1), please define your @tf.function outside of the loop. For (2), @tf.function has experimental_relax_shapes=True option that relaxes argument shapes that can avoid unnecessary retracing. For (3), please refer to https://www.tensorflow.org/guide/function#controlling_retracing and https://www.tensorflow.org/api_docs/python/tf/function for  more details.\n"
     ]
    },
    {
     "data": {
      "text/plain": [
       "array([[17.754154]], dtype=float32)"
      ]
     },
     "execution_count": 32,
     "metadata": {},
     "output_type": "execute_result"
    }
   ],
   "source": [
    "model.predict([17.0])       #! over fitting"
   ]
  },
  {
   "attachments": {},
   "cell_type": "markdown",
   "metadata": {},
   "source": [
    "# learing rate is one of the most import parameter to impore accuracy of a model\n",
    "# eg ADAM(lr=0.00001)"
   ]
  },
  {
   "attachments": {},
   "cell_type": "markdown",
   "metadata": {},
   "source": [
    ">48"
   ]
  },
  {
   "cell_type": "markdown",
   "metadata": {},
   "source": [
    "## Evaluating a model \n",
    "\n",
    "A typical workflow you'll go through when building neural networks is:\n",
    "\n",
    "```\n",
    "Build a model -> evaluate it -> build (tweak) a model -> evaulate it -> build (tweak) a model -> evaluate it...\n",
    "```\n",
    "\n",
    "The tweaking comes from maybe not building a model from scratch but adjusting an existing one.\n",
    "\n",
    "### Visualize, visualize, visualize\n",
    "\n",
    "When it comes to evaluation, you'll want to remember the words: \"visualize, visualize, visualize.\" \n",
    "\n",
    "This is because you're probably better looking at something (doing) than you are thinking about something.\n",
    "\n",
    "It's a good idea to visualize:\n",
    "* **The data** - what data are you working with? What does it look like?\n",
    "* **The model itself** - what does the architecture look like? What are the different shapes?\n",
    "* **The training of a model** - how does a model perform while it learns?\n",
    "* **The predictions of a model** - how do the predictions of a model line up against the ground truth (the original labels)?\n",
    "\n",
    "Let's start by visualizing the model.\n",
    "\n",
    "But first, we'll create a little bit of a bigger dataset and a new model we can use (it'll be the same as before, but the more practice the better).\n"
   ]
  },
  {
   "cell_type": "code",
   "execution_count": 33,
   "metadata": {},
   "outputs": [
    {
     "data": {
      "text/plain": [
       "<tf.Tensor: shape=(50,), dtype=int32, numpy=\n",
       "array([-100,  -96,  -92,  -88,  -84,  -80,  -76,  -72,  -68,  -64,  -60,\n",
       "        -56,  -52,  -48,  -44,  -40,  -36,  -32,  -28,  -24,  -20,  -16,\n",
       "        -12,   -8,   -4,    0,    4,    8,   12,   16,   20,   24,   28,\n",
       "         32,   36,   40,   44,   48,   52,   56,   60,   64,   68,   72,\n",
       "         76,   80,   84,   88,   92,   96])>"
      ]
     },
     "execution_count": 33,
     "metadata": {},
     "output_type": "execute_result"
    }
   ],
   "source": [
    "X= tf.range(-100,100,4)\n",
    "X"
   ]
  },
  {
   "cell_type": "code",
   "execution_count": 34,
   "metadata": {},
   "outputs": [],
   "source": [
    "y = X+10"
   ]
  },
  {
   "cell_type": "code",
   "execution_count": 35,
   "metadata": {},
   "outputs": [
    {
     "data": {
      "text/plain": [
       "<tf.Tensor: shape=(50,), dtype=int32, numpy=\n",
       "array([-90, -86, -82, -78, -74, -70, -66, -62, -58, -54, -50, -46, -42,\n",
       "       -38, -34, -30, -26, -22, -18, -14, -10,  -6,  -2,   2,   6,  10,\n",
       "        14,  18,  22,  26,  30,  34,  38,  42,  46,  50,  54,  58,  62,\n",
       "        66,  70,  74,  78,  82,  86,  90,  94,  98, 102, 106])>"
      ]
     },
     "execution_count": 35,
     "metadata": {},
     "output_type": "execute_result"
    }
   ],
   "source": [
    "y"
   ]
  },
  {
   "cell_type": "markdown",
   "metadata": {},
   "source": [
    "## Visualizing the data\n",
    "\n",
    "Now we've got our training and test data, it's a good idea to visualize it.\n",
    "\n",
    "Let's plot it with some nice colours to differentiate what's what."
   ]
  },
  {
   "cell_type": "code",
   "execution_count": 36,
   "metadata": {},
   "outputs": [
    {
     "data": {
      "text/plain": [
       "<matplotlib.collections.PathCollection at 0x12091c05970>"
      ]
     },
     "execution_count": 36,
     "metadata": {},
     "output_type": "execute_result"
    },
    {
     "data": {
      "image/png": "[encoded data removed]",
      "text/plain": [
       "<Figure size 640x480 with 1 Axes>"
      ]
     },
     "metadata": {},
     "output_type": "display_data"
    }
   ],
   "source": [
    "plt.scatter(X,y)"
   ]
  },
  {
   "attachments": {},
   "cell_type": "markdown",
   "metadata": {},
   "source": [
    ">49"
   ]
  },
  {
   "cell_type": "markdown",
   "metadata": {},
   "source": [
    "## Split data into training/test set\n",
    "\n",
    "One of the other most common and important steps in a machine learning project is creating a training and test set (and when required, a validation set).\n",
    "\n",
    "Each set serves a specific purpose:\n",
    "* **Training set** - the model learns from this data, which is typically 70-80% of the total data available (like the course materials you study during the semester).\n",
    "* **Validation set** - the model gets tuned on this data, which is typically 10-15% of the total data available (like the practice exam you take before the final exam).\n",
    "* **Test set** - the model gets evaluated on this data to test what it has learned, it's typically 10-15% of the total data available (like the final exam you take at the end of the semester).\n",
    "\n",
    "For now, we'll just use a training and test set, this means we'll have a dataset for our model to learn on as well as be evaluated on.\n",
    "\n",
    "We can create them by splitting our `X` and `y` arrays.\n",
    "\n",
    "> 🔑 **Note:** When dealing with real-world data, this step is typically done right at the start of a project (the test set should always be kept separate from all other data). We want our model to learn on training data and then evaluate it on test data to get an indication of how well it **generalizes** to unseen examples."
   ]
  },
  {
   "cell_type": "code",
   "execution_count": 37,
   "metadata": {},
   "outputs": [
    {
     "data": {
      "text/plain": [
       "(50, 50)"
      ]
     },
     "execution_count": 37,
     "metadata": {},
     "output_type": "execute_result"
    }
   ],
   "source": [
    "# Check how many samples we have\n",
    "len(X),len(y)"
   ]
  },
  {
   "cell_type": "code",
   "execution_count": 38,
   "metadata": {},
   "outputs": [
    {
     "data": {
      "text/plain": [
       "(40, 10)"
      ]
     },
     "execution_count": 38,
     "metadata": {},
     "output_type": "execute_result"
    }
   ],
   "source": [
    "# Split data into train and test sets\n",
    "X_train = X[:40] # first 40 examples (80% of data)\n",
    "y_train = y[:40]\n",
    "\n",
    "X_test = X[40:] # last 10 examples (20% of data)\n",
    "y_test = y[40:]\n",
    "\n",
    "len(X_train), len(X_test)"
   ]
  },
  {
   "cell_type": "markdown",
   "metadata": {},
   "source": [
    "## Visualizing the data\n",
    "\n",
    "Now we've got our training and test data, it's a good idea to visualize it.\n",
    "\n",
    "Let's plot it with some nice colours to differentiate what's what."
   ]
  },
  {
   "cell_type": "code",
   "execution_count": 39,
   "metadata": {},
   "outputs": [
    {
     "name": "stdout",
     "output_type": "stream",
     "text": [
      "Legend\n"
     ]
    },
    {
     "data": {
      "image/png": "[encoded data removed]",
      "text/plain": [
       "<Figure size 1000x700 with 1 Axes>"
      ]
     },
     "metadata": {},
     "output_type": "display_data"
    }
   ],
   "source": [
    "plt.figure(figsize=(10, 7))\n",
    "# Plot training data in blue\n",
    "plt.scatter(X_train, y_train, c='b', label='Training data')\n",
    "# Plot test data in green\n",
    "plt.scatter(X_test, y_test, c='g', label='Testing data')\n",
    "# Show the legend\n",
    "print(plt.legend());"
   ]
  },
  {
   "attachments": {},
   "cell_type": "markdown",
   "metadata": {},
   "source": [
    ">50"
   ]
  },
  {
   "cell_type": "markdown",
   "metadata": {},
   "source": [
    "Beautiful! Any time you can visualize your data, your model, your anything, it's a good idea. \n",
    "\n",
    "With this graph in mind, what we'll be trying to do is build a model which learns the pattern in the blue dots (`X_train`) to draw the green dots (`X_test`).\n",
    "\n",
    "Time to build a model. We'll make the exact same one from before (the one we trained for longer)."
   ]
  },
  {
   "cell_type": "code",
   "execution_count": 40,
   "metadata": {},
   "outputs": [],
   "source": [
    "# Set random seed\n",
    "tf.random.set_seed(42)\n",
    "\n",
    "# Create a model (same as above)\n",
    "model = tf.keras.Sequential([\n",
    "  tf.keras.layers.Dense(1)\n",
    "])\n",
    "\n",
    "# Compile model (same as above)\n",
    "model.compile(loss=tf.keras.losses.mae,\n",
    "              optimizer=tf.keras.optimizers.SGD(),\n",
    "              metrics=[\"mae\"])\n",
    "\n",
    "# Fit model (same as above)\n",
    "#model.fit(X_train, y_train, epochs=100) # commented out on purpose (not fitting it just yet)"
   ]
  },
  {
   "attachments": {},
   "cell_type": "markdown",
   "metadata": {},
   "source": [
    "## Visualizing the model\n",
    "\n",
    "After you've built a model, you might want to take a look at it (especially if you haven't built many before).\n",
    "\n",
    "You can take a look at the layers and shapes of your model by calling [`summary()`](https://www.tensorflow.org/api_docs/python/tf/keras/Model#summary) on it.\n",
    "\n",
    "> 🔑 **Note:** Visualizing a model is particularly helpful when you run into input and output shape mismatches."
   ]
  },
  {
   "cell_type": "code",
   "execution_count": 41,
   "metadata": {},
   "outputs": [],
   "source": [
    "# Doesn't work (model not fit/built)\n",
    "#! model.summary()"
   ]
  },
  {
   "attachments": {},
   "cell_type": "markdown",
   "metadata": {},
   "source": [
    "Ahh, the cell above errors because we haven't fit our built our model.\n",
    "\n",
    "We also haven't told it what input shape it should be expecting.\n",
    "\n",
    "Remember above, how we discussed the input shape was just one number?\n",
    "\n",
    "We can let our model know the input shape of our data using the `input_shape` parameter to the first layer (usually if `input_shape` isn't defined, Keras tries to figure it out automatically)."
   ]
  },
  {
   "cell_type": "code",
   "execution_count": 42,
   "metadata": {},
   "outputs": [],
   "source": [
    "# Set random seed\n",
    "tf.random.set_seed(42)\n",
    "\n",
    "# Create a model (same as above)\n",
    "model = tf.keras.Sequential([\n",
    "  tf.keras.layers.Dense(1, input_shape=[1]) # define the input_shape to our model\n",
    "])\n",
    "\n",
    "# Compile model (same as above)\n",
    "model.compile(loss=tf.keras.losses.mae,\n",
    "              optimizer=tf.keras.optimizers.SGD(),\n",
    "              metrics=[\"mae\"])"
   ]
  },
  {
   "cell_type": "code",
   "execution_count": 43,
   "metadata": {},
   "outputs": [
    {
     "name": "stdout",
     "output_type": "stream",
     "text": [
      "Model: \"sequential_7\"\n",
      "_________________________________________________________________\n",
      " Layer (type)                Output Shape              Param #   \n",
      "=================================================================\n",
      " dense_14 (Dense)            (None, 1)                 2         \n",
      "                                                                 \n",
      "=================================================================\n",
      "Total params: 2\n",
      "Trainable params: 2\n",
      "Non-trainable params: 0\n",
      "_________________________________________________________________\n"
     ]
    }
   ],
   "source": [
    "# This will work after specifying the input shape\n",
    "model.summary()"
   ]
  },
  {
   "attachments": {},
   "cell_type": "markdown",
   "metadata": {},
   "source": [
    "Calling `summary()` on our model shows us the layers it contains, the output shape and the number of parameters.\n",
    "* **Total params** - total number of parameters in the model.\n",
    "* **Trainable parameters** - these are the parameters (patterns) the model can update as it trains.\n",
    "* **Non-trainable parameters** - these parameters aren't updated during training (this is typical when you bring in the already learned patterns from other models during transfer learning).\n",
    "\n",
    "> 📖 **Resource:** For a more in-depth overview of the trainable parameters within a layer, check out [MIT's introduction to deep learning video](https://youtu.be/njKP3FqW3Sk).\n",
    "\n",
    "> 🛠 **Exercise:** Try playing around with the number of hidden units in the `Dense` layer (e.g. `Dense(2)`, `Dense(3)`). How does this change the Total/Trainable params? Investigate what's causing the change.\n",
    "\n",
    "For now, all you need to think about these parameters is that their learnable patterns in the data.\n",
    "\n",
    "Let's fit our model to the training data."
   ]
  },
  {
   "cell_type": "code",
   "execution_count": 44,
   "metadata": {},
   "outputs": [
    {
     "data": {
      "text/plain": [
       "<keras.callbacks.History at 0x12091c7cd60>"
      ]
     },
     "execution_count": 44,
     "metadata": {},
     "output_type": "execute_result"
    }
   ],
   "source": [
    "# Fit the model to the training data\n",
    "model.fit(X_train, y_train, epochs=100, verbose=0) # verbose controls how much gets output"
   ]
  },
  {
   "attachments": {},
   "cell_type": "markdown",
   "metadata": {},
   "source": [
    ">51"
   ]
  },
  {
   "cell_type": "code",
   "execution_count": 45,
   "metadata": {},
   "outputs": [
    {
     "name": "stdout",
     "output_type": "stream",
     "text": [
      "Model: \"sequential_7\"\n",
      "_________________________________________________________________\n",
      " Layer (type)                Output Shape              Param #   \n",
      "=================================================================\n",
      " dense_14 (Dense)            (None, 1)                 2         \n",
      "                                                                 \n",
      "=================================================================\n",
      "Total params: 2\n",
      "Trainable params: 2\n",
      "Non-trainable params: 0\n",
      "_________________________________________________________________\n"
     ]
    }
   ],
   "source": [
    "# Check the model summary\n",
    "model.summary()"
   ]
  },
  {
   "cell_type": "markdown",
   "metadata": {},
   "source": [
    "Alongside summary, you can also view a 2D plot of the model using [`plot_model()`](https://www.tensorflow.org/api_docs/python/tf/keras/utils/plot_model)."
   ]
  },
  {
   "cell_type": "code",
   "execution_count": 46,
   "metadata": {},
   "outputs": [
    {
     "ename": "ImportError",
     "evalue": "cannot import name 'plot_model' from 'keras.utils' (c:\\Users\\siddg\\.conda\\envs\\tf\\lib\\site-packages\\keras\\utils\\__init__.py)",
     "output_type": "error",
     "traceback": [
      "\u001b[1;31m---------------------------------------------------------------------------\u001b[0m",
      "\u001b[1;31mImportError\u001b[0m                               Traceback (most recent call last)",
      "Cell \u001b[1;32mIn[46], line 1\u001b[0m\n\u001b[1;32m----> 1\u001b[0m \u001b[39mfrom\u001b[39;00m \u001b[39mkeras\u001b[39;00m\u001b[39m.\u001b[39;00m\u001b[39mutils\u001b[39;00m \u001b[39mimport\u001b[39;00m plot_model\n\u001b[0;32m      2\u001b[0m plot_model(model, show_shapes\u001b[39m=\u001b[39m\u001b[39mTrue\u001b[39;00m)\n",
      "\u001b[1;31mImportError\u001b[0m: cannot import name 'plot_model' from 'keras.utils' (c:\\Users\\siddg\\.conda\\envs\\tf\\lib\\site-packages\\keras\\utils\\__init__.py)"
     ]
    }
   ],
   "source": [
    "# from keras.utils import plot_model\n",
    "# plot_model(model, show_shapes=True)"
   ]
  },
  {
   "attachments": {},
   "cell_type": "markdown",
   "metadata": {},
   "source": [
    ">52"
   ]
  },
  {
   "cell_type": "markdown",
   "metadata": {},
   "source": [
    "## Visualizing the predictions\n",
    "\n",
    "Now we've got a trained model, let's visualize some predictions.\n",
    "\n",
    "To visualize predictions, it's always a good idea to plot them against the ground truth labels.\n",
    "\n",
    "Often you'll see this in the form of `y_test` vs. `y_pred` (ground truth vs. predictions).\n",
    "\n",
    "First, we'll make some predictions on the test data (`X_test`), remember the model has never seen the test data."
   ]
  },
  {
   "cell_type": "code",
   "execution_count": 47,
   "metadata": {},
   "outputs": [],
   "source": [
    "# Make predictions\n",
    "y_preds = model.predict(X_test)"
   ]
  },
  {
   "cell_type": "code",
   "execution_count": 48,
   "metadata": {},
   "outputs": [
    {
     "data": {
      "text/plain": [
       "array([[53.57109 ],\n",
       "       [57.05633 ],\n",
       "       [60.541573],\n",
       "       [64.02681 ],\n",
       "       [67.512054],\n",
       "       [70.99729 ],\n",
       "       [74.48254 ],\n",
       "       [77.96777 ],\n",
       "       [81.45301 ],\n",
       "       [84.938255]], dtype=float32)"
      ]
     },
     "execution_count": 48,
     "metadata": {},
     "output_type": "execute_result"
    }
   ],
   "source": [
    "# View the predictions\n",
    "y_preds"
   ]
  },
  {
   "cell_type": "markdown",
   "metadata": {},
   "source": [
    "Okay, we get a list of numbers but how do these compare to the ground truth labels?\n",
    "\n",
    "Let's build a plotting function to find out.\n",
    "\n",
    "> 🔑 **Note:** If you think you're going to be visualizing something a lot, it's a good idea to functionize it so you can use it later."
   ]
  },
  {
   "cell_type": "code",
   "execution_count": 49,
   "metadata": {},
   "outputs": [],
   "source": [
    "def plot_predictions(train_data=X_train, \n",
    "                     train_labels=y_train, \n",
    "                     test_data=X_test, \n",
    "                     test_labels=y_test, \n",
    "                     predictions=y_preds):\n",
    "  \"\"\"\n",
    "  Plots training data, test data and compares predictions.\n",
    "  \"\"\"\n",
    "  plt.figure(figsize=(10, 7))\n",
    "  # Plot training data in blue\n",
    "  plt.scatter(train_data, train_labels, c=\"b\", label=\"Training data\")\n",
    "  # Plot test data in green\n",
    "  plt.scatter(test_data, test_labels, c=\"g\", label=\"Testing data\")\n",
    "  # Plot the predictions in red (predictions were made on the test data)\n",
    "  plt.scatter(test_data, predictions, c=\"r\", label=\"Predictions\")\n",
    "  # Show the legend\n",
    "  plt.legend();"
   ]
  },
  {
   "cell_type": "code",
   "execution_count": 50,
   "metadata": {},
   "outputs": [
    {
     "data": {
      "image/png": "[encoded data removed]",
      "text/plain": [
       "<Figure size 1000x700 with 1 Axes>"
      ]
     },
     "metadata": {},
     "output_type": "display_data"
    }
   ],
   "source": [
    "plot_predictions(train_data=X_train,\n",
    "                 train_labels=y_train,\n",
    "                 test_data=X_test,\n",
    "                 test_labels=y_test,\n",
    "                 predictions=y_preds)"
   ]
  },
  {
   "cell_type": "code",
   "execution_count": 51,
   "metadata": {},
   "outputs": [],
   "source": [
    "# Set random seed\n",
    "tf.random.set_seed(42)\n",
    "\n",
    "# Create a model (same as above)\n",
    "model = tf.keras.Sequential([\n",
    "  tf.keras.layers.Dense(1, input_shape=[1]), # define the input_shape to our model\n",
    "\n",
    "])\n",
    "\n",
    "# Compile model (same as above)\n",
    "model.compile(loss=tf.keras.losses.mae,\n",
    "              optimizer=tf.keras.optimizers.SGD(),\n",
    "              metrics=[\"mae\"])"
   ]
  },
  {
   "cell_type": "code",
   "execution_count": 52,
   "metadata": {},
   "outputs": [
    {
     "data": {
      "text/plain": [
       "<keras.callbacks.History at 0x120923b3040>"
      ]
     },
     "execution_count": 52,
     "metadata": {},
     "output_type": "execute_result"
    }
   ],
   "source": [
    "# Fit the model to the training data\n",
    "model.fit(X_train, y_train, epochs=100, verbose=0) # verbose controls how much gets output"
   ]
  },
  {
   "cell_type": "code",
   "execution_count": 53,
   "metadata": {},
   "outputs": [],
   "source": [
    "y_preds = model.predict(X_test)"
   ]
  },
  {
   "cell_type": "code",
   "execution_count": 54,
   "metadata": {},
   "outputs": [
    {
     "data": {
      "image/png": "[encoded data removed]",
      "text/plain": [
       "<Figure size 1000x700 with 1 Axes>"
      ]
     },
     "metadata": {},
     "output_type": "display_data"
    }
   ],
   "source": [
    "plot_predictions(train_data=X_train, \n",
    "                     train_labels=y_train, \n",
    "                     test_data=X_test, \n",
    "                     test_labels=y_test, \n",
    "                     predictions=y_preds)"
   ]
  },
  {
   "attachments": {},
   "cell_type": "markdown",
   "metadata": {},
   "source": [
    ">53"
   ]
  },
  {
   "cell_type": "markdown",
   "metadata": {},
   "source": [
    "## Evaluating predictions\n",
    "\n",
    "Alongisde visualizations, evaulation metrics are your alternative best option for evaluating your model.\n",
    "\n",
    "Depending on the problem you're working on, different models have different evaluation metrics. \n",
    "\n",
    "Two of the main metrics used for regression problems are:\n",
    "* **Mean absolute error (MAE)** - the mean difference between each of the predictions.\n",
    "* **Mean squared error (MSE)** - the squared mean difference between of the predictions (use if larger errors are more detrimental than smaller errors).\n",
    "\n",
    "The lower each of these values, the better.\n",
    "\n",
    "You can also use [`model.evaluate()`](https://www.tensorflow.org/api_docs/python/tf/keras/Model#evaluate) which will return the loss of the model as well as any metrics setup during the compile step."
   ]
  },
  {
   "cell_type": "code",
   "execution_count": 55,
   "metadata": {},
   "outputs": [
    {
     "name": "stdout",
     "output_type": "stream",
     "text": [
      "1/1 [==============================] - 0s 167ms/step - loss: 18.7453 - mae: 18.7453\n"
     ]
    },
    {
     "data": {
      "text/plain": [
       "[18.74532699584961, 18.74532699584961]"
      ]
     },
     "execution_count": 55,
     "metadata": {},
     "output_type": "execute_result"
    }
   ],
   "source": [
    "model.evaluate(X_test,y_test)\n",
    "#Returns the loss value & metrics values for the model in test mode"
   ]
  },
  {
   "attachments": {},
   "cell_type": "markdown",
   "metadata": {},
   "source": [
    ">54"
   ]
  },
  {
   "cell_type": "code",
   "execution_count": 56,
   "metadata": {},
   "outputs": [
    {
     "data": {
      "text/plain": [
       "<tf.Tensor: shape=(10,), dtype=float32, numpy=\n",
       "array([34.42891 , 30.943668, 27.45843 , 23.97319 , 20.487946, 17.202168,\n",
       "       14.510478, 12.419336, 11.018796, 10.212349], dtype=float32)>"
      ]
     },
     "execution_count": 56,
     "metadata": {},
     "output_type": "execute_result"
    }
   ],
   "source": [
    "# Calculate the mean absolute error\n",
    "mae = tf.metrics.mean_absolute_error(y_true=y_test, \n",
    "                                     y_pred=y_preds)\n",
    "mae"
   ]
  },
  {
   "cell_type": "code",
   "execution_count": 57,
   "metadata": {},
   "outputs": [
    {
     "data": {
      "text/plain": [
       "<tf.Tensor: shape=(10,), dtype=int32, numpy=array([ 70,  74,  78,  82,  86,  90,  94,  98, 102, 106])>"
      ]
     },
     "execution_count": 57,
     "metadata": {},
     "output_type": "execute_result"
    }
   ],
   "source": [
    "# Check the test label tensor values\n",
    "y_test"
   ]
  },
  {
   "cell_type": "code",
   "execution_count": 58,
   "metadata": {},
   "outputs": [
    {
     "data": {
      "text/plain": [
       "(TensorShape([10]), (10, 1))"
      ]
     },
     "execution_count": 58,
     "metadata": {},
     "output_type": "execute_result"
    }
   ],
   "source": [
    "# Check the tensor shapes\n",
    "y_test.shape, y_preds.shape"
   ]
  },
  {
   "cell_type": "markdown",
   "metadata": {},
   "source": [
    "Remember how we discussed dealing with different input and output shapes is one the most common issues you'll come across, this is one of those times.\n",
    "\n",
    "But not to worry.\n",
    "\n",
    "We can fix it using [`squeeze()`](https://www.tensorflow.org/api_docs/python/tf/squeeze), it'll remove the the `1` dimension from our `y_preds` tensor, making it the same shape as `y_test`.\n",
    "\n",
    "> 🔑 **Note:** If you're comparing two tensors, it's important to make sure they're the right shape(s) (you won't always have to manipulate the shapes, but always be on the look out, *many* errors are the result of mismatched tensors, especially mismatched input and output shapes)."
   ]
  },
  {
   "cell_type": "code",
   "execution_count": 59,
   "metadata": {},
   "outputs": [
    {
     "data": {
      "text/plain": [
       "(<tf.Tensor: shape=(50,), dtype=int32, numpy=\n",
       " array([-100,  -96,  -92,  -88,  -84,  -80,  -76,  -72,  -68,  -64,  -60,\n",
       "         -56,  -52,  -48,  -44,  -40,  -36,  -32,  -28,  -24,  -20,  -16,\n",
       "         -12,   -8,   -4,    0,    4,    8,   12,   16,   20,   24,   28,\n",
       "          32,   36,   40,   44,   48,   52,   56,   60,   64,   68,   72,\n",
       "          76,   80,   84,   88,   92,   96])>,\n",
       " <tf.Tensor: shape=(50,), dtype=int32, numpy=\n",
       " array([-90, -86, -82, -78, -74, -70, -66, -62, -58, -54, -50, -46, -42,\n",
       "        -38, -34, -30, -26, -22, -18, -14, -10,  -6,  -2,   2,   6,  10,\n",
       "         14,  18,  22,  26,  30,  34,  38,  42,  46,  50,  54,  58,  62,\n",
       "         66,  70,  74,  78,  82,  86,  90,  94,  98, 102, 106])>)"
      ]
     },
     "execution_count": 59,
     "metadata": {},
     "output_type": "execute_result"
    }
   ],
   "source": [
    "X,y"
   ]
  },
  {
   "cell_type": "code",
   "execution_count": 60,
   "metadata": {},
   "outputs": [
    {
     "data": {
      "text/plain": [
       "(10, 1)"
      ]
     },
     "execution_count": 60,
     "metadata": {},
     "output_type": "execute_result"
    }
   ],
   "source": [
    "# Shape before squeeze()\n",
    "y_preds.shape"
   ]
  },
  {
   "cell_type": "code",
   "execution_count": 61,
   "metadata": {},
   "outputs": [
    {
     "data": {
      "text/plain": [
       "(10,)"
      ]
     },
     "execution_count": 61,
     "metadata": {},
     "output_type": "execute_result"
    }
   ],
   "source": [
    "# Shape after squeeze()\n",
    "y_preds.squeeze().shape"
   ]
  },
  {
   "cell_type": "code",
   "execution_count": 62,
   "metadata": {},
   "outputs": [
    {
     "data": {
      "text/plain": [
       "(<tf.Tensor: shape=(10,), dtype=int32, numpy=array([ 70,  74,  78,  82,  86,  90,  94,  98, 102, 106])>,\n",
       " array([53.57109 , 57.05633 , 60.541573, 64.02681 , 67.512054, 70.99729 ,\n",
       "        74.48254 , 77.96777 , 81.45301 , 84.938255], dtype=float32))"
      ]
     },
     "execution_count": 62,
     "metadata": {},
     "output_type": "execute_result"
    }
   ],
   "source": [
    "# What do they look like?\n",
    "y_test, y_preds.squeeze()"
   ]
  },
  {
   "cell_type": "markdown",
   "metadata": {},
   "source": [
    "Okay, now we know how to make our `y_test` and `y_preds` tenors the same shape, let's use our evaluation metrics."
   ]
  },
  {
   "cell_type": "code",
   "execution_count": 63,
   "metadata": {},
   "outputs": [
    {
     "data": {
      "text/plain": [
       "<tf.Tensor: shape=(), dtype=float32, numpy=18.745327>"
      ]
     },
     "execution_count": 63,
     "metadata": {},
     "output_type": "execute_result"
    }
   ],
   "source": [
    "# Calcuate the MAE\n",
    "mae = tf.metrics.mean_absolute_error(y_true=y_test, \n",
    "                                     y_pred=y_preds.squeeze()) # use squeeze() to make same shape\n",
    "mae"
   ]
  },
  {
   "cell_type": "code",
   "execution_count": 64,
   "metadata": {},
   "outputs": [
    {
     "data": {
      "text/plain": [
       "<tf.Tensor: shape=(), dtype=float32, numpy=353.57336>"
      ]
     },
     "execution_count": 64,
     "metadata": {},
     "output_type": "execute_result"
    }
   ],
   "source": [
    "# Calculate the MSE\n",
    "mse = tf.metrics.mean_squared_error(y_true=y_test,\n",
    "                                    y_pred=y_preds.squeeze())\n",
    "mse"
   ]
  },
  {
   "attachments": {},
   "cell_type": "markdown",
   "metadata": {},
   "source": [
    ">55"
   ]
  },
  {
   "cell_type": "code",
   "execution_count": 65,
   "metadata": {},
   "outputs": [
    {
     "data": {
      "text/plain": [
       "<tf.Tensor: shape=(), dtype=int32, numpy=19>"
      ]
     },
     "execution_count": 65,
     "metadata": {},
     "output_type": "execute_result"
    }
   ],
   "source": [
    "# Returns the same as tf.metrics.mean_absolute_error()\n",
    "tf.reduce_mean(tf.abs(y_test-y_preds.squeeze()))"
   ]
  },
  {
   "cell_type": "markdown",
   "metadata": {},
   "source": [
    "Okay, now we know how to make our `y_test` and `y_preds` tenors the same shape, let's use our evaluation metrics."
   ]
  },
  {
   "cell_type": "code",
   "execution_count": 66,
   "metadata": {},
   "outputs": [],
   "source": [
    "# make some function to reuse MAE and MSE\n",
    "def mae(y_true,y_pred):\n",
    "    return tf.metrics.mean_absolute_error(y_true=y_true,\n",
    "                                          y_pred=y_pred)\n",
    "# make some function to reuse MAE and MSE\n",
    "def mse(y_true,y_pred):\n",
    "    return tf.metrics.mean_squared_error(y_true=y_true,\n",
    "                                          y_pred=y_pred)"
   ]
  },
  {
   "attachments": {},
   "cell_type": "markdown",
   "metadata": {},
   "source": [
    ">56"
   ]
  },
  {
   "cell_type": "markdown",
   "metadata": {},
   "source": [
    "## Running experiments to improve a model\n",
    "\n",
    "After seeing the evaluation metrics and the predictions your model makes, it's likely you'll want to improve it.\n",
    "\n",
    "Again, there are many different ways you can do this, but 3 of the main ones are:\n",
    "1. **Get more data** - get more examples for your model to train on (more opportunities to learn patterns).\n",
    "2. **Make your model larger (use a more complex model)** - this might come in the form of more layers or more hidden units in each layer.\n",
    "3. **Train for longer** - give your model more of a chance to find the patterns in the data.\n",
    "\n",
    "Since we created our dataset, we could easily make more data but this isn't always the case when you're working with real-world datasets.\n",
    "\n",
    "So let's take a look at how we can improve our model using 2 and 3.\n",
    "\n",
    "To do so, we'll build 3 models and compare their results:\n",
    "1. `model_1` - same as original model, 1 layer, trained for 100 epochs.\n",
    "2. `model_2` - 2 layers, trained for 100 epochs.\n",
    "3. `model_3` - 2 layers, trained for 500 epochs.\n",
    "\n",
    "**Build `model_1`**"
   ]
  },
  {
   "cell_type": "code",
   "execution_count": 67,
   "metadata": {},
   "outputs": [],
   "source": [
    "tf.random.set_seed(42)\n",
    "\n",
    "# Replicate original model\n",
    "model_1 = tf.keras.Sequential()\n",
    "model_1.add(tf.keras.layers.Dense(1))\n",
    "\n",
    "model_1.compile(loss=tf.keras.losses.mae,\n",
    "                optimizer=tf.keras.optimizers.SGD(),\n",
    "                metrics=['mae'])"
   ]
  },
  {
   "cell_type": "code",
   "execution_count": 68,
   "metadata": {},
   "outputs": [
    {
     "name": "stdout",
     "output_type": "stream",
     "text": [
      "Epoch 1/100\n",
      "2/2 [==============================] - 0s 2ms/step - loss: 15.9024 - mae: 15.9024\n",
      "Epoch 2/100\n",
      "2/2 [==============================] - 0s 3ms/step - loss: 11.2837 - mae: 11.2837\n",
      "Epoch 3/100\n",
      "2/2 [==============================] - 0s 3ms/step - loss: 11.1075 - mae: 11.1075\n",
      "Epoch 4/100\n",
      "2/2 [==============================] - 0s 3ms/step - loss: 9.2990 - mae: 9.2990\n",
      "Epoch 5/100\n",
      "2/2 [==============================] - 0s 2ms/step - loss: 10.1677 - mae: 10.1677\n",
      "Epoch 6/100\n",
      "2/2 [==============================] - 0s 2ms/step - loss: 9.4303 - mae: 9.4303\n",
      "Epoch 7/100\n",
      "2/2 [==============================] - 0s 3ms/step - loss: 8.5704 - mae: 8.5704\n",
      "Epoch 8/100\n",
      "2/2 [==============================] - 0s 3ms/step - loss: 9.0442 - mae: 9.0442\n",
      "Epoch 9/100\n",
      "2/2 [==============================] - 0s 2ms/step - loss: 18.7517 - mae: 18.7517\n",
      "Epoch 10/100\n",
      "2/2 [==============================] - 0s 3ms/step - loss: 10.1142 - mae: 10.1142\n",
      "Epoch 11/100\n",
      "2/2 [==============================] - 0s 2ms/step - loss: 8.3980 - mae: 8.3980\n",
      "Epoch 12/100\n",
      "2/2 [==============================] - 0s 3ms/step - loss: 10.6639 - mae: 10.6639\n",
      "Epoch 13/100\n",
      "2/2 [==============================] - 0s 3ms/step - loss: 9.7977 - mae: 9.7977\n",
      "Epoch 14/100\n",
      "2/2 [==============================] - 0s 3ms/step - loss: 16.0103 - mae: 16.0103\n",
      "Epoch 15/100\n",
      "2/2 [==============================] - 0s 3ms/step - loss: 11.4068 - mae: 11.4068\n",
      "Epoch 16/100\n",
      "2/2 [==============================] - 0s 2ms/step - loss: 8.5393 - mae: 8.5393\n",
      "Epoch 17/100\n",
      "2/2 [==============================] - 0s 3ms/step - loss: 13.6348 - mae: 13.6348\n",
      "Epoch 18/100\n",
      "2/2 [==============================] - 0s 3ms/step - loss: 11.4629 - mae: 11.4629\n",
      "Epoch 19/100\n",
      "2/2 [==============================] - 0s 2ms/step - loss: 17.9148 - mae: 17.9148\n",
      "Epoch 20/100\n",
      "2/2 [==============================] - 0s 3ms/step - loss: 15.0494 - mae: 15.0494\n",
      "Epoch 21/100\n",
      "2/2 [==============================] - 0s 3ms/step - loss: 11.0216 - mae: 11.0216\n",
      "Epoch 22/100\n",
      "2/2 [==============================] - 0s 4ms/step - loss: 8.1558 - mae: 8.1558\n",
      "Epoch 23/100\n",
      "2/2 [==============================] - 0s 2ms/step - loss: 9.5138 - mae: 9.5138\n",
      "Epoch 24/100\n",
      "2/2 [==============================] - 0s 3ms/step - loss: 7.6617 - mae: 7.6617\n",
      "Epoch 25/100\n",
      "2/2 [==============================] - 0s 3ms/step - loss: 13.1859 - mae: 13.1859\n",
      "Epoch 26/100\n",
      "2/2 [==============================] - 0s 3ms/step - loss: 16.4211 - mae: 16.4211\n",
      "Epoch 27/100\n",
      "2/2 [==============================] - 0s 5ms/step - loss: 13.1660 - mae: 13.1660\n",
      "Epoch 28/100\n",
      "2/2 [==============================] - 0s 3ms/step - loss: 14.2559 - mae: 14.2559\n",
      "Epoch 29/100\n",
      "2/2 [==============================] - 0s 4ms/step - loss: 10.0670 - mae: 10.0670\n",
      "Epoch 30/100\n",
      "2/2 [==============================] - 0s 4ms/step - loss: 16.3409 - mae: 16.3409\n",
      "Epoch 31/100\n",
      "2/2 [==============================] - 0s 3ms/step - loss: 23.6444 - mae: 23.6444\n",
      "Epoch 32/100\n",
      "2/2 [==============================] - 0s 3ms/step - loss: 7.6215 - mae: 7.6215\n",
      "Epoch 33/100\n",
      "2/2 [==============================] - 0s 3ms/step - loss: 9.3221 - mae: 9.3221\n",
      "Epoch 34/100\n",
      "2/2 [==============================] - 0s 3ms/step - loss: 13.7313 - mae: 13.7313\n",
      "Epoch 35/100\n",
      "2/2 [==============================] - 0s 3ms/step - loss: 11.1276 - mae: 11.1276\n",
      "Epoch 36/100\n",
      "2/2 [==============================] - 0s 3ms/step - loss: 13.3222 - mae: 13.3222\n",
      "Epoch 37/100\n",
      "2/2 [==============================] - 0s 3ms/step - loss: 9.4763 - mae: 9.4763\n",
      "Epoch 38/100\n",
      "2/2 [==============================] - 0s 3ms/step - loss: 10.1381 - mae: 10.1381\n",
      "Epoch 39/100\n",
      "2/2 [==============================] - 0s 3ms/step - loss: 10.1793 - mae: 10.1793\n",
      "Epoch 40/100\n",
      "2/2 [==============================] - 0s 2ms/step - loss: 10.9137 - mae: 10.9137\n",
      "Epoch 41/100\n",
      "2/2 [==============================] - 0s 3ms/step - loss: 7.9063 - mae: 7.9063\n",
      "Epoch 42/100\n",
      "2/2 [==============================] - 0s 3ms/step - loss: 10.0914 - mae: 10.0914\n",
      "Epoch 43/100\n",
      "2/2 [==============================] - 0s 3ms/step - loss: 8.7006 - mae: 8.7006\n",
      "Epoch 44/100\n",
      "2/2 [==============================] - 0s 3ms/step - loss: 12.2046 - mae: 12.2046\n",
      "Epoch 45/100\n",
      "2/2 [==============================] - 0s 1ms/step - loss: 13.7970 - mae: 13.7970\n",
      "Epoch 46/100\n",
      "2/2 [==============================] - 0s 3ms/step - loss: 8.4687 - mae: 8.4687\n",
      "Epoch 47/100\n",
      "2/2 [==============================] - 0s 2ms/step - loss: 9.1330 - mae: 9.1330\n",
      "Epoch 48/100\n",
      "2/2 [==============================] - 0s 3ms/step - loss: 10.6190 - mae: 10.6190\n",
      "Epoch 49/100\n",
      "2/2 [==============================] - 0s 1ms/step - loss: 7.7503 - mae: 7.7503\n",
      "Epoch 50/100\n",
      "2/2 [==============================] - 0s 4ms/step - loss: 9.5407 - mae: 9.5407\n",
      "Epoch 51/100\n",
      "2/2 [==============================] - 0s 3ms/step - loss: 9.1584 - mae: 9.1584\n",
      "Epoch 52/100\n",
      "2/2 [==============================] - 0s 3ms/step - loss: 16.3630 - mae: 16.3630\n",
      "Epoch 53/100\n",
      "2/2 [==============================] - 0s 2ms/step - loss: 14.1299 - mae: 14.1299\n",
      "Epoch 54/100\n",
      "2/2 [==============================] - 0s 3ms/step - loss: 21.1247 - mae: 21.1247\n",
      "Epoch 55/100\n",
      "2/2 [==============================] - 0s 3ms/step - loss: 16.3961 - mae: 16.3961\n",
      "Epoch 56/100\n",
      "2/2 [==============================] - 0s 3ms/step - loss: 9.9806 - mae: 9.9806\n",
      "Epoch 57/100\n",
      "2/2 [==============================] - 0s 3ms/step - loss: 9.9606 - mae: 9.9606\n",
      "Epoch 58/100\n",
      "2/2 [==============================] - 0s 2ms/step - loss: 9.2209 - mae: 9.2209\n",
      "Epoch 59/100\n",
      "2/2 [==============================] - 0s 3ms/step - loss: 8.4239 - mae: 8.4239\n",
      "Epoch 60/100\n",
      "2/2 [==============================] - 0s 2ms/step - loss: 9.4869 - mae: 9.4869\n",
      "Epoch 61/100\n",
      "2/2 [==============================] - 0s 2ms/step - loss: 11.4354 - mae: 11.4354\n",
      "Epoch 62/100\n",
      "2/2 [==============================] - 0s 3ms/step - loss: 11.6887 - mae: 11.6887\n",
      "Epoch 63/100\n",
      "2/2 [==============================] - 0s 2ms/step - loss: 7.0838 - mae: 7.0838\n",
      "Epoch 64/100\n",
      "2/2 [==============================] - 0s 3ms/step - loss: 16.9675 - mae: 16.9675\n",
      "Epoch 65/100\n",
      "2/2 [==============================] - 0s 2ms/step - loss: 12.4599 - mae: 12.4599\n",
      "Epoch 66/100\n",
      "2/2 [==============================] - 0s 3ms/step - loss: 13.0184 - mae: 13.0184\n",
      "Epoch 67/100\n",
      "2/2 [==============================] - 0s 3ms/step - loss: 8.0600 - mae: 8.0600\n",
      "Epoch 68/100\n",
      "2/2 [==============================] - 0s 2ms/step - loss: 10.1888 - mae: 10.1888\n",
      "Epoch 69/100\n",
      "2/2 [==============================] - 0s 2ms/step - loss: 12.3633 - mae: 12.3633\n",
      "Epoch 70/100\n",
      "2/2 [==============================] - 0s 3ms/step - loss: 9.0516 - mae: 9.0516\n",
      "Epoch 71/100\n",
      "2/2 [==============================] - 0s 2ms/step - loss: 10.0378 - mae: 10.0378\n",
      "Epoch 72/100\n",
      "2/2 [==============================] - 0s 3ms/step - loss: 10.0516 - mae: 10.0516\n",
      "Epoch 73/100\n",
      "2/2 [==============================] - 0s 3ms/step - loss: 12.6151 - mae: 12.6151\n",
      "Epoch 74/100\n",
      "2/2 [==============================] - 0s 2ms/step - loss: 10.3819 - mae: 10.3819\n",
      "Epoch 75/100\n",
      "2/2 [==============================] - 0s 2ms/step - loss: 9.7229 - mae: 9.7229\n",
      "Epoch 76/100\n",
      "2/2 [==============================] - 0s 3ms/step - loss: 11.2252 - mae: 11.2252\n",
      "Epoch 77/100\n",
      "2/2 [==============================] - 0s 2ms/step - loss: 8.3642 - mae: 8.3642\n",
      "Epoch 78/100\n",
      "2/2 [==============================] - 0s 3ms/step - loss: 9.1274 - mae: 9.1274\n",
      "Epoch 79/100\n",
      "2/2 [==============================] - 0s 2ms/step - loss: 19.5039 - mae: 19.5039\n",
      "Epoch 80/100\n",
      "2/2 [==============================] - 0s 2ms/step - loss: 14.8945 - mae: 14.8945\n",
      "Epoch 81/100\n",
      "2/2 [==============================] - 0s 2ms/step - loss: 9.0034 - mae: 9.0034\n",
      "Epoch 82/100\n",
      "2/2 [==============================] - 0s 3ms/step - loss: 13.0206 - mae: 13.0206\n",
      "Epoch 83/100\n",
      "2/2 [==============================] - 0s 2ms/step - loss: 7.9299 - mae: 7.9299\n",
      "Epoch 84/100\n",
      "2/2 [==============================] - 0s 2ms/step - loss: 7.6872 - mae: 7.6872\n",
      "Epoch 85/100\n",
      "2/2 [==============================] - 0s 2ms/step - loss: 10.0328 - mae: 10.0328\n",
      "Epoch 86/100\n",
      "2/2 [==============================] - 0s 2ms/step - loss: 9.2433 - mae: 9.2433\n",
      "Epoch 87/100\n",
      "2/2 [==============================] - 0s 3ms/step - loss: 12.0209 - mae: 12.0209\n",
      "Epoch 88/100\n",
      "2/2 [==============================] - 0s 2ms/step - loss: 10.6389 - mae: 10.6389\n",
      "Epoch 89/100\n",
      "2/2 [==============================] - 0s 3ms/step - loss: 7.2667 - mae: 7.2667\n",
      "Epoch 90/100\n",
      "2/2 [==============================] - 0s 2ms/step - loss: 12.7786 - mae: 12.7786\n",
      "Epoch 91/100\n",
      "2/2 [==============================] - 0s 4ms/step - loss: 7.3481 - mae: 7.3481\n",
      "Epoch 92/100\n",
      "2/2 [==============================] - 0s 3ms/step - loss: 7.7175 - mae: 7.7175\n",
      "Epoch 93/100\n",
      "2/2 [==============================] - 0s 3ms/step - loss: 7.1263 - mae: 7.1263\n",
      "Epoch 94/100\n",
      "2/2 [==============================] - 0s 2ms/step - loss: 12.6190 - mae: 12.6190\n",
      "Epoch 95/100\n",
      "2/2 [==============================] - 0s 3ms/step - loss: 10.0912 - mae: 10.0912\n",
      "Epoch 96/100\n",
      "2/2 [==============================] - 0s 3ms/step - loss: 9.3558 - mae: 9.3558\n",
      "Epoch 97/100\n",
      "2/2 [==============================] - 0s 3ms/step - loss: 12.6834 - mae: 12.6834\n",
      "Epoch 98/100\n",
      "2/2 [==============================] - 0s 2ms/step - loss: 8.6762 - mae: 8.6762\n",
      "Epoch 99/100\n",
      "2/2 [==============================] - 0s 2ms/step - loss: 9.4693 - mae: 9.4693\n",
      "Epoch 100/100\n",
      "2/2 [==============================] - 0s 3ms/step - loss: 8.7067 - mae: 8.7067\n"
     ]
    },
    {
     "data": {
      "text/plain": [
       "<keras.callbacks.History at 0x1208efc8790>"
      ]
     },
     "execution_count": 68,
     "metadata": {},
     "output_type": "execute_result"
    }
   ],
   "source": [
    "model_1.fit(tf.expand_dims(X_train, axis=-1), y_train, epochs=100)"
   ]
  },
  {
   "cell_type": "code",
   "execution_count": 69,
   "metadata": {},
   "outputs": [
    {
     "data": {
      "image/png": "[encoded data removed]",
      "text/plain": [
       "<Figure size 1000x700 with 1 Axes>"
      ]
     },
     "metadata": {},
     "output_type": "display_data"
    }
   ],
   "source": [
    "# Make and plot predictions for model_1\n",
    "y_preds_1 = model_1.predict(X_test)\n",
    "plot_predictions(predictions=y_preds_1)"
   ]
  },
  {
   "cell_type": "code",
   "execution_count": 70,
   "metadata": {},
   "outputs": [
    {
     "data": {
      "text/plain": [
       "(18.745327, 353.57336)"
      ]
     },
     "execution_count": 70,
     "metadata": {},
     "output_type": "execute_result"
    }
   ],
   "source": [
    "# Calculate model_1 metrics\n",
    "mae_1 = mae(y_test, y_preds_1.squeeze()).numpy()\n",
    "mse_1 = mse(y_test, y_preds_1.squeeze()).numpy()\n",
    "mae_1, mse_1"
   ]
  },
  {
   "attachments": {},
   "cell_type": "markdown",
   "metadata": {},
   "source": [
    ">57"
   ]
  },
  {
   "cell_type": "markdown",
   "metadata": {},
   "source": [
    "**Build `model_2`**\n",
    "\n",
    "This time we'll add an extra dense layer (so now our model will have 2 layers) whilst keeping everything else the same."
   ]
  },
  {
   "cell_type": "code",
   "execution_count": 71,
   "metadata": {},
   "outputs": [],
   "source": [
    "model_2=tf.keras.Sequential()\n",
    "\n",
    "model_2.add(tf.keras.layers.Dense(100))\n",
    "model_2.add(tf.keras.layers.Dense(1))\n",
    "\n",
    "model_2.compile(loss=tf.keras.losses.mae,\n",
    "                optimizer=tf.keras.optimizers.SGD(),\n",
    "                metrics=['mae'])"
   ]
  },
  {
   "cell_type": "code",
   "execution_count": 72,
   "metadata": {},
   "outputs": [
    {
     "name": "stdout",
     "output_type": "stream",
     "text": [
      "Epoch 1/100\n",
      "2/2 [==============================] - 0s 3ms/step - loss: 48.4329 - mae: 48.4329\n",
      "Epoch 2/100\n",
      "2/2 [==============================] - 0s 2ms/step - loss: 31.3826 - mae: 31.3826\n",
      "Epoch 3/100\n",
      "2/2 [==============================] - 0s 3ms/step - loss: 36.2157 - mae: 36.2157\n",
      "Epoch 4/100\n",
      "2/2 [==============================] - 0s 2ms/step - loss: 28.3086 - mae: 28.3086\n",
      "Epoch 5/100\n",
      "2/2 [==============================] - 0s 2ms/step - loss: 15.3864 - mae: 15.3864\n",
      "Epoch 6/100\n",
      "2/2 [==============================] - 0s 4ms/step - loss: 12.2199 - mae: 12.2199\n",
      "Epoch 7/100\n",
      "2/2 [==============================] - 0s 2ms/step - loss: 11.5217 - mae: 11.5217\n",
      "Epoch 8/100\n",
      "2/2 [==============================] - 0s 3ms/step - loss: 11.2331 - mae: 11.2331\n",
      "Epoch 9/100\n",
      "2/2 [==============================] - 0s 3ms/step - loss: 42.0800 - mae: 42.0800\n",
      "Epoch 10/100\n",
      "2/2 [==============================] - 0s 2ms/step - loss: 29.2675 - mae: 29.2675\n",
      "Epoch 11/100\n",
      "2/2 [==============================] - 0s 4ms/step - loss: 7.6858 - mae: 7.6858\n",
      "Epoch 12/100\n",
      "2/2 [==============================] - 0s 3ms/step - loss: 28.6175 - mae: 28.6175\n",
      "Epoch 13/100\n",
      "2/2 [==============================] - 0s 4ms/step - loss: 11.4798 - mae: 11.4798\n",
      "Epoch 14/100\n",
      "2/2 [==============================] - 0s 2ms/step - loss: 30.0701 - mae: 30.0701\n",
      "Epoch 15/100\n",
      "2/2 [==============================] - 0s 3ms/step - loss: 19.8766 - mae: 19.8766\n",
      "Epoch 16/100\n",
      "2/2 [==============================] - 0s 3ms/step - loss: 9.8824 - mae: 9.8824\n",
      "Epoch 17/100\n",
      "2/2 [==============================] - 0s 4ms/step - loss: 17.7578 - mae: 17.7578\n",
      "Epoch 18/100\n",
      "2/2 [==============================] - 0s 3ms/step - loss: 14.2335 - mae: 14.2335\n",
      "Epoch 19/100\n",
      "2/2 [==============================] - 0s 4ms/step - loss: 14.0768 - mae: 14.0768\n",
      "Epoch 20/100\n",
      "2/2 [==============================] - 0s 2ms/step - loss: 11.2609 - mae: 11.2609\n",
      "Epoch 21/100\n",
      "2/2 [==============================] - 0s 3ms/step - loss: 17.4079 - mae: 17.4079\n",
      "Epoch 22/100\n",
      "2/2 [==============================] - 0s 2ms/step - loss: 15.9320 - mae: 15.9320\n",
      "Epoch 23/100\n",
      "2/2 [==============================] - 0s 3ms/step - loss: 9.8475 - mae: 9.8475\n",
      "Epoch 24/100\n",
      "2/2 [==============================] - 0s 2ms/step - loss: 16.4471 - mae: 16.4471\n",
      "Epoch 25/100\n",
      "2/2 [==============================] - 0s 3ms/step - loss: 15.3786 - mae: 15.3786\n",
      "Epoch 26/100\n",
      "2/2 [==============================] - 0s 2ms/step - loss: 20.6014 - mae: 20.6014\n",
      "Epoch 27/100\n",
      "2/2 [==============================] - 0s 2ms/step - loss: 26.2924 - mae: 26.2924\n",
      "Epoch 28/100\n",
      "2/2 [==============================] - 0s 3ms/step - loss: 18.7467 - mae: 18.7467\n",
      "Epoch 29/100\n",
      "2/2 [==============================] - 0s 3ms/step - loss: 9.2507 - mae: 9.2507\n",
      "Epoch 30/100\n",
      "2/2 [==============================] - 0s 3ms/step - loss: 29.3830 - mae: 29.3830\n",
      "Epoch 31/100\n",
      "2/2 [==============================] - 0s 2ms/step - loss: 53.2515 - mae: 53.2515\n",
      "Epoch 32/100\n",
      "2/2 [==============================] - 0s 3ms/step - loss: 9.4664 - mae: 9.4664\n",
      "Epoch 33/100\n",
      "2/2 [==============================] - 0s 3ms/step - loss: 12.0405 - mae: 12.0405\n",
      "Epoch 34/100\n",
      "2/2 [==============================] - 0s 4ms/step - loss: 23.2453 - mae: 23.2453\n",
      "Epoch 35/100\n",
      "2/2 [==============================] - 0s 2ms/step - loss: 11.8478 - mae: 11.8478\n",
      "Epoch 36/100\n",
      "2/2 [==============================] - 0s 3ms/step - loss: 21.8293 - mae: 21.8293\n",
      "Epoch 37/100\n",
      "2/2 [==============================] - 0s 2ms/step - loss: 11.1256 - mae: 11.1256\n",
      "Epoch 38/100\n",
      "2/2 [==============================] - 0s 5ms/step - loss: 12.7162 - mae: 12.7162\n",
      "Epoch 39/100\n",
      "2/2 [==============================] - 0s 2ms/step - loss: 11.5918 - mae: 11.5918\n",
      "Epoch 40/100\n",
      "2/2 [==============================] - 0s 4ms/step - loss: 19.2197 - mae: 19.2197\n",
      "Epoch 41/100\n",
      "2/2 [==============================] - 0s 4ms/step - loss: 10.9543 - mae: 10.9543\n",
      "Epoch 42/100\n",
      "2/2 [==============================] - 0s 3ms/step - loss: 9.2866 - mae: 9.2866\n",
      "Epoch 43/100\n",
      "2/2 [==============================] - 0s 3ms/step - loss: 9.5921 - mae: 9.5921\n",
      "Epoch 44/100\n",
      "2/2 [==============================] - 0s 3ms/step - loss: 27.9106 - mae: 27.9106\n",
      "Epoch 45/100\n",
      "2/2 [==============================] - 0s 3ms/step - loss: 11.2681 - mae: 11.2681\n",
      "Epoch 46/100\n",
      "2/2 [==============================] - 0s 3ms/step - loss: 13.8594 - mae: 13.8594\n",
      "Epoch 47/100\n",
      "2/2 [==============================] - 0s 3ms/step - loss: 11.9248 - mae: 11.9248\n",
      "Epoch 48/100\n",
      "2/2 [==============================] - 0s 3ms/step - loss: 16.9602 - mae: 16.9602\n",
      "Epoch 49/100\n",
      "2/2 [==============================] - 0s 2ms/step - loss: 9.7767 - mae: 9.7767\n",
      "Epoch 50/100\n",
      "2/2 [==============================] - 0s 3ms/step - loss: 14.1668 - mae: 14.1668\n",
      "Epoch 51/100\n",
      "2/2 [==============================] - 0s 2ms/step - loss: 11.7390 - mae: 11.7390\n",
      "Epoch 52/100\n",
      "2/2 [==============================] - 0s 3ms/step - loss: 31.3661 - mae: 31.3661\n",
      "Epoch 53/100\n",
      "2/2 [==============================] - 0s 3ms/step - loss: 14.7180 - mae: 14.7180\n",
      "Epoch 54/100\n",
      "2/2 [==============================] - 0s 2ms/step - loss: 24.5992 - mae: 24.5992\n",
      "Epoch 55/100\n",
      "2/2 [==============================] - 0s 2ms/step - loss: 23.8819 - mae: 23.8819\n",
      "Epoch 56/100\n",
      "2/2 [==============================] - 0s 3ms/step - loss: 11.1205 - mae: 11.1205\n",
      "Epoch 57/100\n",
      "2/2 [==============================] - 0s 3ms/step - loss: 13.0567 - mae: 13.0567\n",
      "Epoch 58/100\n",
      "2/2 [==============================] - 0s 3ms/step - loss: 9.7800 - mae: 9.7800\n",
      "Epoch 59/100\n",
      "2/2 [==============================] - 0s 3ms/step - loss: 13.2316 - mae: 13.2316\n",
      "Epoch 60/100\n",
      "2/2 [==============================] - 0s 3ms/step - loss: 10.8314 - mae: 10.8314\n",
      "Epoch 61/100\n",
      "2/2 [==============================] - 0s 4ms/step - loss: 13.4090 - mae: 13.4090\n",
      "Epoch 62/100\n",
      "2/2 [==============================] - 0s 3ms/step - loss: 17.3656 - mae: 17.3656\n",
      "Epoch 63/100\n",
      "2/2 [==============================] - 0s 3ms/step - loss: 9.1368 - mae: 9.1368\n",
      "Epoch 64/100\n",
      "2/2 [==============================] - 0s 3ms/step - loss: 17.9854 - mae: 17.9854\n",
      "Epoch 65/100\n",
      "2/2 [==============================] - 0s 3ms/step - loss: 10.6230 - mae: 10.6230\n",
      "Epoch 66/100\n",
      "2/2 [==============================] - 0s 2ms/step - loss: 21.5092 - mae: 21.5092\n",
      "Epoch 67/100\n",
      "2/2 [==============================] - 0s 2ms/step - loss: 10.6357 - mae: 10.6357\n",
      "Epoch 68/100\n",
      "2/2 [==============================] - 0s 4ms/step - loss: 14.8852 - mae: 14.8852\n",
      "Epoch 69/100\n",
      "2/2 [==============================] - 0s 5ms/step - loss: 10.7829 - mae: 10.7829\n",
      "Epoch 70/100\n",
      "2/2 [==============================] - 0s 3ms/step - loss: 12.8857 - mae: 12.8857\n",
      "Epoch 71/100\n",
      "2/2 [==============================] - 0s 3ms/step - loss: 13.3057 - mae: 13.3057\n",
      "Epoch 72/100\n",
      "2/2 [==============================] - 0s 4ms/step - loss: 20.1720 - mae: 20.1720\n",
      "Epoch 73/100\n",
      "2/2 [==============================] - 0s 4ms/step - loss: 9.7394 - mae: 9.7394\n",
      "Epoch 74/100\n",
      "2/2 [==============================] - 0s 3ms/step - loss: 27.4855 - mae: 27.4855\n",
      "Epoch 75/100\n",
      "2/2 [==============================] - 0s 3ms/step - loss: 10.0305 - mae: 10.0305\n",
      "Epoch 76/100\n",
      "2/2 [==============================] - 0s 3ms/step - loss: 12.9516 - mae: 12.9516\n",
      "Epoch 77/100\n",
      "2/2 [==============================] - 0s 2ms/step - loss: 17.9637 - mae: 17.9637\n",
      "Epoch 78/100\n",
      "2/2 [==============================] - 0s 3ms/step - loss: 8.9648 - mae: 8.9648\n",
      "Epoch 79/100\n",
      "2/2 [==============================] - 0s 3ms/step - loss: 28.8171 - mae: 28.8171\n",
      "Epoch 80/100\n",
      "2/2 [==============================] - 0s 2ms/step - loss: 31.1710 - mae: 31.1710\n",
      "Epoch 81/100\n",
      "2/2 [==============================] - 0s 3ms/step - loss: 13.5861 - mae: 13.5861\n",
      "Epoch 82/100\n",
      "2/2 [==============================] - 0s 3ms/step - loss: 15.8610 - mae: 15.8610\n",
      "Epoch 83/100\n",
      "2/2 [==============================] - 0s 2ms/step - loss: 9.1379 - mae: 9.1379\n",
      "Epoch 84/100\n",
      "2/2 [==============================] - 0s 2ms/step - loss: 8.2037 - mae: 8.2037\n",
      "Epoch 85/100\n",
      "2/2 [==============================] - 0s 2ms/step - loss: 18.8729 - mae: 18.8729\n",
      "Epoch 86/100\n",
      "2/2 [==============================] - 0s 4ms/step - loss: 21.9828 - mae: 21.9828\n",
      "Epoch 87/100\n",
      "2/2 [==============================] - 0s 4ms/step - loss: 11.2153 - mae: 11.2153\n",
      "Epoch 88/100\n",
      "2/2 [==============================] - 0s 3ms/step - loss: 25.9418 - mae: 25.9418\n",
      "Epoch 89/100\n",
      "2/2 [==============================] - 0s 3ms/step - loss: 9.5223 - mae: 9.5223\n",
      "Epoch 90/100\n",
      "2/2 [==============================] - 0s 3ms/step - loss: 18.2501 - mae: 18.2501\n",
      "Epoch 91/100\n",
      "2/2 [==============================] - 0s 3ms/step - loss: 10.3258 - mae: 10.3258\n",
      "Epoch 92/100\n",
      "2/2 [==============================] - 0s 2ms/step - loss: 17.5002 - mae: 17.5002\n",
      "Epoch 93/100\n",
      "2/2 [==============================] - 0s 3ms/step - loss: 6.8259 - mae: 6.8259\n",
      "Epoch 94/100\n",
      "2/2 [==============================] - 0s 3ms/step - loss: 17.6564 - mae: 17.6564\n",
      "Epoch 95/100\n",
      "2/2 [==============================] - 0s 3ms/step - loss: 17.3717 - mae: 17.3717\n",
      "Epoch 96/100\n",
      "2/2 [==============================] - 0s 2ms/step - loss: 11.5391 - mae: 11.5391\n",
      "Epoch 97/100\n",
      "2/2 [==============================] - 0s 2ms/step - loss: 18.3117 - mae: 18.3117\n",
      "Epoch 98/100\n",
      "2/2 [==============================] - 0s 3ms/step - loss: 9.7555 - mae: 9.7555\n",
      "Epoch 99/100\n",
      "2/2 [==============================] - 0s 2ms/step - loss: 16.9429 - mae: 16.9429\n",
      "Epoch 100/100\n",
      "2/2 [==============================] - 0s 2ms/step - loss: 17.8149 - mae: 17.8149\n"
     ]
    },
    {
     "data": {
      "text/plain": [
       "<keras.callbacks.History at 0x120930012b0>"
      ]
     },
     "execution_count": 72,
     "metadata": {},
     "output_type": "execute_result"
    }
   ],
   "source": [
    "model_2.fit(tf.expand_dims(X_train, axis=-1), y_train, epochs=100) # set verbose to 0 for less output"
   ]
  },
  {
   "cell_type": "code",
   "execution_count": 73,
   "metadata": {},
   "outputs": [
    {
     "data": {
      "image/png": "[encoded data removed]",
      "text/plain": [
       "<Figure size 1000x700 with 1 Axes>"
      ]
     },
     "metadata": {},
     "output_type": "display_data"
    }
   ],
   "source": [
    "# Make and plot predictions for model_2\n",
    "y_preds_2 = model_2.predict(X_test)\n",
    "plot_predictions(predictions=y_preds_2)"
   ]
  },
  {
   "cell_type": "code",
   "execution_count": 74,
   "metadata": {},
   "outputs": [
    {
     "data": {
      "text/plain": [
       "(43.088703, 1882.5061)"
      ]
     },
     "execution_count": 74,
     "metadata": {},
     "output_type": "execute_result"
    }
   ],
   "source": [
    "# Calculate model_2 metrics\n",
    "mae_2 = mae(y_test, y_preds_2.squeeze()).numpy()\n",
    "mse_2 = mse(y_test, y_preds_2.squeeze()).numpy()\n",
    "mae_2, mse_2"
   ]
  },
  {
   "cell_type": "markdown",
   "metadata": {},
   "source": [
    "**Build `model_3`**\n",
    "\n",
    "For our 3rd model, we'll keep everything the same as `model_2` except this time we'll train for longer (500 epochs instead of 100).\n",
    "\n",
    "This will give our model more of a chance to learn the patterns in the data."
   ]
  },
  {
   "cell_type": "code",
   "execution_count": 75,
   "metadata": {},
   "outputs": [
    {
     "name": "stdout",
     "output_type": "stream",
     "text": [
      "Epoch 1/500\n",
      "2/2 [==============================] - 0s 2ms/step - loss: 22.6625 - mae: 22.6625\n",
      "Epoch 2/500\n",
      "2/2 [==============================] - 0s 3ms/step - loss: 16.9439 - mae: 16.9439\n",
      "Epoch 3/500\n",
      "2/2 [==============================] - 0s 2ms/step - loss: 13.8059 - mae: 13.8059\n",
      "Epoch 4/500\n",
      "2/2 [==============================] - 0s 2ms/step - loss: 17.4504 - mae: 17.4504\n",
      "Epoch 5/500\n",
      "2/2 [==============================] - 0s 2ms/step - loss: 12.0637 - mae: 12.0637\n",
      "Epoch 6/500\n",
      "2/2 [==============================] - 0s 2ms/step - loss: 9.8335 - mae: 9.8335\n",
      "Epoch 7/500\n",
      "2/2 [==============================] - 0s 1000us/step - loss: 10.7023 - mae: 10.7023\n",
      "Epoch 8/500\n",
      "2/2 [==============================] - 0s 2ms/step - loss: 10.8713 - mae: 10.8713\n",
      "Epoch 9/500\n",
      "2/2 [==============================] - 0s 1ms/step - loss: 38.0435 - mae: 38.0435\n",
      "Epoch 10/500\n",
      "2/2 [==============================] - 0s 2ms/step - loss: 25.6226 - mae: 25.6226\n",
      "Epoch 11/500\n",
      "2/2 [==============================] - 0s 2ms/step - loss: 10.2375 - mae: 10.2375\n",
      "Epoch 12/500\n",
      "2/2 [==============================] - 0s 2ms/step - loss: 25.1960 - mae: 25.1960\n",
      "Epoch 13/500\n",
      "2/2 [==============================] - 0s 1ms/step - loss: 17.0177 - mae: 17.0177\n",
      "Epoch 14/500\n",
      "2/2 [==============================] - 0s 2ms/step - loss: 25.9747 - mae: 25.9747\n",
      "Epoch 15/500\n",
      "2/2 [==============================] - 0s 2ms/step - loss: 18.0366 - mae: 18.0366\n",
      "Epoch 16/500\n",
      "2/2 [==============================] - 0s 2ms/step - loss: 7.3513 - mae: 7.3513\n",
      "Epoch 17/500\n",
      "2/2 [==============================] - 0s 1ms/step - loss: 10.8516 - mae: 10.8516\n",
      "Epoch 18/500\n",
      "2/2 [==============================] - 0s 2ms/step - loss: 19.5119 - mae: 19.5119\n",
      "Epoch 19/500\n",
      "2/2 [==============================] - 0s 2ms/step - loss: 10.3378 - mae: 10.3378\n",
      "Epoch 20/500\n",
      "2/2 [==============================] - 0s 2ms/step - loss: 17.6840 - mae: 17.6840\n",
      "Epoch 21/500\n",
      "2/2 [==============================] - 0s 2ms/step - loss: 15.8826 - mae: 15.8826\n",
      "Epoch 22/500\n",
      "2/2 [==============================] - 0s 2ms/step - loss: 14.1778 - mae: 14.1778\n",
      "Epoch 23/500\n",
      "2/2 [==============================] - 0s 2ms/step - loss: 8.7814 - mae: 8.7814\n",
      "Epoch 24/500\n",
      "2/2 [==============================] - 0s 2ms/step - loss: 11.0673 - mae: 11.0673\n",
      "Epoch 25/500\n",
      "2/2 [==============================] - 0s 2ms/step - loss: 12.6998 - mae: 12.6998\n",
      "Epoch 26/500\n",
      "2/2 [==============================] - 0s 2ms/step - loss: 26.2395 - mae: 26.2395\n",
      "Epoch 27/500\n",
      "2/2 [==============================] - 0s 2ms/step - loss: 11.7524 - mae: 11.7524\n",
      "Epoch 28/500\n",
      "2/2 [==============================] - 0s 2ms/step - loss: 22.9252 - mae: 22.9252\n",
      "Epoch 29/500\n",
      "2/2 [==============================] - 0s 1ms/step - loss: 9.2439 - mae: 9.2439\n",
      "Epoch 30/500\n",
      "2/2 [==============================] - 0s 2ms/step - loss: 29.3121 - mae: 29.3121\n",
      "Epoch 31/500\n",
      "2/2 [==============================] - 0s 1ms/step - loss: 53.1141 - mae: 53.1141\n",
      "Epoch 32/500\n",
      "2/2 [==============================] - 0s 3ms/step - loss: 12.3708 - mae: 12.3708\n",
      "Epoch 33/500\n",
      "2/2 [==============================] - 0s 2ms/step - loss: 12.1831 - mae: 12.1831\n",
      "Epoch 34/500\n",
      "2/2 [==============================] - 0s 2ms/step - loss: 23.9483 - mae: 23.9483\n",
      "Epoch 35/500\n",
      "2/2 [==============================] - 0s 2ms/step - loss: 12.6223 - mae: 12.6223\n",
      "Epoch 36/500\n",
      "2/2 [==============================] - 0s 2ms/step - loss: 21.5243 - mae: 21.5243\n",
      "Epoch 37/500\n",
      "2/2 [==============================] - 0s 2ms/step - loss: 11.3913 - mae: 11.3913\n",
      "Epoch 38/500\n",
      "2/2 [==============================] - 0s 3ms/step - loss: 13.4744 - mae: 13.4744\n",
      "Epoch 39/500\n",
      "2/2 [==============================] - 0s 3ms/step - loss: 10.7992 - mae: 10.7992\n",
      "Epoch 40/500\n",
      "2/2 [==============================] - 0s 3ms/step - loss: 16.6026 - mae: 16.6026\n",
      "Epoch 41/500\n",
      "2/2 [==============================] - 0s 3ms/step - loss: 10.9797 - mae: 10.9797\n",
      "Epoch 42/500\n",
      "2/2 [==============================] - 0s 2ms/step - loss: 9.3049 - mae: 9.3049\n",
      "Epoch 43/500\n",
      "2/2 [==============================] - 0s 2ms/step - loss: 9.5985 - mae: 9.5985\n",
      "Epoch 44/500\n",
      "2/2 [==============================] - 0s 2ms/step - loss: 27.9749 - mae: 27.9749\n",
      "Epoch 45/500\n",
      "2/2 [==============================] - 0s 2ms/step - loss: 11.2865 - mae: 11.2865\n",
      "Epoch 46/500\n",
      "2/2 [==============================] - 0s 3ms/step - loss: 14.0574 - mae: 14.0574\n",
      "Epoch 47/500\n",
      "2/2 [==============================] - 0s 2ms/step - loss: 13.5113 - mae: 13.5113\n",
      "Epoch 48/500\n",
      "2/2 [==============================] - 0s 3ms/step - loss: 17.3531 - mae: 17.3531\n",
      "Epoch 49/500\n",
      "2/2 [==============================] - 0s 2ms/step - loss: 9.5141 - mae: 9.5141\n",
      "Epoch 50/500\n",
      "2/2 [==============================] - 0s 2ms/step - loss: 13.6965 - mae: 13.6965\n",
      "Epoch 51/500\n",
      "2/2 [==============================] - 0s 2ms/step - loss: 11.5602 - mae: 11.5602\n",
      "Epoch 52/500\n",
      "2/2 [==============================] - 0s 2ms/step - loss: 30.1688 - mae: 30.1688\n",
      "Epoch 53/500\n",
      "2/2 [==============================] - 0s 3ms/step - loss: 13.7142 - mae: 13.7142\n",
      "Epoch 54/500\n",
      "2/2 [==============================] - 0s 1ms/step - loss: 26.3987 - mae: 26.3987\n",
      "Epoch 55/500\n",
      "2/2 [==============================] - 0s 2ms/step - loss: 25.9838 - mae: 25.9838\n",
      "Epoch 56/500\n",
      "2/2 [==============================] - 0s 2ms/step - loss: 11.2307 - mae: 11.2307\n",
      "Epoch 57/500\n",
      "2/2 [==============================] - 0s 2ms/step - loss: 13.2025 - mae: 13.2025\n",
      "Epoch 58/500\n",
      "2/2 [==============================] - 0s 2ms/step - loss: 9.8624 - mae: 9.8624\n",
      "Epoch 59/500\n",
      "2/2 [==============================] - 0s 2ms/step - loss: 13.3870 - mae: 13.3870\n",
      "Epoch 60/500\n",
      "2/2 [==============================] - 0s 3ms/step - loss: 10.9240 - mae: 10.9240\n",
      "Epoch 61/500\n",
      "2/2 [==============================] - 0s 2ms/step - loss: 13.5375 - mae: 13.5375\n",
      "Epoch 62/500\n",
      "2/2 [==============================] - 0s 3ms/step - loss: 17.6004 - mae: 17.6004\n",
      "Epoch 63/500\n",
      "2/2 [==============================] - 0s 2ms/step - loss: 9.1937 - mae: 9.1937\n",
      "Epoch 64/500\n",
      "2/2 [==============================] - 0s 2ms/step - loss: 18.4644 - mae: 18.4644\n",
      "Epoch 65/500\n",
      "2/2 [==============================] - 0s 2ms/step - loss: 10.1481 - mae: 10.1481\n",
      "Epoch 66/500\n",
      "2/2 [==============================] - 0s 1ms/step - loss: 24.3358 - mae: 24.3358\n",
      "Epoch 67/500\n",
      "2/2 [==============================] - 0s 3ms/step - loss: 10.9262 - mae: 10.9262\n",
      "Epoch 68/500\n",
      "2/2 [==============================] - 0s 1ms/step - loss: 10.8005 - mae: 10.8005\n",
      "Epoch 69/500\n",
      "2/2 [==============================] - 0s 2ms/step - loss: 23.3092 - mae: 23.3092\n",
      "Epoch 70/500\n",
      "2/2 [==============================] - 0s 3ms/step - loss: 8.8134 - mae: 8.8134\n",
      "Epoch 71/500\n",
      "2/2 [==============================] - 0s 3ms/step - loss: 15.9715 - mae: 15.9715\n",
      "Epoch 72/500\n",
      "2/2 [==============================] - 0s 3ms/step - loss: 8.1469 - mae: 8.1469\n",
      "Epoch 73/500\n",
      "2/2 [==============================] - 0s 3ms/step - loss: 9.4683 - mae: 9.4683\n",
      "Epoch 74/500\n",
      "2/2 [==============================] - 0s 3ms/step - loss: 28.1492 - mae: 28.1492\n",
      "Epoch 75/500\n",
      "2/2 [==============================] - 0s 3ms/step - loss: 10.2183 - mae: 10.2183\n",
      "Epoch 76/500\n",
      "2/2 [==============================] - 0s 3ms/step - loss: 13.1686 - mae: 13.1686\n",
      "Epoch 77/500\n",
      "2/2 [==============================] - 0s 2ms/step - loss: 18.4013 - mae: 18.4013\n",
      "Epoch 78/500\n",
      "2/2 [==============================] - 0s 3ms/step - loss: 9.0304 - mae: 9.0304\n",
      "Epoch 79/500\n",
      "2/2 [==============================] - 0s 2ms/step - loss: 23.4407 - mae: 23.4407\n",
      "Epoch 80/500\n",
      "2/2 [==============================] - 0s 3ms/step - loss: 26.1121 - mae: 26.1121\n",
      "Epoch 81/500\n",
      "2/2 [==============================] - 0s 2ms/step - loss: 11.4009 - mae: 11.4009\n",
      "Epoch 82/500\n",
      "2/2 [==============================] - 0s 2ms/step - loss: 12.5022 - mae: 12.5022\n",
      "Epoch 83/500\n",
      "2/2 [==============================] - 0s 2ms/step - loss: 17.1948 - mae: 17.1948\n",
      "Epoch 84/500\n",
      "2/2 [==============================] - 0s 3ms/step - loss: 6.6097 - mae: 6.6097\n",
      "Epoch 85/500\n",
      "2/2 [==============================] - 0s 2ms/step - loss: 20.2734 - mae: 20.2734\n",
      "Epoch 86/500\n",
      "2/2 [==============================] - 0s 2ms/step - loss: 10.1761 - mae: 10.1761\n",
      "Epoch 87/500\n",
      "2/2 [==============================] - 0s 2ms/step - loss: 24.3047 - mae: 24.3047\n",
      "Epoch 88/500\n",
      "2/2 [==============================] - 0s 2ms/step - loss: 18.9693 - mae: 18.9693\n",
      "Epoch 89/500\n",
      "2/2 [==============================] - 0s 2ms/step - loss: 7.1749 - mae: 7.1749\n",
      "Epoch 90/500\n",
      "2/2 [==============================] - 0s 2ms/step - loss: 18.2784 - mae: 18.2784\n",
      "Epoch 91/500\n",
      "2/2 [==============================] - 0s 2ms/step - loss: 13.3343 - mae: 13.3343\n",
      "Epoch 92/500\n",
      "2/2 [==============================] - 0s 2ms/step - loss: 8.7404 - mae: 8.7404\n",
      "Epoch 93/500\n",
      "2/2 [==============================] - 0s 3ms/step - loss: 14.1947 - mae: 14.1947\n",
      "Epoch 94/500\n",
      "2/2 [==============================] - 0s 2ms/step - loss: 17.1955 - mae: 17.1955\n",
      "Epoch 95/500\n",
      "2/2 [==============================] - 0s 2ms/step - loss: 16.7777 - mae: 16.7777\n",
      "Epoch 96/500\n",
      "2/2 [==============================] - 0s 2ms/step - loss: 11.1365 - mae: 11.1365\n",
      "Epoch 97/500\n",
      "2/2 [==============================] - 0s 2ms/step - loss: 21.1982 - mae: 21.1982\n",
      "Epoch 98/500\n",
      "2/2 [==============================] - 0s 2ms/step - loss: 10.4874 - mae: 10.4874\n",
      "Epoch 99/500\n",
      "2/2 [==============================] - 0s 2ms/step - loss: 14.5632 - mae: 14.5632\n",
      "Epoch 100/500\n",
      "2/2 [==============================] - 0s 2ms/step - loss: 17.7188 - mae: 17.7188\n",
      "Epoch 101/500\n",
      "2/2 [==============================] - 0s 2ms/step - loss: 11.2612 - mae: 11.2612\n",
      "Epoch 102/500\n",
      "2/2 [==============================] - 0s 2ms/step - loss: 16.9770 - mae: 16.9770\n",
      "Epoch 103/500\n",
      "2/2 [==============================] - 0s 2ms/step - loss: 7.7652 - mae: 7.7652\n",
      "Epoch 104/500\n",
      "2/2 [==============================] - 0s 2ms/step - loss: 22.3546 - mae: 22.3546\n",
      "Epoch 105/500\n",
      "2/2 [==============================] - 0s 3ms/step - loss: 20.1002 - mae: 20.1002\n",
      "Epoch 106/500\n",
      "2/2 [==============================] - 0s 2ms/step - loss: 10.1066 - mae: 10.1066\n",
      "Epoch 107/500\n",
      "2/2 [==============================] - 0s 3ms/step - loss: 24.8571 - mae: 24.8571\n",
      "Epoch 108/500\n",
      "2/2 [==============================] - 0s 3ms/step - loss: 14.7660 - mae: 14.7660\n",
      "Epoch 109/500\n",
      "2/2 [==============================] - 0s 2ms/step - loss: 8.9635 - mae: 8.9635\n",
      "Epoch 110/500\n",
      "2/2 [==============================] - 0s 1ms/step - loss: 9.2212 - mae: 9.2212\n",
      "Epoch 111/500\n",
      "2/2 [==============================] - 0s 3ms/step - loss: 12.8236 - mae: 12.8236\n",
      "Epoch 112/500\n",
      "2/2 [==============================] - 0s 3ms/step - loss: 15.6232 - mae: 15.6232\n",
      "Epoch 113/500\n",
      "2/2 [==============================] - 0s 2ms/step - loss: 11.1864 - mae: 11.1864\n",
      "Epoch 114/500\n",
      "2/2 [==============================] - 0s 2ms/step - loss: 24.8269 - mae: 24.8269\n",
      "Epoch 115/500\n",
      "2/2 [==============================] - 0s 2ms/step - loss: 13.4715 - mae: 13.4715\n",
      "Epoch 116/500\n",
      "2/2 [==============================] - 0s 2ms/step - loss: 14.3496 - mae: 14.3496\n",
      "Epoch 117/500\n",
      "2/2 [==============================] - 0s 2ms/step - loss: 9.9492 - mae: 9.9492\n",
      "Epoch 118/500\n",
      "2/2 [==============================] - 0s 2ms/step - loss: 11.0617 - mae: 11.0617\n",
      "Epoch 119/500\n",
      "2/2 [==============================] - 0s 2ms/step - loss: 8.1352 - mae: 8.1352\n",
      "Epoch 120/500\n",
      "2/2 [==============================] - 0s 2ms/step - loss: 30.7020 - mae: 30.7020\n",
      "Epoch 121/500\n",
      "2/2 [==============================] - 0s 3ms/step - loss: 8.1569 - mae: 8.1569\n",
      "Epoch 122/500\n",
      "2/2 [==============================] - 0s 2ms/step - loss: 29.1131 - mae: 29.1131\n",
      "Epoch 123/500\n",
      "2/2 [==============================] - 0s 2ms/step - loss: 33.8909 - mae: 33.8909\n",
      "Epoch 124/500\n",
      "2/2 [==============================] - 0s 2ms/step - loss: 20.3869 - mae: 20.3869\n",
      "Epoch 125/500\n",
      "2/2 [==============================] - 0s 2ms/step - loss: 9.0836 - mae: 9.0836\n",
      "Epoch 126/500\n",
      "2/2 [==============================] - 0s 2ms/step - loss: 9.2367 - mae: 9.2367\n",
      "Epoch 127/500\n",
      "2/2 [==============================] - 0s 2ms/step - loss: 11.2743 - mae: 11.2743\n",
      "Epoch 128/500\n",
      "2/2 [==============================] - 0s 3ms/step - loss: 17.0387 - mae: 17.0387\n",
      "Epoch 129/500\n",
      "2/2 [==============================] - 0s 2ms/step - loss: 8.9837 - mae: 8.9837\n",
      "Epoch 130/500\n",
      "2/2 [==============================] - 0s 3ms/step - loss: 23.7027 - mae: 23.7027\n",
      "Epoch 131/500\n",
      "2/2 [==============================] - 0s 2ms/step - loss: 9.7015 - mae: 9.7015\n",
      "Epoch 132/500\n",
      "2/2 [==============================] - 0s 3ms/step - loss: 17.9953 - mae: 17.9953\n",
      "Epoch 133/500\n",
      "2/2 [==============================] - 0s 2ms/step - loss: 6.7527 - mae: 6.7527\n",
      "Epoch 134/500\n",
      "2/2 [==============================] - 0s 3ms/step - loss: 20.1872 - mae: 20.1872\n",
      "Epoch 135/500\n",
      "2/2 [==============================] - 0s 3ms/step - loss: 10.5004 - mae: 10.5004\n",
      "Epoch 136/500\n",
      "2/2 [==============================] - 0s 3ms/step - loss: 18.1094 - mae: 18.1094\n",
      "Epoch 137/500\n",
      "2/2 [==============================] - 0s 2ms/step - loss: 22.9300 - mae: 22.9300\n",
      "Epoch 138/500\n",
      "2/2 [==============================] - 0s 3ms/step - loss: 9.0650 - mae: 9.0650\n",
      "Epoch 139/500\n",
      "2/2 [==============================] - 0s 2ms/step - loss: 8.8799 - mae: 8.8799\n",
      "Epoch 140/500\n",
      "2/2 [==============================] - 0s 2ms/step - loss: 16.2794 - mae: 16.2794\n",
      "Epoch 141/500\n",
      "2/2 [==============================] - 0s 2ms/step - loss: 8.4378 - mae: 8.4378\n",
      "Epoch 142/500\n",
      "2/2 [==============================] - 0s 2ms/step - loss: 36.5281 - mae: 36.5281\n",
      "Epoch 143/500\n",
      "2/2 [==============================] - 0s 1ms/step - loss: 25.2530 - mae: 25.2530\n",
      "Epoch 144/500\n",
      "2/2 [==============================] - 0s 2ms/step - loss: 10.4689 - mae: 10.4689\n",
      "Epoch 145/500\n",
      "2/2 [==============================] - 0s 2ms/step - loss: 25.8080 - mae: 25.8080\n",
      "Epoch 146/500\n",
      "2/2 [==============================] - 0s 1ms/step - loss: 9.9834 - mae: 9.9834\n",
      "Epoch 147/500\n",
      "2/2 [==============================] - 0s 2ms/step - loss: 14.7007 - mae: 14.7007\n",
      "Epoch 148/500\n",
      "2/2 [==============================] - 0s 3ms/step - loss: 17.8050 - mae: 17.8050\n",
      "Epoch 149/500\n",
      "2/2 [==============================] - 0s 2ms/step - loss: 8.4769 - mae: 8.4769\n",
      "Epoch 150/500\n",
      "2/2 [==============================] - 0s 2ms/step - loss: 7.6249 - mae: 7.6249\n",
      "Epoch 151/500\n",
      "2/2 [==============================] - 0s 2ms/step - loss: 18.9286 - mae: 18.9286\n",
      "Epoch 152/500\n",
      "2/2 [==============================] - 0s 2ms/step - loss: 10.4785 - mae: 10.4785\n",
      "Epoch 153/500\n",
      "2/2 [==============================] - 0s 2ms/step - loss: 30.5113 - mae: 30.5113\n",
      "Epoch 154/500\n",
      "2/2 [==============================] - 0s 2ms/step - loss: 9.9628 - mae: 9.9628\n",
      "Epoch 155/500\n",
      "2/2 [==============================] - 0s 3ms/step - loss: 15.7147 - mae: 15.7147\n",
      "Epoch 156/500\n",
      "2/2 [==============================] - 0s 2ms/step - loss: 17.5991 - mae: 17.5991\n",
      "Epoch 157/500\n",
      "2/2 [==============================] - 0s 2ms/step - loss: 31.2961 - mae: 31.2961\n",
      "Epoch 158/500\n",
      "2/2 [==============================] - 0s 2ms/step - loss: 10.2597 - mae: 10.2597\n",
      "Epoch 159/500\n",
      "2/2 [==============================] - 0s 2ms/step - loss: 8.7076 - mae: 8.7076\n",
      "Epoch 160/500\n",
      "2/2 [==============================] - 0s 2ms/step - loss: 20.8764 - mae: 20.8764\n",
      "Epoch 161/500\n",
      "2/2 [==============================] - 0s 2ms/step - loss: 11.8638 - mae: 11.8638\n",
      "Epoch 162/500\n",
      "2/2 [==============================] - 0s 1ms/step - loss: 21.8614 - mae: 21.8614\n",
      "Epoch 163/500\n",
      "2/2 [==============================] - 0s 2ms/step - loss: 19.5261 - mae: 19.5261\n",
      "Epoch 164/500\n",
      "2/2 [==============================] - 0s 2ms/step - loss: 11.4216 - mae: 11.4216\n",
      "Epoch 165/500\n",
      "2/2 [==============================] - 0s 1ms/step - loss: 11.6115 - mae: 11.6115\n",
      "Epoch 166/500\n",
      "2/2 [==============================] - 0s 2ms/step - loss: 21.3573 - mae: 21.3573\n",
      "Epoch 167/500\n",
      "2/2 [==============================] - 0s 2ms/step - loss: 26.8832 - mae: 26.8832\n",
      "Epoch 168/500\n",
      "2/2 [==============================] - 0s 2ms/step - loss: 10.0079 - mae: 10.0079\n",
      "Epoch 169/500\n",
      "2/2 [==============================] - 0s 2ms/step - loss: 23.1242 - mae: 23.1242\n",
      "Epoch 170/500\n",
      "2/2 [==============================] - 0s 5ms/step - loss: 9.5960 - mae: 9.5960\n",
      "Epoch 171/500\n",
      "2/2 [==============================] - 0s 3ms/step - loss: 15.8613 - mae: 15.8613\n",
      "Epoch 172/500\n",
      "2/2 [==============================] - 0s 3ms/step - loss: 13.8936 - mae: 13.8936\n",
      "Epoch 173/500\n",
      "2/2 [==============================] - 0s 4ms/step - loss: 22.5890 - mae: 22.5890\n",
      "Epoch 174/500\n",
      "2/2 [==============================] - 0s 3ms/step - loss: 11.3498 - mae: 11.3498\n",
      "Epoch 175/500\n",
      "2/2 [==============================] - 0s 3ms/step - loss: 20.0651 - mae: 20.0651\n",
      "Epoch 176/500\n",
      "2/2 [==============================] - 0s 4ms/step - loss: 7.4087 - mae: 7.4087\n",
      "Epoch 177/500\n",
      "2/2 [==============================] - 0s 3ms/step - loss: 8.5979 - mae: 8.5979\n",
      "Epoch 178/500\n",
      "2/2 [==============================] - 0s 3ms/step - loss: 15.4691 - mae: 15.4691\n",
      "Epoch 179/500\n",
      "2/2 [==============================] - 0s 2ms/step - loss: 9.3099 - mae: 9.3099\n",
      "Epoch 180/500\n",
      "2/2 [==============================] - 0s 2ms/step - loss: 8.1326 - mae: 8.1326\n",
      "Epoch 181/500\n",
      "2/2 [==============================] - 0s 2ms/step - loss: 18.6995 - mae: 18.6995\n",
      "Epoch 182/500\n",
      "2/2 [==============================] - 0s 3ms/step - loss: 10.7752 - mae: 10.7752\n",
      "Epoch 183/500\n",
      "2/2 [==============================] - 0s 2ms/step - loss: 10.9009 - mae: 10.9009\n",
      "Epoch 184/500\n",
      "2/2 [==============================] - 0s 2ms/step - loss: 33.6795 - mae: 33.6795\n",
      "Epoch 185/500\n",
      "2/2 [==============================] - 0s 2ms/step - loss: 7.6256 - mae: 7.6256\n",
      "Epoch 186/500\n",
      "2/2 [==============================] - 0s 3ms/step - loss: 16.7550 - mae: 16.7550\n",
      "Epoch 187/500\n",
      "2/2 [==============================] - 0s 2ms/step - loss: 10.1933 - mae: 10.1933\n",
      "Epoch 188/500\n",
      "2/2 [==============================] - 0s 2ms/step - loss: 23.0485 - mae: 23.0485\n",
      "Epoch 189/500\n",
      "2/2 [==============================] - 0s 2ms/step - loss: 9.8744 - mae: 9.8744\n",
      "Epoch 190/500\n",
      "2/2 [==============================] - 0s 1ms/step - loss: 15.2767 - mae: 15.2767\n",
      "Epoch 191/500\n",
      "2/2 [==============================] - 0s 2ms/step - loss: 9.9642 - mae: 9.9642\n",
      "Epoch 192/500\n",
      "2/2 [==============================] - 0s 2ms/step - loss: 14.9958 - mae: 14.9958\n",
      "Epoch 193/500\n",
      "2/2 [==============================] - 0s 2ms/step - loss: 29.6780 - mae: 29.6780\n",
      "Epoch 194/500\n",
      "2/2 [==============================] - 0s 2ms/step - loss: 8.3824 - mae: 8.3824\n",
      "Epoch 195/500\n",
      "2/2 [==============================] - 0s 2ms/step - loss: 12.9099 - mae: 12.9099\n",
      "Epoch 196/500\n",
      "2/2 [==============================] - 0s 2ms/step - loss: 23.9535 - mae: 23.9535\n",
      "Epoch 197/500\n",
      "2/2 [==============================] - 0s 1ms/step - loss: 16.7606 - mae: 16.7606\n",
      "Epoch 198/500\n",
      "2/2 [==============================] - 0s 2ms/step - loss: 11.4552 - mae: 11.4552\n",
      "Epoch 199/500\n",
      "2/2 [==============================] - 0s 3ms/step - loss: 19.5602 - mae: 19.5602\n",
      "Epoch 200/500\n",
      "2/2 [==============================] - 0s 2ms/step - loss: 15.7254 - mae: 15.7254\n",
      "Epoch 201/500\n",
      "2/2 [==============================] - 0s 2ms/step - loss: 10.5874 - mae: 10.5874\n",
      "Epoch 202/500\n",
      "2/2 [==============================] - 0s 2ms/step - loss: 22.4504 - mae: 22.4504\n",
      "Epoch 203/500\n",
      "2/2 [==============================] - 0s 2ms/step - loss: 21.6604 - mae: 21.6604\n",
      "Epoch 204/500\n",
      "2/2 [==============================] - 0s 2ms/step - loss: 17.2724 - mae: 17.2724\n",
      "Epoch 205/500\n",
      "2/2 [==============================] - 0s 2ms/step - loss: 9.4794 - mae: 9.4794\n",
      "Epoch 206/500\n",
      "2/2 [==============================] - 0s 2ms/step - loss: 11.1134 - mae: 11.1134\n",
      "Epoch 207/500\n",
      "2/2 [==============================] - 0s 2ms/step - loss: 17.6007 - mae: 17.6007\n",
      "Epoch 208/500\n",
      "2/2 [==============================] - 0s 2ms/step - loss: 14.3340 - mae: 14.3340\n",
      "Epoch 209/500\n",
      "2/2 [==============================] - 0s 2ms/step - loss: 16.6362 - mae: 16.6362\n",
      "Epoch 210/500\n",
      "2/2 [==============================] - 0s 1ms/step - loss: 18.1360 - mae: 18.1360\n",
      "Epoch 211/500\n",
      "2/2 [==============================] - 0s 2ms/step - loss: 9.9325 - mae: 9.9325\n",
      "Epoch 212/500\n",
      "2/2 [==============================] - 0s 3ms/step - loss: 18.5931 - mae: 18.5931\n",
      "Epoch 213/500\n",
      "2/2 [==============================] - 0s 2ms/step - loss: 14.9831 - mae: 14.9831\n",
      "Epoch 214/500\n",
      "2/2 [==============================] - 0s 2ms/step - loss: 14.5550 - mae: 14.5550\n",
      "Epoch 215/500\n",
      "2/2 [==============================] - 0s 2ms/step - loss: 23.2258 - mae: 23.2258\n",
      "Epoch 216/500\n",
      "2/2 [==============================] - 0s 1ms/step - loss: 13.5046 - mae: 13.5046\n",
      "Epoch 217/500\n",
      "2/2 [==============================] - 0s 2ms/step - loss: 9.9873 - mae: 9.9873\n",
      "Epoch 218/500\n",
      "2/2 [==============================] - 0s 2ms/step - loss: 12.4790 - mae: 12.4790\n",
      "Epoch 219/500\n",
      "2/2 [==============================] - 0s 2ms/step - loss: 5.3193 - mae: 5.3193\n",
      "Epoch 220/500\n",
      "2/2 [==============================] - 0s 3ms/step - loss: 12.4031 - mae: 12.4031\n",
      "Epoch 221/500\n",
      "2/2 [==============================] - 0s 2ms/step - loss: 22.3803 - mae: 22.3803\n",
      "Epoch 222/500\n",
      "2/2 [==============================] - 0s 2ms/step - loss: 21.4821 - mae: 21.4821\n",
      "Epoch 223/500\n",
      "2/2 [==============================] - 0s 2ms/step - loss: 11.6658 - mae: 11.6658\n",
      "Epoch 224/500\n",
      "2/2 [==============================] - 0s 2ms/step - loss: 13.5729 - mae: 13.5729\n",
      "Epoch 225/500\n",
      "2/2 [==============================] - 0s 2ms/step - loss: 15.7083 - mae: 15.7083\n",
      "Epoch 226/500\n",
      "2/2 [==============================] - 0s 2ms/step - loss: 14.9526 - mae: 14.9526\n",
      "Epoch 227/500\n",
      "2/2 [==============================] - 0s 2ms/step - loss: 15.2855 - mae: 15.2855\n",
      "Epoch 228/500\n",
      "2/2 [==============================] - 0s 2ms/step - loss: 17.4495 - mae: 17.4495\n",
      "Epoch 229/500\n",
      "2/2 [==============================] - 0s 2ms/step - loss: 7.2127 - mae: 7.2127\n",
      "Epoch 230/500\n",
      "2/2 [==============================] - 0s 3ms/step - loss: 7.4579 - mae: 7.4579\n",
      "Epoch 231/500\n",
      "2/2 [==============================] - 0s 1ms/step - loss: 24.7665 - mae: 24.7665\n",
      "Epoch 232/500\n",
      "2/2 [==============================] - 0s 3ms/step - loss: 8.7807 - mae: 8.7807\n",
      "Epoch 233/500\n",
      "2/2 [==============================] - 0s 3ms/step - loss: 24.7247 - mae: 24.7247\n",
      "Epoch 234/500\n",
      "2/2 [==============================] - 0s 2ms/step - loss: 8.1448 - mae: 8.1448\n",
      "Epoch 235/500\n",
      "2/2 [==============================] - 0s 2ms/step - loss: 12.7115 - mae: 12.7115\n",
      "Epoch 236/500\n",
      "2/2 [==============================] - 0s 3ms/step - loss: 7.7151 - mae: 7.7151\n",
      "Epoch 237/500\n",
      "2/2 [==============================] - 0s 2ms/step - loss: 10.0243 - mae: 10.0243\n",
      "Epoch 238/500\n",
      "2/2 [==============================] - 0s 2ms/step - loss: 8.5508 - mae: 8.5508\n",
      "Epoch 239/500\n",
      "2/2 [==============================] - 0s 3ms/step - loss: 18.8639 - mae: 18.8639\n",
      "Epoch 240/500\n",
      "2/2 [==============================] - 0s 2ms/step - loss: 8.9870 - mae: 8.9870\n",
      "Epoch 241/500\n",
      "2/2 [==============================] - 0s 2ms/step - loss: 13.3864 - mae: 13.3864\n",
      "Epoch 242/500\n",
      "2/2 [==============================] - 0s 3ms/step - loss: 8.8832 - mae: 8.8832\n",
      "Epoch 243/500\n",
      "2/2 [==============================] - 0s 2ms/step - loss: 19.2383 - mae: 19.2383\n",
      "Epoch 244/500\n",
      "2/2 [==============================] - 0s 4ms/step - loss: 13.9083 - mae: 13.9083\n",
      "Epoch 245/500\n",
      "2/2 [==============================] - 0s 2ms/step - loss: 14.5554 - mae: 14.5554\n",
      "Epoch 246/500\n",
      "2/2 [==============================] - 0s 2ms/step - loss: 15.6931 - mae: 15.6931\n",
      "Epoch 247/500\n",
      "2/2 [==============================] - 0s 3ms/step - loss: 17.5340 - mae: 17.5340\n",
      "Epoch 248/500\n",
      "2/2 [==============================] - 0s 3ms/step - loss: 13.0999 - mae: 13.0999\n",
      "Epoch 249/500\n",
      "2/2 [==============================] - 0s 4ms/step - loss: 14.4328 - mae: 14.4328\n",
      "Epoch 250/500\n",
      "2/2 [==============================] - 0s 3ms/step - loss: 27.8382 - mae: 27.8382\n",
      "Epoch 251/500\n",
      "2/2 [==============================] - 0s 2ms/step - loss: 7.5069 - mae: 7.5069\n",
      "Epoch 252/500\n",
      "2/2 [==============================] - 0s 2ms/step - loss: 38.1138 - mae: 38.1138\n",
      "Epoch 253/500\n",
      "2/2 [==============================] - 0s 3ms/step - loss: 22.9280 - mae: 22.9280\n",
      "Epoch 254/500\n",
      "2/2 [==============================] - 0s 2ms/step - loss: 7.4438 - mae: 7.4438\n",
      "Epoch 255/500\n",
      "2/2 [==============================] - 0s 2ms/step - loss: 25.8147 - mae: 25.8147\n",
      "Epoch 256/500\n",
      "2/2 [==============================] - 0s 3ms/step - loss: 13.7325 - mae: 13.7325\n",
      "Epoch 257/500\n",
      "2/2 [==============================] - 0s 2ms/step - loss: 8.3459 - mae: 8.3459\n",
      "Epoch 258/500\n",
      "2/2 [==============================] - 0s 2ms/step - loss: 13.2278 - mae: 13.2278\n",
      "Epoch 259/500\n",
      "2/2 [==============================] - 0s 1ms/step - loss: 10.2463 - mae: 10.2463\n",
      "Epoch 260/500\n",
      "2/2 [==============================] - 0s 2ms/step - loss: 33.6562 - mae: 33.6562\n",
      "Epoch 261/500\n",
      "2/2 [==============================] - 0s 3ms/step - loss: 12.4288 - mae: 12.4288\n",
      "Epoch 262/500\n",
      "2/2 [==============================] - 0s 2ms/step - loss: 8.9121 - mae: 8.9121\n",
      "Epoch 263/500\n",
      "2/2 [==============================] - 0s 2ms/step - loss: 8.2714 - mae: 8.2714\n",
      "Epoch 264/500\n",
      "2/2 [==============================] - 0s 2ms/step - loss: 18.8087 - mae: 18.8087\n",
      "Epoch 265/500\n",
      "2/2 [==============================] - 0s 3ms/step - loss: 11.7216 - mae: 11.7216\n",
      "Epoch 266/500\n",
      "2/2 [==============================] - 0s 2ms/step - loss: 13.5944 - mae: 13.5944\n",
      "Epoch 267/500\n",
      "2/2 [==============================] - 0s 3ms/step - loss: 11.2338 - mae: 11.2338\n",
      "Epoch 268/500\n",
      "2/2 [==============================] - 0s 2ms/step - loss: 19.5453 - mae: 19.5453\n",
      "Epoch 269/500\n",
      "2/2 [==============================] - 0s 2ms/step - loss: 39.5156 - mae: 39.5156\n",
      "Epoch 270/500\n",
      "2/2 [==============================] - 0s 3ms/step - loss: 12.1134 - mae: 12.1134\n",
      "Epoch 271/500\n",
      "2/2 [==============================] - 0s 2ms/step - loss: 14.3649 - mae: 14.3649\n",
      "Epoch 272/500\n",
      "2/2 [==============================] - 0s 2ms/step - loss: 27.7528 - mae: 27.7528\n",
      "Epoch 273/500\n",
      "2/2 [==============================] - 0s 2ms/step - loss: 8.2436 - mae: 8.2436\n",
      "Epoch 274/500\n",
      "2/2 [==============================] - 0s 3ms/step - loss: 6.4461 - mae: 6.4461\n",
      "Epoch 275/500\n",
      "2/2 [==============================] - 0s 2ms/step - loss: 34.9598 - mae: 34.9598\n",
      "Epoch 276/500\n",
      "2/2 [==============================] - 0s 3ms/step - loss: 8.0558 - mae: 8.0558\n",
      "Epoch 277/500\n",
      "2/2 [==============================] - 0s 3ms/step - loss: 26.1169 - mae: 26.1169\n",
      "Epoch 278/500\n",
      "2/2 [==============================] - 0s 2ms/step - loss: 11.3321 - mae: 11.3321\n",
      "Epoch 279/500\n",
      "2/2 [==============================] - 0s 3ms/step - loss: 16.1102 - mae: 16.1102\n",
      "Epoch 280/500\n",
      "2/2 [==============================] - 0s 2ms/step - loss: 21.2435 - mae: 21.2435\n",
      "Epoch 281/500\n",
      "2/2 [==============================] - 0s 3ms/step - loss: 23.7809 - mae: 23.7809\n",
      "Epoch 282/500\n",
      "2/2 [==============================] - 0s 2ms/step - loss: 8.2441 - mae: 8.2441\n",
      "Epoch 283/500\n",
      "2/2 [==============================] - 0s 3ms/step - loss: 8.4285 - mae: 8.4285\n",
      "Epoch 284/500\n",
      "2/2 [==============================] - 0s 2ms/step - loss: 26.6307 - mae: 26.6307\n",
      "Epoch 285/500\n",
      "2/2 [==============================] - 0s 2ms/step - loss: 14.2313 - mae: 14.2313\n",
      "Epoch 286/500\n",
      "2/2 [==============================] - 0s 2ms/step - loss: 5.2458 - mae: 5.2458\n",
      "Epoch 287/500\n",
      "2/2 [==============================] - 0s 2ms/step - loss: 20.8120 - mae: 20.8120\n",
      "Epoch 288/500\n",
      "2/2 [==============================] - 0s 3ms/step - loss: 27.6880 - mae: 27.6880\n",
      "Epoch 289/500\n",
      "2/2 [==============================] - 0s 2ms/step - loss: 11.0046 - mae: 11.0046\n",
      "Epoch 290/500\n",
      "2/2 [==============================] - 0s 2ms/step - loss: 16.1976 - mae: 16.1976\n",
      "Epoch 291/500\n",
      "2/2 [==============================] - 0s 3ms/step - loss: 16.3652 - mae: 16.3652\n",
      "Epoch 292/500\n",
      "2/2 [==============================] - 0s 2ms/step - loss: 14.6295 - mae: 14.6295\n",
      "Epoch 293/500\n",
      "2/2 [==============================] - 0s 3ms/step - loss: 15.9419 - mae: 15.9419\n",
      "Epoch 294/500\n",
      "2/2 [==============================] - 0s 3ms/step - loss: 24.0849 - mae: 24.0849\n",
      "Epoch 295/500\n",
      "2/2 [==============================] - 0s 4ms/step - loss: 14.7127 - mae: 14.7127\n",
      "Epoch 296/500\n",
      "2/2 [==============================] - 0s 2ms/step - loss: 4.5065 - mae: 4.5065\n",
      "Epoch 297/500\n",
      "2/2 [==============================] - 0s 4ms/step - loss: 9.6685 - mae: 9.6685\n",
      "Epoch 298/500\n",
      "2/2 [==============================] - 0s 2ms/step - loss: 23.7734 - mae: 23.7734\n",
      "Epoch 299/500\n",
      "2/2 [==============================] - 0s 3ms/step - loss: 19.0266 - mae: 19.0266\n",
      "Epoch 300/500\n",
      "2/2 [==============================] - 0s 2ms/step - loss: 8.8169 - mae: 8.8169\n",
      "Epoch 301/500\n",
      "2/2 [==============================] - 0s 3ms/step - loss: 15.8881 - mae: 15.8881\n",
      "Epoch 302/500\n",
      "2/2 [==============================] - 0s 2ms/step - loss: 5.7412 - mae: 5.7412\n",
      "Epoch 303/500\n",
      "2/2 [==============================] - 0s 3ms/step - loss: 22.9853 - mae: 22.9853\n",
      "Epoch 304/500\n",
      "2/2 [==============================] - 0s 2ms/step - loss: 26.0574 - mae: 26.0574\n",
      "Epoch 305/500\n",
      "2/2 [==============================] - 0s 2ms/step - loss: 9.5870 - mae: 9.5870\n",
      "Epoch 306/500\n",
      "2/2 [==============================] - 0s 3ms/step - loss: 17.8151 - mae: 17.8151\n",
      "Epoch 307/500\n",
      "2/2 [==============================] - 0s 2ms/step - loss: 9.7940 - mae: 9.7940\n",
      "Epoch 308/500\n",
      "2/2 [==============================] - 0s 3ms/step - loss: 20.5450 - mae: 20.5450\n",
      "Epoch 309/500\n",
      "2/2 [==============================] - 0s 2ms/step - loss: 13.6685 - mae: 13.6685\n",
      "Epoch 310/500\n",
      "2/2 [==============================] - 0s 2ms/step - loss: 6.6468 - mae: 6.6468\n",
      "Epoch 311/500\n",
      "2/2 [==============================] - 0s 2ms/step - loss: 13.3861 - mae: 13.3861\n",
      "Epoch 312/500\n",
      "2/2 [==============================] - 0s 2ms/step - loss: 30.1870 - mae: 30.1870\n",
      "Epoch 313/500\n",
      "2/2 [==============================] - 0s 2ms/step - loss: 7.2613 - mae: 7.2613\n",
      "Epoch 314/500\n",
      "2/2 [==============================] - 0s 2ms/step - loss: 10.5500 - mae: 10.5500\n",
      "Epoch 315/500\n",
      "2/2 [==============================] - 0s 2ms/step - loss: 23.5548 - mae: 23.5548\n",
      "Epoch 316/500\n",
      "2/2 [==============================] - 0s 2ms/step - loss: 14.4468 - mae: 14.4468\n",
      "Epoch 317/500\n",
      "2/2 [==============================] - 0s 2ms/step - loss: 20.0024 - mae: 20.0024\n",
      "Epoch 318/500\n",
      "2/2 [==============================] - 0s 2ms/step - loss: 8.0088 - mae: 8.0088\n",
      "Epoch 319/500\n",
      "2/2 [==============================] - 0s 3ms/step - loss: 18.1317 - mae: 18.1317\n",
      "Epoch 320/500\n",
      "2/2 [==============================] - 0s 2ms/step - loss: 10.6560 - mae: 10.6560\n",
      "Epoch 321/500\n",
      "2/2 [==============================] - 0s 2ms/step - loss: 7.0358 - mae: 7.0358\n",
      "Epoch 322/500\n",
      "2/2 [==============================] - 0s 2ms/step - loss: 8.6712 - mae: 8.6712\n",
      "Epoch 323/500\n",
      "2/2 [==============================] - 0s 1ms/step - loss: 18.3342 - mae: 18.3342\n",
      "Epoch 324/500\n",
      "2/2 [==============================] - 0s 2ms/step - loss: 6.3114 - mae: 6.3114\n",
      "Epoch 325/500\n",
      "2/2 [==============================] - 0s 2ms/step - loss: 14.6203 - mae: 14.6203\n",
      "Epoch 326/500\n",
      "2/2 [==============================] - 0s 2ms/step - loss: 6.9930 - mae: 6.9930\n",
      "Epoch 327/500\n",
      "2/2 [==============================] - 0s 2ms/step - loss: 17.6297 - mae: 17.6297\n",
      "Epoch 328/500\n",
      "2/2 [==============================] - 0s 3ms/step - loss: 14.3738 - mae: 14.3738\n",
      "Epoch 329/500\n",
      "2/2 [==============================] - 0s 2ms/step - loss: 17.6862 - mae: 17.6862\n",
      "Epoch 330/500\n",
      "2/2 [==============================] - 0s 2ms/step - loss: 6.7831 - mae: 6.7831\n",
      "Epoch 331/500\n",
      "2/2 [==============================] - 0s 2ms/step - loss: 19.7391 - mae: 19.7391\n",
      "Epoch 332/500\n",
      "2/2 [==============================] - 0s 1ms/step - loss: 10.5504 - mae: 10.5504\n",
      "Epoch 333/500\n",
      "2/2 [==============================] - 0s 2ms/step - loss: 16.3364 - mae: 16.3364\n",
      "Epoch 334/500\n",
      "2/2 [==============================] - 0s 2ms/step - loss: 9.7205 - mae: 9.7205\n",
      "Epoch 335/500\n",
      "2/2 [==============================] - 0s 3ms/step - loss: 13.0571 - mae: 13.0571\n",
      "Epoch 336/500\n",
      "2/2 [==============================] - 0s 2ms/step - loss: 32.4955 - mae: 32.4955\n",
      "Epoch 337/500\n",
      "2/2 [==============================] - 0s 2ms/step - loss: 11.0398 - mae: 11.0398\n",
      "Epoch 338/500\n",
      "2/2 [==============================] - 0s 1ms/step - loss: 19.9557 - mae: 19.9557\n",
      "Epoch 339/500\n",
      "2/2 [==============================] - 0s 2ms/step - loss: 34.3117 - mae: 34.3117\n",
      "Epoch 340/500\n",
      "2/2 [==============================] - 0s 3ms/step - loss: 8.7204 - mae: 8.7204\n",
      "Epoch 341/500\n",
      "2/2 [==============================] - 0s 2ms/step - loss: 21.9520 - mae: 21.9520\n",
      "Epoch 342/500\n",
      "2/2 [==============================] - 0s 2ms/step - loss: 13.8474 - mae: 13.8474\n",
      "Epoch 343/500\n",
      "2/2 [==============================] - 0s 2ms/step - loss: 11.6931 - mae: 11.6931\n",
      "Epoch 344/500\n",
      "2/2 [==============================] - 0s 2ms/step - loss: 10.6911 - mae: 10.6911\n",
      "Epoch 345/500\n",
      "2/2 [==============================] - 0s 3ms/step - loss: 30.9080 - mae: 30.9080\n",
      "Epoch 346/500\n",
      "2/2 [==============================] - 0s 2ms/step - loss: 10.6418 - mae: 10.6418\n",
      "Epoch 347/500\n",
      "2/2 [==============================] - 0s 2ms/step - loss: 25.5682 - mae: 25.5682\n",
      "Epoch 348/500\n",
      "2/2 [==============================] - 0s 2ms/step - loss: 13.2759 - mae: 13.2759\n",
      "Epoch 349/500\n",
      "2/2 [==============================] - 0s 1ms/step - loss: 13.0389 - mae: 13.0389\n",
      "Epoch 350/500\n",
      "2/2 [==============================] - 0s 2ms/step - loss: 15.4016 - mae: 15.4016\n",
      "Epoch 351/500\n",
      "2/2 [==============================] - 0s 2ms/step - loss: 32.8786 - mae: 32.8786\n",
      "Epoch 352/500\n",
      "2/2 [==============================] - 0s 2ms/step - loss: 14.0887 - mae: 14.0887\n",
      "Epoch 353/500\n",
      "2/2 [==============================] - 0s 2ms/step - loss: 17.7845 - mae: 17.7845\n",
      "Epoch 354/500\n",
      "2/2 [==============================] - 0s 2ms/step - loss: 11.3456 - mae: 11.3456\n",
      "Epoch 355/500\n",
      "2/2 [==============================] - 0s 2ms/step - loss: 26.7768 - mae: 26.7768\n",
      "Epoch 356/500\n",
      "2/2 [==============================] - 0s 2ms/step - loss: 10.1413 - mae: 10.1413\n",
      "Epoch 357/500\n",
      "2/2 [==============================] - 0s 3ms/step - loss: 14.6964 - mae: 14.6964\n",
      "Epoch 358/500\n",
      "2/2 [==============================] - 0s 2ms/step - loss: 14.5669 - mae: 14.5669\n",
      "Epoch 359/500\n",
      "2/2 [==============================] - 0s 2ms/step - loss: 12.3553 - mae: 12.3553\n",
      "Epoch 360/500\n",
      "2/2 [==============================] - 0s 2ms/step - loss: 20.3741 - mae: 20.3741\n",
      "Epoch 361/500\n",
      "2/2 [==============================] - 0s 2ms/step - loss: 10.8610 - mae: 10.8610\n",
      "Epoch 362/500\n",
      "2/2 [==============================] - 0s 3ms/step - loss: 6.8143 - mae: 6.8143\n",
      "Epoch 363/500\n",
      "2/2 [==============================] - 0s 2ms/step - loss: 23.7579 - mae: 23.7579\n",
      "Epoch 364/500\n",
      "2/2 [==============================] - 0s 2ms/step - loss: 29.4391 - mae: 29.4391\n",
      "Epoch 365/500\n",
      "2/2 [==============================] - 0s 2ms/step - loss: 8.2609 - mae: 8.2609\n",
      "Epoch 366/500\n",
      "2/2 [==============================] - 0s 2ms/step - loss: 6.1080 - mae: 6.1080\n",
      "Epoch 367/500\n",
      "2/2 [==============================] - 0s 2ms/step - loss: 34.5084 - mae: 34.5084\n",
      "Epoch 368/500\n",
      "2/2 [==============================] - 0s 3ms/step - loss: 7.3386 - mae: 7.3386\n",
      "Epoch 369/500\n",
      "2/2 [==============================] - 0s 2ms/step - loss: 8.6853 - mae: 8.6853\n",
      "Epoch 370/500\n",
      "2/2 [==============================] - 0s 3ms/step - loss: 14.2204 - mae: 14.2204\n",
      "Epoch 371/500\n",
      "2/2 [==============================] - 0s 2ms/step - loss: 6.8365 - mae: 6.8365\n",
      "Epoch 372/500\n",
      "2/2 [==============================] - 0s 3ms/step - loss: 6.5532 - mae: 6.5532\n",
      "Epoch 373/500\n",
      "2/2 [==============================] - 0s 3ms/step - loss: 24.1444 - mae: 24.1444\n",
      "Epoch 374/500\n",
      "2/2 [==============================] - 0s 2ms/step - loss: 10.2379 - mae: 10.2379\n",
      "Epoch 375/500\n",
      "2/2 [==============================] - 0s 2ms/step - loss: 12.8609 - mae: 12.8609\n",
      "Epoch 376/500\n",
      "2/2 [==============================] - 0s 2ms/step - loss: 14.7345 - mae: 14.7345\n",
      "Epoch 377/500\n",
      "2/2 [==============================] - 0s 2ms/step - loss: 14.6624 - mae: 14.6624\n",
      "Epoch 378/500\n",
      "2/2 [==============================] - 0s 1ms/step - loss: 16.1848 - mae: 16.1848\n",
      "Epoch 379/500\n",
      "2/2 [==============================] - 0s 2ms/step - loss: 20.6248 - mae: 20.6248\n",
      "Epoch 380/500\n",
      "2/2 [==============================] - 0s 2ms/step - loss: 34.1467 - mae: 34.1467\n",
      "Epoch 381/500\n",
      "2/2 [==============================] - 0s 3ms/step - loss: 8.8398 - mae: 8.8398\n",
      "Epoch 382/500\n",
      "2/2 [==============================] - 0s 2ms/step - loss: 9.5903 - mae: 9.5903\n",
      "Epoch 383/500\n",
      "2/2 [==============================] - 0s 2ms/step - loss: 5.7475 - mae: 5.7475\n",
      "Epoch 384/500\n",
      "2/2 [==============================] - 0s 2ms/step - loss: 8.7343 - mae: 8.7343\n",
      "Epoch 385/500\n",
      "2/2 [==============================] - 0s 2ms/step - loss: 4.9610 - mae: 4.9610\n",
      "Epoch 386/500\n",
      "2/2 [==============================] - 0s 2ms/step - loss: 25.1394 - mae: 25.1394\n",
      "Epoch 387/500\n",
      "2/2 [==============================] - 0s 2ms/step - loss: 15.0848 - mae: 15.0848\n",
      "Epoch 388/500\n",
      "2/2 [==============================] - 0s 3ms/step - loss: 6.6537 - mae: 6.6537\n",
      "Epoch 389/500\n",
      "2/2 [==============================] - 0s 2ms/step - loss: 17.5735 - mae: 17.5735\n",
      "Epoch 390/500\n",
      "2/2 [==============================] - 0s 3ms/step - loss: 23.8722 - mae: 23.8722\n",
      "Epoch 391/500\n",
      "2/2 [==============================] - 0s 2ms/step - loss: 16.4860 - mae: 16.4860\n",
      "Epoch 392/500\n",
      "2/2 [==============================] - 0s 2ms/step - loss: 8.3799 - mae: 8.3799\n",
      "Epoch 393/500\n",
      "2/2 [==============================] - 0s 2ms/step - loss: 18.1540 - mae: 18.1540\n",
      "Epoch 394/500\n",
      "2/2 [==============================] - 0s 2ms/step - loss: 14.2061 - mae: 14.2061\n",
      "Epoch 395/500\n",
      "2/2 [==============================] - 0s 3ms/step - loss: 28.6830 - mae: 28.6830\n",
      "Epoch 396/500\n",
      "2/2 [==============================] - 0s 2ms/step - loss: 8.2067 - mae: 8.2067\n",
      "Epoch 397/500\n",
      "2/2 [==============================] - 0s 3ms/step - loss: 10.4882 - mae: 10.4882\n",
      "Epoch 398/500\n",
      "2/2 [==============================] - 0s 2ms/step - loss: 7.3829 - mae: 7.3829\n",
      "Epoch 399/500\n",
      "2/2 [==============================] - 0s 3ms/step - loss: 15.5525 - mae: 15.5525\n",
      "Epoch 400/500\n",
      "2/2 [==============================] - 0s 2ms/step - loss: 6.7261 - mae: 6.7261\n",
      "Epoch 401/500\n",
      "2/2 [==============================] - 0s 2ms/step - loss: 7.9880 - mae: 7.9880\n",
      "Epoch 402/500\n",
      "2/2 [==============================] - 0s 2ms/step - loss: 16.3915 - mae: 16.3915\n",
      "Epoch 403/500\n",
      "2/2 [==============================] - 0s 2ms/step - loss: 12.3790 - mae: 12.3790\n",
      "Epoch 404/500\n",
      "2/2 [==============================] - 0s 2ms/step - loss: 22.9715 - mae: 22.9715\n",
      "Epoch 405/500\n",
      "2/2 [==============================] - 0s 3ms/step - loss: 18.0145 - mae: 18.0145\n",
      "Epoch 406/500\n",
      "2/2 [==============================] - 0s 2ms/step - loss: 7.0428 - mae: 7.0428\n",
      "Epoch 407/500\n",
      "2/2 [==============================] - 0s 3ms/step - loss: 12.5847 - mae: 12.5847\n",
      "Epoch 408/500\n",
      "2/2 [==============================] - 0s 2ms/step - loss: 5.6744 - mae: 5.6744\n",
      "Epoch 409/500\n",
      "2/2 [==============================] - 0s 2ms/step - loss: 31.0699 - mae: 31.0699\n",
      "Epoch 410/500\n",
      "2/2 [==============================] - 0s 2ms/step - loss: 9.2949 - mae: 9.2949\n",
      "Epoch 411/500\n",
      "2/2 [==============================] - 0s 2ms/step - loss: 14.9031 - mae: 14.9031\n",
      "Epoch 412/500\n",
      "2/2 [==============================] - 0s 3ms/step - loss: 21.8005 - mae: 21.8005\n",
      "Epoch 413/500\n",
      "2/2 [==============================] - 0s 3ms/step - loss: 12.5131 - mae: 12.5131\n",
      "Epoch 414/500\n",
      "2/2 [==============================] - 0s 3ms/step - loss: 6.0941 - mae: 6.0941\n",
      "Epoch 415/500\n",
      "2/2 [==============================] - 0s 4ms/step - loss: 13.2518 - mae: 13.2518\n",
      "Epoch 416/500\n",
      "2/2 [==============================] - 0s 3ms/step - loss: 27.4879 - mae: 27.4879\n",
      "Epoch 417/500\n",
      "2/2 [==============================] - 0s 3ms/step - loss: 10.4894 - mae: 10.4894\n",
      "Epoch 418/500\n",
      "2/2 [==============================] - 0s 4ms/step - loss: 12.8735 - mae: 12.8735\n",
      "Epoch 419/500\n",
      "2/2 [==============================] - 0s 3ms/step - loss: 15.9124 - mae: 15.9124\n",
      "Epoch 420/500\n",
      "2/2 [==============================] - 0s 3ms/step - loss: 24.8210 - mae: 24.8210\n",
      "Epoch 421/500\n",
      "2/2 [==============================] - 0s 3ms/step - loss: 17.2070 - mae: 17.2070\n",
      "Epoch 422/500\n",
      "2/2 [==============================] - 0s 3ms/step - loss: 7.8224 - mae: 7.8224\n",
      "Epoch 423/500\n",
      "2/2 [==============================] - 0s 3ms/step - loss: 25.4446 - mae: 25.4446\n",
      "Epoch 424/500\n",
      "2/2 [==============================] - 0s 3ms/step - loss: 14.9595 - mae: 14.9595\n",
      "Epoch 425/500\n",
      "2/2 [==============================] - 0s 3ms/step - loss: 7.1071 - mae: 7.1071\n",
      "Epoch 426/500\n",
      "2/2 [==============================] - 0s 3ms/step - loss: 20.1569 - mae: 20.1569\n",
      "Epoch 427/500\n",
      "2/2 [==============================] - 0s 2ms/step - loss: 6.2677 - mae: 6.2677\n",
      "Epoch 428/500\n",
      "2/2 [==============================] - 0s 3ms/step - loss: 12.6563 - mae: 12.6563\n",
      "Epoch 429/500\n",
      "2/2 [==============================] - 0s 3ms/step - loss: 12.0960 - mae: 12.0960\n",
      "Epoch 430/500\n",
      "2/2 [==============================] - 0s 3ms/step - loss: 11.0940 - mae: 11.0940\n",
      "Epoch 431/500\n",
      "2/2 [==============================] - 0s 3ms/step - loss: 10.0177 - mae: 10.0177\n",
      "Epoch 432/500\n",
      "2/2 [==============================] - 0s 2ms/step - loss: 13.3635 - mae: 13.3635\n",
      "Epoch 433/500\n",
      "2/2 [==============================] - 0s 3ms/step - loss: 11.3840 - mae: 11.3840\n",
      "Epoch 434/500\n",
      "2/2 [==============================] - 0s 2ms/step - loss: 30.4181 - mae: 30.4181\n",
      "Epoch 435/500\n",
      "2/2 [==============================] - 0s 3ms/step - loss: 10.5025 - mae: 10.5025\n",
      "Epoch 436/500\n",
      "2/2 [==============================] - 0s 3ms/step - loss: 28.9030 - mae: 28.9030\n",
      "Epoch 437/500\n",
      "2/2 [==============================] - 0s 2ms/step - loss: 8.6078 - mae: 8.6078\n",
      "Epoch 438/500\n",
      "2/2 [==============================] - 0s 2ms/step - loss: 12.7370 - mae: 12.7370\n",
      "Epoch 439/500\n",
      "2/2 [==============================] - 0s 3ms/step - loss: 33.6905 - mae: 33.6905\n",
      "Epoch 440/500\n",
      "2/2 [==============================] - 0s 2ms/step - loss: 15.1092 - mae: 15.1092\n",
      "Epoch 441/500\n",
      "2/2 [==============================] - 0s 3ms/step - loss: 17.4910 - mae: 17.4910\n",
      "Epoch 442/500\n",
      "2/2 [==============================] - 0s 2ms/step - loss: 22.3351 - mae: 22.3351\n",
      "Epoch 443/500\n",
      "2/2 [==============================] - 0s 4ms/step - loss: 23.5135 - mae: 23.5135\n",
      "Epoch 444/500\n",
      "2/2 [==============================] - 0s 3ms/step - loss: 10.9375 - mae: 10.9375\n",
      "Epoch 445/500\n",
      "2/2 [==============================] - 0s 3ms/step - loss: 14.9322 - mae: 14.9322\n",
      "Epoch 446/500\n",
      "2/2 [==============================] - 0s 4ms/step - loss: 18.0209 - mae: 18.0209\n",
      "Epoch 447/500\n",
      "2/2 [==============================] - 0s 3ms/step - loss: 5.4084 - mae: 5.4084\n",
      "Epoch 448/500\n",
      "2/2 [==============================] - 0s 2ms/step - loss: 10.0721 - mae: 10.0721\n",
      "Epoch 449/500\n",
      "2/2 [==============================] - 0s 3ms/step - loss: 14.0213 - mae: 14.0213\n",
      "Epoch 450/500\n",
      "2/2 [==============================] - 0s 3ms/step - loss: 16.7930 - mae: 16.7930\n",
      "Epoch 451/500\n",
      "2/2 [==============================] - 0s 4ms/step - loss: 14.2968 - mae: 14.2968\n",
      "Epoch 452/500\n",
      "2/2 [==============================] - 0s 3ms/step - loss: 30.6382 - mae: 30.6382\n",
      "Epoch 453/500\n",
      "2/2 [==============================] - 0s 3ms/step - loss: 7.6471 - mae: 7.6471\n",
      "Epoch 454/500\n",
      "2/2 [==============================] - 0s 4ms/step - loss: 28.1639 - mae: 28.1639\n",
      "Epoch 455/500\n",
      "2/2 [==============================] - 0s 2ms/step - loss: 7.9552 - mae: 7.9552\n",
      "Epoch 456/500\n",
      "2/2 [==============================] - 0s 2ms/step - loss: 10.4065 - mae: 10.4065\n",
      "Epoch 457/500\n",
      "2/2 [==============================] - 0s 2ms/step - loss: 15.0418 - mae: 15.0418\n",
      "Epoch 458/500\n",
      "2/2 [==============================] - 0s 3ms/step - loss: 16.5709 - mae: 16.5709\n",
      "Epoch 459/500\n",
      "2/2 [==============================] - 0s 3ms/step - loss: 26.8802 - mae: 26.8802\n",
      "Epoch 460/500\n",
      "2/2 [==============================] - 0s 2ms/step - loss: 12.4289 - mae: 12.4289\n",
      "Epoch 461/500\n",
      "2/2 [==============================] - 0s 3ms/step - loss: 12.4970 - mae: 12.4970\n",
      "Epoch 462/500\n",
      "2/2 [==============================] - 0s 3ms/step - loss: 13.3265 - mae: 13.3265\n",
      "Epoch 463/500\n",
      "2/2 [==============================] - 0s 2ms/step - loss: 29.5723 - mae: 29.5723\n",
      "Epoch 464/500\n",
      "2/2 [==============================] - 0s 3ms/step - loss: 3.4551 - mae: 3.4551\n",
      "Epoch 465/500\n",
      "2/2 [==============================] - 0s 4ms/step - loss: 15.2294 - mae: 15.2294\n",
      "Epoch 466/500\n",
      "2/2 [==============================] - 0s 2ms/step - loss: 20.8631 - mae: 20.8631\n",
      "Epoch 467/500\n",
      "2/2 [==============================] - 0s 4ms/step - loss: 30.4325 - mae: 30.4325\n",
      "Epoch 468/500\n",
      "2/2 [==============================] - 0s 3ms/step - loss: 11.0177 - mae: 11.0177\n",
      "Epoch 469/500\n",
      "2/2 [==============================] - 0s 2ms/step - loss: 12.7862 - mae: 12.7862\n",
      "Epoch 470/500\n",
      "2/2 [==============================] - 0s 4ms/step - loss: 3.2208 - mae: 3.2208\n",
      "Epoch 471/500\n",
      "2/2 [==============================] - 0s 5ms/step - loss: 16.7156 - mae: 16.7156\n",
      "Epoch 472/500\n",
      "2/2 [==============================] - 0s 4ms/step - loss: 13.4054 - mae: 13.4054\n",
      "Epoch 473/500\n",
      "2/2 [==============================] - 0s 8ms/step - loss: 15.2931 - mae: 15.2931\n",
      "Epoch 474/500\n",
      "2/2 [==============================] - 0s 4ms/step - loss: 11.7604 - mae: 11.7604\n",
      "Epoch 475/500\n",
      "2/2 [==============================] - 0s 4ms/step - loss: 16.4321 - mae: 16.4321\n",
      "Epoch 476/500\n",
      "2/2 [==============================] - 0s 3ms/step - loss: 14.0069 - mae: 14.0069\n",
      "Epoch 477/500\n",
      "2/2 [==============================] - 0s 3ms/step - loss: 30.5862 - mae: 30.5862\n",
      "Epoch 478/500\n",
      "2/2 [==============================] - 0s 3ms/step - loss: 8.1693 - mae: 8.1693\n",
      "Epoch 479/500\n",
      "2/2 [==============================] - 0s 4ms/step - loss: 11.2276 - mae: 11.2276\n",
      "Epoch 480/500\n",
      "2/2 [==============================] - 0s 3ms/step - loss: 17.8934 - mae: 17.8934\n",
      "Epoch 481/500\n",
      "2/2 [==============================] - 0s 2ms/step - loss: 15.8000 - mae: 15.8000\n",
      "Epoch 482/500\n",
      "2/2 [==============================] - 0s 2ms/step - loss: 21.2923 - mae: 21.2923\n",
      "Epoch 483/500\n",
      "2/2 [==============================] - 0s 3ms/step - loss: 25.4153 - mae: 25.4153\n",
      "Epoch 484/500\n",
      "2/2 [==============================] - 0s 2ms/step - loss: 24.0084 - mae: 24.0084\n",
      "Epoch 485/500\n",
      "2/2 [==============================] - 0s 2ms/step - loss: 5.7663 - mae: 5.7663\n",
      "Epoch 486/500\n",
      "2/2 [==============================] - 0s 2ms/step - loss: 20.0279 - mae: 20.0279\n",
      "Epoch 487/500\n",
      "2/2 [==============================] - 0s 2ms/step - loss: 14.0383 - mae: 14.0383\n",
      "Epoch 488/500\n",
      "2/2 [==============================] - 0s 3ms/step - loss: 30.6057 - mae: 30.6057\n",
      "Epoch 489/500\n",
      "2/2 [==============================] - 0s 4ms/step - loss: 11.9324 - mae: 11.9324\n",
      "Epoch 490/500\n",
      "2/2 [==============================] - 0s 3ms/step - loss: 12.7299 - mae: 12.7299\n",
      "Epoch 491/500\n",
      "2/2 [==============================] - 0s 3ms/step - loss: 23.6069 - mae: 23.6069\n",
      "Epoch 492/500\n",
      "2/2 [==============================] - 0s 2ms/step - loss: 20.5582 - mae: 20.5582\n",
      "Epoch 493/500\n",
      "2/2 [==============================] - 0s 2ms/step - loss: 4.9865 - mae: 4.9865\n",
      "Epoch 494/500\n",
      "2/2 [==============================] - 0s 3ms/step - loss: 12.8094 - mae: 12.8094\n",
      "Epoch 495/500\n",
      "2/2 [==============================] - 0s 2ms/step - loss: 13.3707 - mae: 13.3707\n",
      "Epoch 496/500\n",
      "2/2 [==============================] - 0s 3ms/step - loss: 12.6678 - mae: 12.6678\n",
      "Epoch 497/500\n",
      "2/2 [==============================] - 0s 3ms/step - loss: 17.6087 - mae: 17.6087\n",
      "Epoch 498/500\n",
      "2/2 [==============================] - 0s 2ms/step - loss: 23.5822 - mae: 23.5822\n",
      "Epoch 499/500\n",
      "2/2 [==============================] - 0s 3ms/step - loss: 9.3903 - mae: 9.3903\n",
      "Epoch 500/500\n",
      "2/2 [==============================] - 0s 2ms/step - loss: 14.6258 - mae: 14.6258\n"
     ]
    },
    {
     "data": {
      "text/plain": [
       "<keras.callbacks.History at 0x12094260e20>"
      ]
     },
     "execution_count": 75,
     "metadata": {},
     "output_type": "execute_result"
    }
   ],
   "source": [
    "# Set random seed\n",
    "tf.random.set_seed(42)\n",
    "\n",
    "# Replicate model_2\n",
    "model_3 = tf.keras.Sequential([\n",
    "  tf.keras.layers.Dense(1),\n",
    "  tf.keras.layers.Dense(1)\n",
    "])\n",
    "\n",
    "# Compile the model\n",
    "model_3.compile(loss=tf.keras.losses.mae,\n",
    "                optimizer=tf.keras.optimizers.SGD(),\n",
    "                metrics=['mae'])\n",
    "\n",
    "# Fit the model (this time for 500 epochs, not 100)\n",
    "model_3.fit(tf.expand_dims(X_train, axis=-1), y_train, epochs=500) # set verbose to 0 for less output"
   ]
  },
  {
   "cell_type": "code",
   "execution_count": 76,
   "metadata": {},
   "outputs": [
    {
     "data": {
      "image/png": "[encoded data removed]",
      "text/plain": [
       "<Figure size 1000x700 with 1 Axes>"
      ]
     },
     "metadata": {},
     "output_type": "display_data"
    }
   ],
   "source": [
    "# Make and plot predictions for model_3\n",
    "y_preds_3 = model_3.predict(X_test)\n",
    "plot_predictions(predictions=y_preds_3)"
   ]
  },
  {
   "cell_type": "markdown",
   "metadata": {},
   "source": [
    "Strange, we trained for longer but our model performed worse?\n",
    "\n",
    "As it turns out, our model might've trained too long and has thus resulted in worse results (we'll see ways to prevent training for too long later on)."
   ]
  },
  {
   "cell_type": "code",
   "execution_count": 77,
   "metadata": {},
   "outputs": [
    {
     "data": {
      "text/plain": [
       "(68.68785, 4804.47)"
      ]
     },
     "execution_count": 77,
     "metadata": {},
     "output_type": "execute_result"
    }
   ],
   "source": [
    "# Calculate model_3 metrics\n",
    "mae_3 = mae(y_test, y_preds_3.squeeze()).numpy()\n",
    "mse_3 = mse(y_test, y_preds_3.squeeze()).numpy()\n",
    "mae_3, mse_3"
   ]
  },
  {
   "cell_type": "markdown",
   "metadata": {},
   "source": [
    "## Comparing results\n",
    "\n",
    "Now we've got results for 3 similar but slightly different results, let's compare them."
   ]
  },
  {
   "cell_type": "code",
   "execution_count": 78,
   "metadata": {},
   "outputs": [
    {
     "data": {
      "text/plain": [
       "<keras.callbacks.History at 0x120945b7820>"
      ]
     },
     "execution_count": 78,
     "metadata": {},
     "output_type": "execute_result"
    }
   ],
   "source": [
    "# Set random seed\n",
    "tf.random.set_seed(42)\n",
    "\n",
    "# Replicate model_2\n",
    "model_3 = tf.keras.Sequential([\n",
    "  tf.keras.layers.Dense(1),\n",
    "  tf.keras.layers.Dense(1)\n",
    "])\n",
    "\n",
    "# Compile the model\n",
    "model_3.compile(loss=tf.keras.losses.mae,\n",
    "                optimizer=tf.keras.optimizers.SGD(),\n",
    "                metrics=['mae'])\n",
    "\n",
    "# Fit the model (this time for 500 epochs, not 100)\n",
    "model_3.fit(tf.expand_dims(X_train, axis=-1), y_train, epochs=500, verbose=0) # set verbose to 0 for less output"
   ]
  },
  {
   "cell_type": "code",
   "execution_count": 79,
   "metadata": {},
   "outputs": [
    {
     "data": {
      "text/plain": [
       "'2.8.2'"
      ]
     },
     "execution_count": 79,
     "metadata": {},
     "output_type": "execute_result"
    }
   ],
   "source": [
    "tf.__version__"
   ]
  },
  {
   "cell_type": "code",
   "execution_count": 80,
   "metadata": {},
   "outputs": [
    {
     "name": "stdout",
     "output_type": "stream",
     "text": [
      "[name: \"/device:CPU:0\"\n",
      "device_type: \"CPU\"\n",
      "memory_limit: 268435456\n",
      "locality {\n",
      "}\n",
      "incarnation: 6011987219332029425\n",
      "xla_global_id: -1\n",
      "]\n"
     ]
    }
   ],
   "source": [
    "from tensorflow.python.client import device_lib\n",
    "print(device_lib.list_local_devices())"
   ]
  },
  {
   "cell_type": "code",
   "execution_count": 81,
   "metadata": {},
   "outputs": [
    {
     "data": {
      "text/plain": [
       "<keras.callbacks.History at 0x120949bbdc0>"
      ]
     },
     "execution_count": 81,
     "metadata": {},
     "output_type": "execute_result"
    }
   ],
   "source": [
    "X= tf.range(-100,100,4)\n",
    "y = X+10\n",
    "tf.random.set_seed(42)\n",
    "\n",
    "# Replicate model_2\n",
    "model_3 = tf.keras.Sequential([\n",
    "  tf.keras.layers.Dense(1),\n",
    "  tf.keras.layers.Dense(1)\n",
    "])\n",
    "\n",
    "# Compile the model\n",
    "model_3.compile(loss=tf.keras.losses.mae,\n",
    "                optimizer=tf.keras.optimizers.SGD(),\n",
    "                metrics=['mae'])\n",
    "\n",
    "# Fit the model (this time for 500 epochs, not 100)\n",
    "model_3.fit(tf.expand_dims(X, axis=-1), y, epochs=500, verbose=0) # set verbose to 0 for less output"
   ]
  },
  {
   "cell_type": "code",
   "execution_count": 84,
   "metadata": {},
   "outputs": [
    {
     "data": {
      "text/plain": [
       "'2.8.2'"
      ]
     },
     "execution_count": 84,
     "metadata": {},
     "output_type": "execute_result"
    }
   ],
   "source": [
    "tf.__version__"
   ]
  }
 ],
 "metadata": {
  "kernelspec": {
   "display_name": "Python 3 (ipykernel)",
   "language": "python",
   "name": "python3"
  },
  "language_info": {
   "codemirror_mode": {
    "name": "ipython",
    "version": 3
   },
   "file_extension": ".py",
   "mimetype": "text/x-python",
   "name": "python",
   "nbconvert_exporter": "python",
   "pygments_lexer": "ipython3",
   "version": "3.9.16"
  },
  "orig_nbformat": 4
 },
 "nbformat": 4,
 "nbformat_minor": 2
}
